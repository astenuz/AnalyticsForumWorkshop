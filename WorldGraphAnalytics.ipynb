{
    "nbformat_minor": 1, 
    "cells": [
        {
            "execution_count": 48, 
            "cell_type": "code", 
            "metadata": {}, 
            "outputs": [], 
            "source": "#!pip install --user pixiedust\n#!pip install ggplot\n#!pip install wget"
        }, 
        {
            "execution_count": 1, 
            "cell_type": "code", 
            "metadata": {}, 
            "outputs": [
                {
                    "output_type": "stream", 
                    "name": "stdout", 
                    "text": "Pixiedust database opened successfully\n"
                }, 
                {
                    "output_type": "display_data", 
                    "data": {
                        "text/html": "\n        <div style=\"margin:10px\">\n            <a href=\"https://github.com/ibm-watson-data-lab/pixiedust\" target=\"_new\">\n                <img src=\"https://github.com/ibm-watson-data-lab/pixiedust/raw/master/docs/_static/pd_icon32.png\" style=\"float:left;margin-right:10px\"/>\n            </a>\n            <span>Pixiedust version 1.1.7.1</span>\n        </div>\n        ", 
                        "text/plain": "<IPython.core.display.HTML object>"
                    }, 
                    "metadata": {}
                }, 
                {
                    "output_type": "stream", 
                    "name": "stdout", 
                    "text": "Package already installed: graphframes:graphframes:0\ngraphframes:graphframes:0.5.0-spark2.1-s_2.11 => /gpfs/fs01/user/se1f-2003f1257f20bb-7f578b9e48a9/data/libs/graphframes-0.5.0-spark2.1-s_2.11.jar\n"
                }
            ], 
            "source": "from pixiedust.packageManager import PackageManager\npkg=PackageManager()\npkg.installPackage(\"graphframes:graphframes:0\")\npkg.printAllPackages()\n\nsqlContext=SQLContext(sc)"
        }, 
        {
            "source": "# Librerias", 
            "cell_type": "markdown", 
            "metadata": {}
        }, 
        {
            "execution_count": 2, 
            "cell_type": "code", 
            "metadata": {}, 
            "outputs": [], 
            "source": "from graphframes import GraphFrame\nfrom pyspark.sql.functions import col, desc, when\nfrom pyspark.sql import functions as F\n\n#from ggplot import *\nimport matplotlib.pylab as plt\nimport pandas as pd\nimport seaborn as sns\nimport wget"
        }, 
        {
            "source": "# Cargamos archivos para crear grafo", 
            "cell_type": "markdown", 
            "metadata": {}
        }, 
        {
            "source": "Aqui cargamos los archivos de vertices y nodos, estos vienen de csv", 
            "cell_type": "markdown", 
            "metadata": {}
        }, 
        {
            "source": "Los vertices/nodos y aristas/relaciones son representados como dos dataframes de Spark. Mas sobre dataframes a continuacion.\n\nEn el dataframe de nodos debe existir una columna llamada `id` para designar el identificador del nodo. Igualmente, en el dataframe de relaciones deben existir columnas `src` y `dst` que denotan el origen y destino de la relacion. Estos ultimos, deben corresponder a ids validos del dataframe de nodos. ", 
            "cell_type": "markdown", 
            "metadata": {}
        }, 
        {
            "execution_count": 3, 
            "cell_type": "code", 
            "metadata": {}, 
            "outputs": [], 
            "source": "nodes_file = wget.download(\"https://raw.githubusercontent.com/astenuz/AnalyticsForumWorkshop/master/data/trade_agro_nodes.csv\")\nedges_file = wget.download(\"https://raw.githubusercontent.com/astenuz/AnalyticsForumWorkshop/master/data/trade_agro_edges.csv\")"
        }, 
        {
            "source": "El siguiente bloque carga los archivos csv como dataframes de spark.", 
            "cell_type": "markdown", 
            "metadata": {}
        }, 
        {
            "execution_count": 4, 
            "cell_type": "code", 
            "metadata": {}, 
            "outputs": [], 
            "source": "nodes_df = spark.read\\\n  .format('org.apache.spark.sql.execution.datasources.csv.CSVFileFormat')\\\n  .option('header', 'true')\\\n  .load(nodes_file)\n    \nedges_df = spark.read\\\n  .format('org.apache.spark.sql.execution.datasources.csv.CSVFileFormat')\\\n  .option('header', 'true')\\\n  .load(edges_file)"
        }, 
        {
            "source": "# Intro a Dataframes", 
            "cell_type": "markdown", 
            "metadata": {}
        }, 
        {
            "source": "Antes de continuar vamos a ver una introduccion corta a Dataframes de Spark para entender las operaciones basicas con tablas de datos que usaremos en el taller.", 
            "cell_type": "markdown", 
            "metadata": {}
        }, 
        {
            "source": "Un dataframe es basicamente una tabla, como de excel. Tiene columnas que interpretamos generalmente como atributos y filas que interpretamos como observaciones. Por ejemplo, veamos que hay en el dataframe de nodos.", 
            "cell_type": "markdown", 
            "metadata": {}
        }, 
        {
            "execution_count": 5, 
            "cell_type": "code", 
            "metadata": {}, 
            "outputs": [
                {
                    "execution_count": 5, 
                    "metadata": {}, 
                    "data": {
                        "text/plain": "[Row(id='AFG', name='Afghanistan', region='South Asia'),\n Row(id='ALB', name='Albania', region='Europe'),\n Row(id='ATA', name='Antarctica', region='Other'),\n Row(id='DZA', name='Algeria', region='Middle East and North Africa'),\n Row(id='ASM', name='American Samoa', region='Oceania')]"
                    }, 
                    "output_type": "execute_result"
                }
            ], 
            "source": "nodes_df.head(5)"
        }, 
        {
            "source": "Head selecciona los primeros 5 `Row` del dataframe, para obtener una representacion mas amigable podemos usar show o display.", 
            "cell_type": "markdown", 
            "metadata": {}
        }, 
        {
            "execution_count": 6, 
            "cell_type": "code", 
            "metadata": {
                "pixiedust": {
                    "displayParams": {
                        "handlerId": "tableView"
                    }
                }
            }, 
            "outputs": [
                {
                    "output_type": "display_data", 
                    "data": {
                        "text/html": "<style type=\"text/css\">.pd_warning{display:none;}</style><div class=\"pd_warning\"><em>Hey, there's something awesome here! To see it, open this notebook outside GitHub, in a viewer like Jupyter</em></div>\n        <div class=\"pd_save is-viewer-good\" style=\"padding-right:10px;text-align: center;line-height:initial !important;font-size: xx-large;font-weight: 500;color: coral;\">\n            \n        </div>\n    <div id=\"chartFigurece276c7a\" class=\"pd_save is-viewer-good\" style=\"overflow-x:auto\">\n            <style type=\"text/css\" class=\"pd_save\">\n    .df-table-wrapper .panel-heading {\n      border-radius: 0;\n      padding: 0px;\n    }\n    .df-table-wrapper .panel-heading:hover {\n      border-color: #008571;\n    }\n    .df-table-wrapper .panel-title a {\n      background-color: #f9f9fb;\n      color: #333333;\n      display: block;\n      outline: none;\n      padding: 10px 15px;\n      text-decoration: none;\n    }\n    .df-table-wrapper .panel-title a:hover {\n      background-color: #337ab7;\n      border-color: #2e6da4;\n      color: #ffffff;\n      display: block;\n      padding: 10px 15px;\n      text-decoration: none;\n    }\n    .df-table-wrapper {\n      font-size: small;\n      font-weight: 300;\n      letter-spacing: 0.5px;\n      line-height: normal;\n      height: inherit;\n      overflow: auto;\n    }\n    .df-table-search {\n      margin: 0 0 20px 0;\n    }\n    .df-table-search-count {\n      display: inline-block;\n      margin: 0 0 20px 0;\n    }\n    .df-table-container {\n      max-height: 50vh;\n      max-width: 100%;\n      overflow-x: auto;\n      position: relative;\n    }\n    .df-table-wrapper table {\n      border: 0 none #ffffff;\n      border-collapse: collapse;\n      margin: 0;\n      min-width: 100%;\n      padding: 0;\n      table-layout: fixed;\n      height: inherit;\n      overflow: auto;\n    }\n    .df-table-wrapper tr.hidden {\n      display: none;\n    }\n    .df-table-wrapper tr:nth-child(even) {\n      background-color: #f9f9fb;\n    }\n    .df-table-wrapper tr.even {\n      background-color: #f9f9fb;\n    }\n    .df-table-wrapper tr.odd {\n      background-color: #ffffff;\n    }\n    .df-table-wrapper td + td {\n      border-left: 1px solid #e0e0e0;\n    }\n  \n    .df-table-wrapper thead,\n    .fixed-header {\n      font-weight: 600;\n    }\n    .df-table-wrapper tr,\n    .fixed-row {\n      border: 0 none #ffffff;\n      margin: 0;\n      padding: 0;\n    }\n    .df-table-wrapper th,\n    .df-table-wrapper td,\n    .fixed-cell {\n      border: 0 none #ffffff;\n      margin: 0;\n      min-width: 50px;\n      padding: 5px 20px 5px 10px;\n      text-align: left;\n      word-wrap: break-word;\n    }\n    .df-table-wrapper th {\n      padding-bottom: 0;\n      padding-top: 0;\n    }\n    .df-table-wrapper th div {\n      max-height: 1px;\n      visibility: hidden;\n    }\n  \n    .df-schema-field {\n      margin-left: 10px;\n    }\n  \n    .fixed-header-container {\n      overflow: hidden;\n      position: relative;\n    }\n    .fixed-header {\n      border-bottom: 2px solid #000;\n      display: table;\n      position: relative;\n    }\n    .fixed-row {\n      display: table-row;\n    }\n    .fixed-cell {\n      display: table-cell;\n    }\n  </style>\n  \n  \n  <div class=\"df-table-wrapper df-table-wrapper-ce276c7a panel-group pd_save\">\n    <!-- dataframe schema -->\n    \n    <div class=\"panel panel-default\">\n      <div class=\"panel-heading\">\n        <h4 class=\"panel-title\" style=\"margin: 0px;\">\n          <a data-toggle=\"collapse\" href=\"#df-schema-ce276c7a\" data-parent=\"#df-table-wrapper-ce276c7a\">Schema</a>\n        </h4>\n      </div>\n      <div id=\"df-schema-ce276c7a\" class=\"panel-collapse collapse\">\n        <div class=\"panel-body\" style=\"font-family: monospace;\">\n          <div class=\"df-schema-fields\">\n            <div>Field types:</div>\n            \n              <div class=\"df-schema-field\"><strong>id: </strong> object</div>\n            \n              <div class=\"df-schema-field\"><strong>name: </strong> object</div>\n            \n              <div class=\"df-schema-field\"><strong>region: </strong> object</div>\n            \n          </div>\n        </div>\n      </div>\n    </div>\n    \n    <!-- dataframe table -->\n    <div class=\"panel panel-default\">\n      \n      <div class=\"panel-heading\">\n        <h4 class=\"panel-title\" style=\"margin: 0px;\">\n          <a data-toggle=\"collapse\" href=\"#df-table-ce276c7a\" data-parent=\"#df-table-wrapper-ce276c7a\"> Table</a>\n        </h4>\n      </div>\n      \n      <div id=\"df-table-ce276c7a\" class=\"panel-collapse collapse in\">\n        <div class=\"panel-body\">\n          \n          <input class=\"df-table-search form-control input-sm\" placeholder=\"Search table\" type=\"text\">\n          \n          <div>\n            \n            <span class=\"df-table-search-count\">Showing 106 of 106 rows</span>\n            \n          </div>\n          <!-- fixed header for when dataframe table scrolls -->\n          <div class=\"fixed-header-container\">\n            <div class=\"fixed-header\" style=\"width: 871px;\">\n              <div class=\"fixed-row\">\n                \n                <div class=\"fixed-cell\" style=\"width: 93px;\">id</div>\n                \n                <div class=\"fixed-cell\" style=\"width: 446px;\">name</div>\n                \n                <div class=\"fixed-cell\" style=\"width: 333px;\">region</div>\n                \n              </div>\n            </div>\n          </div>\n          <div class=\"df-table-container\">\n            <table class=\"df-table\">\n              <thead>\n                <tr>\n                  \n                  <th><div>id</div></th>\n                  \n                  <th><div>name</div></th>\n                  \n                  <th><div>region</div></th>\n                  \n                </tr>\n              </thead>\n              <tbody>\n                \n                <tr>\n                  \n                  <td>AFG</td>\n                  \n                  <td>Afghanistan</td>\n                  \n                  <td>South Asia</td>\n                  \n                </tr>\n                \n                <tr>\n                  \n                  <td>ATA</td>\n                  \n                  <td>Antarctica</td>\n                  \n                  <td>Other</td>\n                  \n                </tr>\n                \n                <tr>\n                  \n                  <td>AGO</td>\n                  \n                  <td>Angola</td>\n                  \n                  <td>Sub-Saharan Africa</td>\n                  \n                </tr>\n                \n                <tr>\n                  \n                  <td>AZE</td>\n                  \n                  <td>Azerbaijan</td>\n                  \n                  <td>Central and Northern Asia</td>\n                  \n                </tr>\n                \n                <tr>\n                  \n                  <td>AUS</td>\n                  \n                  <td>Australia</td>\n                  \n                  <td>Oceania</td>\n                  \n                </tr>\n                \n                <tr>\n                  \n                  <td>ARM</td>\n                  \n                  <td>Armenia</td>\n                  \n                  <td>Central and Northern Asia</td>\n                  \n                </tr>\n                \n                <tr>\n                  \n                  <td>BRB</td>\n                  \n                  <td>Barbados</td>\n                  \n                  <td>Caribbean and Central America</td>\n                  \n                </tr>\n                \n                <tr>\n                  \n                  <td>BEL</td>\n                  \n                  <td>Belgium</td>\n                  \n                  <td>Europe</td>\n                  \n                </tr>\n                \n                <tr>\n                  \n                  <td>BTN</td>\n                  \n                  <td>Bhutan</td>\n                  \n                  <td>South Asia</td>\n                  \n                </tr>\n                \n                <tr>\n                  \n                  <td>BOL</td>\n                  \n                  <td>Bolivia</td>\n                  \n                  <td>South America</td>\n                  \n                </tr>\n                \n                <tr>\n                  \n                  <td>BDI</td>\n                  \n                  <td>Burundi</td>\n                  \n                  <td>Sub-Saharan Africa</td>\n                  \n                </tr>\n                \n                <tr>\n                  \n                  <td>BLR</td>\n                  \n                  <td>Belarus</td>\n                  \n                  <td>Central and Northern Asia</td>\n                  \n                </tr>\n                \n                <tr>\n                  \n                  <td>KHM</td>\n                  \n                  <td>Cambodia</td>\n                  \n                  <td>Southeast Asia</td>\n                  \n                </tr>\n                \n                <tr>\n                  \n                  <td>CAN</td>\n                  \n                  <td>Canada</td>\n                  \n                  <td>North America</td>\n                  \n                </tr>\n                \n                <tr>\n                  \n                  <td>LKA</td>\n                  \n                  <td>Sri Lanka</td>\n                  \n                  <td>South Asia</td>\n                  \n                </tr>\n                \n                <tr>\n                  \n                  <td>CHL</td>\n                  \n                  <td>Chile</td>\n                  \n                  <td>South America</td>\n                  \n                </tr>\n                \n                <tr>\n                  \n                  <td>CXR</td>\n                  \n                  <td>Christmas Isds</td>\n                  \n                  <td>Oceania</td>\n                  \n                </tr>\n                \n                <tr>\n                  \n                  <td>COD</td>\n                  \n                  <td>Congo, Dem. Rep.</td>\n                  \n                  <td>Sub-Saharan Africa</td>\n                  \n                </tr>\n                \n                <tr>\n                  \n                  <td>COK</td>\n                  \n                  <td>Cook Isds</td>\n                  \n                  <td>Oceania</td>\n                  \n                </tr>\n                \n                <tr>\n                  \n                  <td>CRI</td>\n                  \n                  <td>Costa Rica</td>\n                  \n                  <td>Caribbean and Central America</td>\n                  \n                </tr>\n                \n                <tr>\n                  \n                  <td>CZE</td>\n                  \n                  <td>Czech Rep.</td>\n                  \n                  <td>Europe</td>\n                  \n                </tr>\n                \n                <tr>\n                  \n                  <td>BEN</td>\n                  \n                  <td>Benin</td>\n                  \n                  <td>Sub-Saharan Africa</td>\n                  \n                </tr>\n                \n                <tr>\n                  \n                  <td>DNK</td>\n                  \n                  <td>Denmark</td>\n                  \n                  <td>Europe</td>\n                  \n                </tr>\n                \n                <tr>\n                  \n                  <td>DMA</td>\n                  \n                  <td>Dominica</td>\n                  \n                  <td>Caribbean and Central America</td>\n                  \n                </tr>\n                \n                <tr>\n                  \n                  <td>SLV</td>\n                  \n                  <td>El Salvador</td>\n                  \n                  <td>Caribbean and Central America</td>\n                  \n                </tr>\n                \n                <tr>\n                  \n                  <td>ETH</td>\n                  \n                  <td>Ethiopia</td>\n                  \n                  <td>Sub-Saharan Africa</td>\n                  \n                </tr>\n                \n                <tr>\n                  \n                  <td>EST</td>\n                  \n                  <td>Estonia</td>\n                  \n                  <td>Europe</td>\n                  \n                </tr>\n                \n                <tr>\n                  \n                  <td>FRO</td>\n                  \n                  <td>Faeroe Isds</td>\n                  \n                  <td>Europe</td>\n                  \n                </tr>\n                \n                <tr>\n                  \n                  <td>SGS</td>\n                  \n                  <td>South Georgia and the South Sandwich Isds</td>\n                  \n                  <td>Other</td>\n                  \n                </tr>\n                \n                <tr>\n                  \n                  <td>FJI</td>\n                  \n                  <td>Fiji</td>\n                  \n                  <td>Oceania</td>\n                  \n                </tr>\n                \n                <tr>\n                  \n                  <td>FIN</td>\n                  \n                  <td>Finland</td>\n                  \n                  <td>Europe</td>\n                  \n                </tr>\n                \n                <tr>\n                  \n                  <td>GAB</td>\n                  \n                  <td>Gabon</td>\n                  \n                  <td>Sub-Saharan Africa</td>\n                  \n                </tr>\n                \n                <tr>\n                  \n                  <td>GEO</td>\n                  \n                  <td>Georgia</td>\n                  \n                  <td>Central and Northern Asia</td>\n                  \n                </tr>\n                \n                <tr>\n                  \n                  <td>GMB</td>\n                  \n                  <td>Gambia</td>\n                  \n                  <td>Sub-Saharan Africa</td>\n                  \n                </tr>\n                \n                <tr>\n                  \n                  <td>DEU</td>\n                  \n                  <td>Germany</td>\n                  \n                  <td>Europe</td>\n                  \n                </tr>\n                \n                <tr>\n                  \n                  <td>GIB</td>\n                  \n                  <td>Gibraltar</td>\n                  \n                  <td>Europe</td>\n                  \n                </tr>\n                \n                <tr>\n                  \n                  <td>KIR</td>\n                  \n                  <td>Kiribati</td>\n                  \n                  <td>Oceania</td>\n                  \n                </tr>\n                \n                <tr>\n                  \n                  <td>GRD</td>\n                  \n                  <td>Grenada</td>\n                  \n                  <td>Caribbean and Central America</td>\n                  \n                </tr>\n                \n                <tr>\n                  \n                  <td>GTM</td>\n                  \n                  <td>Guatemala</td>\n                  \n                  <td>Caribbean and Central America</td>\n                  \n                </tr>\n                \n                <tr>\n                  \n                  <td>GUY</td>\n                  \n                  <td>Guyana</td>\n                  \n                  <td>South America</td>\n                  \n                </tr>\n                \n                <tr>\n                  \n                  <td>HTI</td>\n                  \n                  <td>Haiti</td>\n                  \n                  <td>Caribbean and Central America</td>\n                  \n                </tr>\n                \n                <tr>\n                  \n                  <td>HMD</td>\n                  \n                  <td>Heard Island and McDonald Isds</td>\n                  \n                  <td>Other</td>\n                  \n                </tr>\n                \n                <tr>\n                  \n                  <td>HKG</td>\n                  \n                  <td>China, Hong Kong SAR</td>\n                  \n                  <td>China</td>\n                  \n                </tr>\n                \n                <tr>\n                  \n                  <td>IDN</td>\n                  \n                  <td>Indonesia</td>\n                  \n                  <td>Southeast Asia</td>\n                  \n                </tr>\n                \n                <tr>\n                  \n                  <td>JAM</td>\n                  \n                  <td>Jamaica</td>\n                  \n                  <td>Caribbean and Central America</td>\n                  \n                </tr>\n                \n                <tr>\n                  \n                  <td>KWT</td>\n                  \n                  <td>Kuwait</td>\n                  \n                  <td>Middle East and North Africa</td>\n                  \n                </tr>\n                \n                <tr>\n                  \n                  <td>LAO</td>\n                  \n                  <td>Lao PDR</td>\n                  \n                  <td>Southeast Asia</td>\n                  \n                </tr>\n                \n                <tr>\n                  \n                  <td>LBN</td>\n                  \n                  <td>Lebanon</td>\n                  \n                  <td>Middle East and North Africa</td>\n                  \n                </tr>\n                \n                <tr>\n                  \n                  <td>LVA</td>\n                  \n                  <td>Latvia</td>\n                  \n                  <td>Europe</td>\n                  \n                </tr>\n                \n                <tr>\n                  \n                  <td>LBY</td>\n                  \n                  <td>Libya</td>\n                  \n                  <td>Middle East and North Africa</td>\n                  \n                </tr>\n                \n                <tr>\n                  \n                  <td>LUX</td>\n                  \n                  <td>Luxembourg</td>\n                  \n                  <td>Europe</td>\n                  \n                </tr>\n                \n                <tr>\n                  \n                  <td>MAC</td>\n                  \n                  <td>China, Macao SAR</td>\n                  \n                  <td>China</td>\n                  \n                </tr>\n                \n                <tr>\n                  \n                  <td>MDG</td>\n                  \n                  <td>Madagascar</td>\n                  \n                  <td>Sub-Saharan Africa</td>\n                  \n                </tr>\n                \n                <tr>\n                  \n                  <td>MWI</td>\n                  \n                  <td>Malawi</td>\n                  \n                  <td>Sub-Saharan Africa</td>\n                  \n                </tr>\n                \n                <tr>\n                  \n                  <td>MYS</td>\n                  \n                  <td>Malaysia</td>\n                  \n                  <td>Southeast Asia</td>\n                  \n                </tr>\n                \n                <tr>\n                  \n                  <td>MLI</td>\n                  \n                  <td>Mali</td>\n                  \n                  <td>Sub-Saharan Africa</td>\n                  \n                </tr>\n                \n                <tr>\n                  \n                  <td>MLT</td>\n                  \n                  <td>Malta</td>\n                  \n                  <td>Europe</td>\n                  \n                </tr>\n                \n                <tr>\n                  \n                  <td>MNE</td>\n                  \n                  <td>Montenegro</td>\n                  \n                  <td>Europe</td>\n                  \n                </tr>\n                \n                <tr>\n                  \n                  <td>NRU</td>\n                  \n                  <td>Nauru</td>\n                  \n                  <td>Oceania</td>\n                  \n                </tr>\n                \n                <tr>\n                  \n                  <td>NPL</td>\n                  \n                  <td>Nepal</td>\n                  \n                  <td>South Asia</td>\n                  \n                </tr>\n                \n                <tr>\n                  \n                  <td>ABW</td>\n                  \n                  <td>Aruba</td>\n                  \n                  <td>Caribbean and Central America</td>\n                  \n                </tr>\n                \n                <tr>\n                  \n                  <td>SXM</td>\n                  \n                  <td>Sint Maarten (Dutch part)</td>\n                  \n                  <td>Caribbean and Central America</td>\n                  \n                </tr>\n                \n                <tr>\n                  \n                  <td>NCL</td>\n                  \n                  <td>New Caledonia</td>\n                  \n                  <td>Oceania</td>\n                  \n                </tr>\n                \n                <tr>\n                  \n                  <td>VUT</td>\n                  \n                  <td>Vanuatu</td>\n                  \n                  <td>Oceania</td>\n                  \n                </tr>\n                \n                <tr>\n                  \n                  <td>NIU</td>\n                  \n                  <td>Niue</td>\n                  \n                  <td>Oceania</td>\n                  \n                </tr>\n                \n                <tr>\n                  \n                  <td>NOR</td>\n                  \n                  <td>Norway</td>\n                  \n                  <td>Europe</td>\n                  \n                </tr>\n                \n                <tr>\n                  \n                  <td>MHL</td>\n                  \n                  <td>Marshall Isds</td>\n                  \n                  <td>Oceania</td>\n                  \n                </tr>\n                \n                <tr>\n                  \n                  <td>PLW</td>\n                  \n                  <td>Palau</td>\n                  \n                  <td>Oceania</td>\n                  \n                </tr>\n                \n                <tr>\n                  \n                  <td>PAK</td>\n                  \n                  <td>Pakistan</td>\n                  \n                  <td>South Asia</td>\n                  \n                </tr>\n                \n                <tr>\n                  \n                  <td>PRY</td>\n                  \n                  <td>Paraguay</td>\n                  \n                  <td>South America</td>\n                  \n                </tr>\n                \n                <tr>\n                  \n                  <td>PER</td>\n                  \n                  <td>Peru</td>\n                  \n                  <td>South America</td>\n                  \n                </tr>\n                \n                <tr>\n                  \n                  <td>PCN</td>\n                  \n                  <td>Pitcairn</td>\n                  \n                  <td>Oceania</td>\n                  \n                </tr>\n                \n                <tr>\n                  \n                  <td>GNB</td>\n                  \n                  <td>Guinea-Bissau</td>\n                  \n                  <td>Sub-Saharan Africa</td>\n                  \n                </tr>\n                \n                <tr>\n                  \n                  <td>TLS</td>\n                  \n                  <td>Timor-Leste</td>\n                  \n                  <td>Southeast Asia</td>\n                  \n                </tr>\n                \n                <tr>\n                  \n                  <td>QAT</td>\n                  \n                  <td>Qatar</td>\n                  \n                  <td>Middle East and North Africa</td>\n                  \n                </tr>\n                \n                <tr>\n                  \n                  <td>ROU</td>\n                  \n                  <td>Romania</td>\n                  \n                  <td>Europe</td>\n                  \n                </tr>\n                \n                <tr>\n                  \n                  <td>RUS</td>\n                  \n                  <td>Russian Federation</td>\n                  \n                  <td>Central and Northern Asia</td>\n                  \n                </tr>\n                \n                <tr>\n                  \n                  <td>BLM</td>\n                  \n                  <td>Saint-Barthelemy</td>\n                  \n                  <td>Caribbean and Central America</td>\n                  \n                </tr>\n                \n                <tr>\n                  \n                  <td>AIA</td>\n                  \n                  <td>Anguilla</td>\n                  \n                  <td>Caribbean and Central America</td>\n                  \n                </tr>\n                \n                <tr>\n                  \n                  <td>SPM</td>\n                  \n                  <td>Saint Pierre and Miquelon</td>\n                  \n                  <td>North America</td>\n                  \n                </tr>\n                \n                <tr>\n                  \n                  <td>VCT</td>\n                  \n                  <td>Saint Vincent and the Grenadines</td>\n                  \n                  <td>Caribbean and Central America</td>\n                  \n                </tr>\n                \n                <tr>\n                  \n                  <td>SMR</td>\n                  \n                  <td>San Marino</td>\n                  \n                  <td>Europe</td>\n                  \n                </tr>\n                \n                <tr>\n                  \n                  <td>STP</td>\n                  \n                  <td>Sao Tome and Principe</td>\n                  \n                  <td>Sub-Saharan Africa</td>\n                  \n                </tr>\n                \n                <tr>\n                  \n                  <td>SAU</td>\n                  \n                  <td>Saudi Arabia</td>\n                  \n                  <td>Middle East and North Africa</td>\n                  \n                </tr>\n                \n                <tr>\n                  \n                  <td>SRB</td>\n                  \n                  <td>Serbia</td>\n                  \n                  <td>Europe</td>\n                  \n                </tr>\n                \n                <tr>\n                  \n                  <td>IND</td>\n                  \n                  <td>India</td>\n                  \n                  <td>South Asia</td>\n                  \n                </tr>\n                \n                <tr>\n                  \n                  <td>SVK</td>\n                  \n                  <td>Slovakia</td>\n                  \n                  <td>Europe</td>\n                  \n                </tr>\n                \n                <tr>\n                  \n                  <td>VNM</td>\n                  \n                  <td>Vietnam</td>\n                  \n                  <td>Southeast Asia</td>\n                  \n                </tr>\n                \n                <tr>\n                  \n                  <td>SVN</td>\n                  \n                  <td>Slovenia</td>\n                  \n                  <td>Europe</td>\n                  \n                </tr>\n                \n                <tr>\n                  \n                  <td>ZAF</td>\n                  \n                  <td>South Africa</td>\n                  \n                  <td>Sub-Saharan Africa</td>\n                  \n                </tr>\n                \n                <tr>\n                  \n                  <td>ZWE</td>\n                  \n                  <td>Zimbabwe</td>\n                  \n                  <td>Sub-Saharan Africa</td>\n                  \n                </tr>\n                \n                <tr>\n                  \n                  <td>ESP</td>\n                  \n                  <td>Spain</td>\n                  \n                  <td>Europe</td>\n                  \n                </tr>\n                \n                <tr>\n                  \n                  <td>SSD</td>\n                  \n                  <td>South Sudan</td>\n                  \n                  <td>Sub-Saharan Africa</td>\n                  \n                </tr>\n                \n                <tr>\n                  \n                  <td>SDN</td>\n                  \n                  <td>Sudan</td>\n                  \n                  <td>Sub-Saharan Africa</td>\n                  \n                </tr>\n                \n                <tr>\n                  \n                  <td>ESH</td>\n                  \n                  <td>Western Sahara</td>\n                  \n                  <td>Middle East and North Africa</td>\n                  \n                </tr>\n                \n                <tr>\n                  \n                  <td>SUR</td>\n                  \n                  <td>Suriname</td>\n                  \n                  <td>South America</td>\n                  \n                </tr>\n                \n                <tr>\n                  \n                  <td>SWE</td>\n                  \n                  <td>Sweden</td>\n                  \n                  <td>Europe</td>\n                  \n                </tr>\n                \n                <tr>\n                  \n                  <td>TTO</td>\n                  \n                  <td>Trinidad and Tobago</td>\n                  \n                  <td>Caribbean and Central America</td>\n                  \n                </tr>\n                \n                <tr>\n                  \n                  <td>TKM</td>\n                  \n                  <td>Turkmenistan</td>\n                  \n                  <td>Central and Northern Asia</td>\n                  \n                </tr>\n                \n                <tr>\n                  \n                  <td>TCA</td>\n                  \n                  <td>Turks and Caicos Isds</td>\n                  \n                  <td>Caribbean and Central America</td>\n                  \n                </tr>\n                \n                <tr>\n                  \n                  <td>TUV</td>\n                  \n                  <td>Tuvalu</td>\n                  \n                  <td>Oceania</td>\n                  \n                </tr>\n                \n                <tr>\n                  \n                  <td>UGA</td>\n                  \n                  <td>Uganda</td>\n                  \n                  <td>Sub-Saharan Africa</td>\n                  \n                </tr>\n                \n                <tr>\n                  \n                  <td>UKR</td>\n                  \n                  <td>Ukraine</td>\n                  \n                  <td>Central and Northern Asia</td>\n                  \n                </tr>\n                \n                <tr>\n                  \n                  <td>EGY</td>\n                  \n                  <td>Egypt</td>\n                  \n                  <td>Middle East and North Africa</td>\n                  \n                </tr>\n                \n                <tr>\n                  \n                  <td>TZA</td>\n                  \n                  <td>Tanzania</td>\n                  \n                  <td>Sub-Saharan Africa</td>\n                  \n                </tr>\n                \n                <tr>\n                  \n                  <td>USA</td>\n                  \n                  <td>United States</td>\n                  \n                  <td>North America</td>\n                  \n                </tr>\n                \n              </tbody>\n            </table>\n          </div>\n        </div>\n      </div>\n    </div>\n  </div>\n  \n  <script class=\"pd_save\">\n    $(function() {\n      var tableWrapper = $('.df-table-wrapper-ce276c7a');\n      var fixedHeader = $('.fixed-header', tableWrapper);\n      var tableContainer = $('.df-table-container', tableWrapper);\n      var table = $('.df-table', tableContainer);\n      var rows = $('tbody > tr', table);\n      var total = 106;\n  \n      fixedHeader\n        .css('width', table.width())\n        .find('.fixed-cell')\n        .each(function(i, e) {\n          $(this).css('width', $('.df-table-wrapper-ce276c7a th:nth-child(' + (i+1) + ')').css('width'));\n        });\n  \n      tableContainer.scroll(function() {\n        fixedHeader.css({ left: table.position().left });\n      });\n  \n      rows.on(\"click\", function(e){\n          var txt = e.delegateTarget.innerText;\n          var splits = txt.split(\"\\t\");\n          var len = splits.length;\n          var hdrs = $(fixedHeader).find(\".fixed-cell\");\n          // Add all cells in the selected row as a map to be consumed by the target as needed\n          var payload = {type:\"select\", targetDivId: \"\" };\n          for (var i = 0; i < len; i++) {\n            payload[hdrs[i].innerHTML] = splits[i];\n          }\n  \n          //simple selection highlighting, client adds \"selected\" class\n          $(this).addClass(\"selected\").siblings().removeClass(\"selected\");\n          $(document).trigger('pd_event', payload);\n      });\n  \n      $('.df-table-search', tableWrapper).keyup(function() {\n        var val = '^(?=.*\\\\b' + $.trim($(this).val()).split(/\\s+/).join('\\\\b)(?=.*\\\\b') + ').*$';\n        var reg = RegExp(val, 'i');\n        var index = 0;\n        \n        rows.each(function(i, e) {\n          if (!reg.test($(this).text().replace(/\\s+/g, ' '))) {\n            $(this).attr('class', 'hidden');\n          }\n          else {\n            $(this).attr('class', (++index % 2 == 0 ? 'even' : 'odd'));\n          }\n        });\n        $('.df-table-search-count', tableWrapper).html('Showing ' + index + ' of ' + total + ' rows');\n      });\n    });\n  \n    $(\".df-table-wrapper td:contains('http://')\").each(function(){var tc = this.textContent; $(this).wrapInner(\"<a target='_blank' href='\" + tc + \"'></a>\");});\n    $(\".df-table-wrapper td:contains('https://')\").each(function(){var tc = this.textContent; $(this).wrapInner(\"<a target='_blank' href='\" + tc + \"'></a>\");});\n  </script>\n  \n        </div>", 
                        "text/plain": "<IPython.core.display.HTML object>"
                    }, 
                    "metadata": {}
                }
            ], 
            "source": "#nodes_df.show(5)\ndisplay(nodes_df)"
        }, 
        {
            "source": "Ademas de lo que acaban de ver, las operaciones que usaremos sobre dataframes en este lab son: `filter`, `select`, `withColumn`, `count`, `groupby` y `sort`", 
            "cell_type": "markdown", 
            "metadata": {}
        }, 
        {
            "source": "`filter` sirve para escoger filas que cumplen cierta condicion.", 
            "cell_type": "markdown", 
            "metadata": {}
        }, 
        {
            "execution_count": 7, 
            "cell_type": "code", 
            "metadata": {}, 
            "outputs": [
                {
                    "execution_count": 7, 
                    "metadata": {}, 
                    "data": {
                        "text/plain": "DataFrame[id: string, name: string, region: string]"
                    }, 
                    "output_type": "execute_result"
                }
            ], 
            "source": "nodes_df.filter(col(\"Region\")=='Oceania')"
        }, 
        {
            "execution_count": 8, 
            "cell_type": "code", 
            "metadata": {}, 
            "outputs": [
                {
                    "output_type": "stream", 
                    "name": "stdout", 
                    "text": "+---+--------------------+-------+\n| id|                name| region|\n+---+--------------------+-------+\n|ASM|      American Samoa|Oceania|\n|AUS|           Australia|Oceania|\n|BVT|       Bouvet Island|Oceania|\n|IOT|British Indian Oc...|Oceania|\n|SLB|        Solomon Isds|Oceania|\n+---+--------------------+-------+\nonly showing top 5 rows\n\n"
                }
            ], 
            "source": "nodes_df.filter(col(\"Region\")=='Oceania').show(5)"
        }, 
        {
            "source": "Para escoger columnas, usamos `select`", 
            "cell_type": "markdown", 
            "metadata": {}
        }, 
        {
            "execution_count": 9, 
            "cell_type": "code", 
            "metadata": {}, 
            "outputs": [
                {
                    "output_type": "stream", 
                    "name": "stdout", 
                    "text": "+--------------+\n|          name|\n+--------------+\n|   Afghanistan|\n|       Albania|\n|    Antarctica|\n|       Algeria|\n|American Samoa|\n+--------------+\nonly showing top 5 rows\n\n"
                }
            ], 
            "source": "nodes_df.select(\"name\").show(5)"
        }, 
        {
            "source": "Tambien podemos agregar columnas utilizando `withColumn`.", 
            "cell_type": "markdown", 
            "metadata": {}
        }, 
        {
            "execution_count": 10, 
            "cell_type": "code", 
            "metadata": {}, 
            "outputs": [
                {
                    "output_type": "stream", 
                    "name": "stdout", 
                    "text": "+---+---+--------------------+----------+----------+------------+\n|src|dst|            resource|     value|    weight|weight_mas_1|\n+---+---+--------------------+----------+----------+------------+\n|AFG|DZA|        Horticulture|    26.313|         3|         4.0|\n|AFG|DZA|     Rubber and gums|     1.507|     0.585|       1.585|\n|AFG|AUS|        Horticulture|40.0930017|34.3058425|  35.3058425|\n|AFG|AUS|            Oilseeds|     1.248|      0.46|        1.46|\n|AFG|AUS|Stimulants, tobac...|    34.645|      0.02|        1.02|\n+---+---+--------------------+----------+----------+------------+\nonly showing top 5 rows\n\n"
                }
            ], 
            "source": "edges_df\\\n    .withColumn(\"weight_mas_1\", col(\"weight\")+1)\\\n    .show(5)"
        }, 
        {
            "source": "Varias veces vamos a contar resultados usando `groupby` y `count`", 
            "cell_type": "markdown", 
            "metadata": {}
        }, 
        {
            "execution_count": 11, 
            "cell_type": "code", 
            "metadata": {}, 
            "outputs": [
                {
                    "output_type": "stream", 
                    "name": "stdout", 
                    "text": "+--------------------+-----+\n|              region|count|\n+--------------------+-----+\n|          South Asia|    8|\n|Middle East and N...|   20|\n|              Europe|   43|\n|  Sub-Saharan Africa|   50|\n|               China|    3|\n|               Other|    4|\n|       North America|    5|\n|East Asia excludi...|    3|\n|       South America|   13|\n|Caribbean and Cen...|   31|\n|             Oceania|   30|\n|Central and North...|   12|\n|      Southeast Asia|   11|\n+--------------------+-----+\n\n"
                }
            ], 
            "source": "nodes_df\\\n    .groupby(\"region\").count()\\\n    .show()"
        }, 
        {
            "execution_count": 12, 
            "cell_type": "code", 
            "metadata": {}, 
            "outputs": [
                {
                    "output_type": "stream", 
                    "name": "stdout", 
                    "text": "+--------------------+-----+\n|              region|count|\n+--------------------+-----+\n|          South Asia|    8|\n|Middle East and N...|   20|\n|              Europe|   43|\n|  Sub-Saharan Africa|   50|\n|               China|    3|\n|               Other|    4|\n|       North America|    5|\n|East Asia excludi...|    3|\n|       South America|   13|\n|Caribbean and Cen...|   31|\n|             Oceania|   30|\n|Central and North...|   12|\n|      Southeast Asia|   11|\n+--------------------+-----+\n\n"
                }
            ], 
            "source": "#una variante\n#note que esto permite contar ocurrencias de otras columnas dentro del grupo, \n#tambien debemos agregar el alias a la columna para que no quede nombrada como 'count(region)'\nnodes_df\\\n    .groupby(\"region\")\\\n    .agg(F.count(\"region\").alias(\"count\"))\\\n    .show()"
        }, 
        {
            "source": "`sort` permite ordenar valores, el orden por defecto es ascendente pero podemos invertirlo con `desc`", 
            "cell_type": "markdown", 
            "metadata": {}
        }, 
        {
            "execution_count": 13, 
            "cell_type": "code", 
            "metadata": {}, 
            "outputs": [
                {
                    "output_type": "stream", 
                    "name": "stdout", 
                    "text": "+--------------------+-----+\n|              region|count|\n+--------------------+-----+\n|  Sub-Saharan Africa|   50|\n|              Europe|   43|\n|Caribbean and Cen...|   31|\n|             Oceania|   30|\n|Middle East and N...|   20|\n|       South America|   13|\n|Central and North...|   12|\n|      Southeast Asia|   11|\n|          South Asia|    8|\n|       North America|    5|\n|               Other|    4|\n|               China|    3|\n|East Asia excludi...|    3|\n+--------------------+-----+\n\n"
                }
            ], 
            "source": "nodes_df\\\n    .groupby(\"region\").count()\\\n    .sort(desc(\"count\"))\\\n    .show()"
        }, 
        {
            "source": "Despues de todo esto, al fin podemos proseguir con los grafos.", 
            "cell_type": "markdown", 
            "metadata": {}
        }, 
        {
            "source": "# Grafos", 
            "cell_type": "markdown", 
            "metadata": {}
        }, 
        {
            "source": "GraphFrame permite crear el grafo", 
            "cell_type": "markdown", 
            "metadata": {}
        }, 
        {
            "execution_count": 14, 
            "cell_type": "code", 
            "metadata": {}, 
            "outputs": [
                {
                    "output_type": "stream", 
                    "name": "stdout", 
                    "text": "GraphFrame(v:[id: string, name: string ... 1 more field], e:[src: string, dst: string ... 3 more fields])\n"
                }
            ], 
            "source": "g = GraphFrame(nodes_df, edges_df)\nprint(g)"
        }, 
        {
            "source": "Atributos del grafo `g` como nodos y relaciones son Dataframes, asi que todo lo que vimos en la anterior seccion puede ser aplicado sobre los atributos `.vertices` y `.edges`. ", 
            "cell_type": "markdown", 
            "metadata": {}
        }, 
        {
            "execution_count": null, 
            "cell_type": "code", 
            "metadata": {
                "pixiedust": {
                    "displayParams": {
                        "handlerId": "tableView", 
                        "table_nosearch": "true", 
                        "table_nocount": "true", 
                        "table_noschema": "true"
                    }
                }
            }, 
            "outputs": [
                {
                    "output_type": "display_data", 
                    "data": {
                        "text/html": "<style type=\"text/css\">.pd_warning{display:none;}</style><div class=\"pd_warning\"><em>Hey, there's something awesome here! To see it, open this notebook outside GitHub, in a viewer like Jupyter</em></div>\n        <div class=\"pd_save is-viewer-good\" style=\"padding-right:10px;text-align: center;line-height:initial !important;font-size: xx-large;font-weight: 500;color: coral;\">\n            \n        </div>\n    <div id=\"chartFigurec1df10c5\" class=\"pd_save is-viewer-good\" style=\"overflow-x:auto\">\n            <style type=\"text/css\" class=\"pd_save\">\n    .df-table-wrapper .panel-heading {\n      border-radius: 0;\n      padding: 0px;\n    }\n    .df-table-wrapper .panel-heading:hover {\n      border-color: #008571;\n    }\n    .df-table-wrapper .panel-title a {\n      background-color: #f9f9fb;\n      color: #333333;\n      display: block;\n      outline: none;\n      padding: 10px 15px;\n      text-decoration: none;\n    }\n    .df-table-wrapper .panel-title a:hover {\n      background-color: #337ab7;\n      border-color: #2e6da4;\n      color: #ffffff;\n      display: block;\n      padding: 10px 15px;\n      text-decoration: none;\n    }\n    .df-table-wrapper {\n      font-size: small;\n      font-weight: 300;\n      letter-spacing: 0.5px;\n      line-height: normal;\n      height: inherit;\n      overflow: auto;\n    }\n    .df-table-search {\n      margin: 0 0 20px 0;\n    }\n    .df-table-search-count {\n      display: inline-block;\n      margin: 0 0 20px 0;\n    }\n    .df-table-container {\n      max-height: 50vh;\n      max-width: 100%;\n      overflow-x: auto;\n      position: relative;\n    }\n    .df-table-wrapper table {\n      border: 0 none #ffffff;\n      border-collapse: collapse;\n      margin: 0;\n      min-width: 100%;\n      padding: 0;\n      table-layout: fixed;\n      height: inherit;\n      overflow: auto;\n    }\n    .df-table-wrapper tr.hidden {\n      display: none;\n    }\n    .df-table-wrapper tr:nth-child(even) {\n      background-color: #f9f9fb;\n    }\n    .df-table-wrapper tr.even {\n      background-color: #f9f9fb;\n    }\n    .df-table-wrapper tr.odd {\n      background-color: #ffffff;\n    }\n    .df-table-wrapper td + td {\n      border-left: 1px solid #e0e0e0;\n    }\n  \n    .df-table-wrapper thead,\n    .fixed-header {\n      font-weight: 600;\n    }\n    .df-table-wrapper tr,\n    .fixed-row {\n      border: 0 none #ffffff;\n      margin: 0;\n      padding: 0;\n    }\n    .df-table-wrapper th,\n    .df-table-wrapper td,\n    .fixed-cell {\n      border: 0 none #ffffff;\n      margin: 0;\n      min-width: 50px;\n      padding: 5px 20px 5px 10px;\n      text-align: left;\n      word-wrap: break-word;\n    }\n    .df-table-wrapper th {\n      padding-bottom: 0;\n      padding-top: 0;\n    }\n    .df-table-wrapper th div {\n      max-height: 1px;\n      visibility: hidden;\n    }\n  \n    .df-schema-field {\n      margin-left: 10px;\n    }\n  \n    .fixed-header-container {\n      overflow: hidden;\n      position: relative;\n    }\n    .fixed-header {\n      border-bottom: 2px solid #000;\n      display: table;\n      position: relative;\n    }\n    .fixed-row {\n      display: table-row;\n    }\n    .fixed-cell {\n      display: table-cell;\n    }\n  </style>\n  \n  \n  <div class=\"df-table-wrapper df-table-wrapper-c1df10c5 panel-group pd_save\">\n    <!-- dataframe schema -->\n    \n    <!-- dataframe table -->\n    <div class=\"panel panel-default\" style=\"border:none;\">\n      \n      <div id=\"df-table-c1df10c5\" class=\"panel-collapse collapse in\">\n        <div class=\"panel-body\">\n          \n          <div>\n            \n          </div>\n          <!-- fixed header for when dataframe table scrolls -->\n          <div class=\"fixed-header-container\">\n            <div class=\"fixed-header\" style=\"width: 873px;\">\n              <div class=\"fixed-row\">\n                \n                <div class=\"fixed-cell\" style=\"width: 107px;\">id</div>\n                \n                <div class=\"fixed-cell\" style=\"width: 389px;\">name</div>\n                \n                <div class=\"fixed-cell\" style=\"width: 378px;\">region</div>\n                \n              </div>\n            </div>\n          </div>\n          <div class=\"df-table-container\">\n            <table class=\"df-table\">\n              <thead>\n                <tr>\n                  \n                  <th><div>id</div></th>\n                  \n                  <th><div>name</div></th>\n                  \n                  <th><div>region</div></th>\n                  \n                </tr>\n              </thead>\n              <tbody>\n                \n                <tr>\n                  \n                  <td>AFG</td>\n                  \n                  <td>Afghanistan</td>\n                  \n                  <td>South Asia</td>\n                  \n                </tr>\n                \n                <tr>\n                  \n                  <td>ATG</td>\n                  \n                  <td>Antigua and Barbuda</td>\n                  \n                  <td>Caribbean and Central America</td>\n                  \n                </tr>\n                \n                <tr>\n                  \n                  <td>ARG</td>\n                  \n                  <td>Argentina</td>\n                  \n                  <td>South America</td>\n                  \n                </tr>\n                \n                <tr>\n                  \n                  <td>AUS</td>\n                  \n                  <td>Australia</td>\n                  \n                  <td>Oceania</td>\n                  \n                </tr>\n                \n                <tr>\n                  \n                  <td>BHS</td>\n                  \n                  <td>Bahamas</td>\n                  \n                  <td>Caribbean and Central America</td>\n                  \n                </tr>\n                \n                <tr>\n                  \n                  <td>BGD</td>\n                  \n                  <td>Bangladesh</td>\n                  \n                  <td>South Asia</td>\n                  \n                </tr>\n                \n                <tr>\n                  \n                  <td>BMU</td>\n                  \n                  <td>Bermuda</td>\n                  \n                  <td>Caribbean and Central America</td>\n                  \n                </tr>\n                \n                <tr>\n                  \n                  <td>BTN</td>\n                  \n                  <td>Bhutan</td>\n                  \n                  <td>South Asia</td>\n                  \n                </tr>\n                \n                <tr>\n                  \n                  <td>BVT</td>\n                  \n                  <td>Bouvet Island</td>\n                  \n                  <td>Oceania</td>\n                  \n                </tr>\n                \n                <tr>\n                  \n                  <td>BRA</td>\n                  \n                  <td>Brazil</td>\n                  \n                  <td>South America</td>\n                  \n                </tr>\n                \n                <tr>\n                  \n                  <td>IOT</td>\n                  \n                  <td>British Indian Ocean Territory</td>\n                  \n                  <td>Oceania</td>\n                  \n                </tr>\n                \n                <tr>\n                  \n                  <td>BRN</td>\n                  \n                  <td>Brunei Darussalam</td>\n                  \n                  <td>Southeast Asia</td>\n                  \n                </tr>\n                \n                <tr>\n                  \n                  <td>BGR</td>\n                  \n                  <td>Bulgaria</td>\n                  \n                  <td>Europe</td>\n                  \n                </tr>\n                \n                <tr>\n                  \n                  <td>MMR</td>\n                  \n                  <td>Myanmar</td>\n                  \n                  <td>Southeast Asia</td>\n                  \n                </tr>\n                \n                <tr>\n                  \n                  <td>KHM</td>\n                  \n                  <td>Cambodia</td>\n                  \n                  <td>Southeast Asia</td>\n                  \n                </tr>\n                \n                <tr>\n                  \n                  <td>CHL</td>\n                  \n                  <td>Chile</td>\n                  \n                  <td>South America</td>\n                  \n                </tr>\n                \n                <tr>\n                  \n                  <td>CCK</td>\n                  \n                  <td>Cocos Isds</td>\n                  \n                  <td>Oceania</td>\n                  \n                </tr>\n                \n                <tr>\n                  \n                  <td>COG</td>\n                  \n                  <td>Congo, Rep.</td>\n                  \n                  <td>Sub-Saharan Africa</td>\n                  \n                </tr>\n                \n                <tr>\n                  \n                  <td>COK</td>\n                  \n                  <td>Cook Isds</td>\n                  \n                  <td>Oceania</td>\n                  \n                </tr>\n                \n                <tr>\n                  \n                  <td>CRI</td>\n                  \n                  <td>Costa Rica</td>\n                  \n                  <td>Caribbean and Central America</td>\n                  \n                </tr>\n                \n                <tr>\n                  \n                  <td>HRV</td>\n                  \n                  <td>Croatia</td>\n                  \n                  <td>Europe</td>\n                  \n                </tr>\n                \n                <tr>\n                  \n                  <td>CUB</td>\n                  \n                  <td>Cuba</td>\n                  \n                  <td>Caribbean and Central America</td>\n                  \n                </tr>\n                \n                <tr>\n                  \n                  <td>CZE</td>\n                  \n                  <td>Czech Rep.</td>\n                  \n                  <td>Europe</td>\n                  \n                </tr>\n                \n                <tr>\n                  \n                  <td>DOM</td>\n                  \n                  <td>Dominican Rep.</td>\n                  \n                  <td>Caribbean and Central America</td>\n                  \n                </tr>\n                \n                <tr>\n                  \n                  <td>GNQ</td>\n                  \n                  <td>Equatorial Guinea</td>\n                  \n                  <td>Sub-Saharan Africa</td>\n                  \n                </tr>\n                \n                <tr>\n                  \n                  <td>EST</td>\n                  \n                  <td>Estonia</td>\n                  \n                  <td>Europe</td>\n                  \n                </tr>\n                \n                <tr>\n                  \n                  <td>FRO</td>\n                  \n                  <td>Faeroe Isds</td>\n                  \n                  <td>Europe</td>\n                  \n                </tr>\n                \n                <tr>\n                  \n                  <td>FJI</td>\n                  \n                  <td>Fiji</td>\n                  \n                  <td>Oceania</td>\n                  \n                </tr>\n                \n                <tr>\n                  \n                  <td>FRA</td>\n                  \n                  <td>France</td>\n                  \n                  <td>Europe</td>\n                  \n                </tr>\n                \n                <tr>\n                  \n                  <td>PYF</td>\n                  \n                  <td>French Polynesia</td>\n                  \n                  <td>Oceania</td>\n                  \n                </tr>\n                \n                <tr>\n                  \n                  <td>GAB</td>\n                  \n                  <td>Gabon</td>\n                  \n                  <td>Sub-Saharan Africa</td>\n                  \n                </tr>\n                \n                <tr>\n                  \n                  <td>KIR</td>\n                  \n                  <td>Kiribati</td>\n                  \n                  <td>Oceania</td>\n                  \n                </tr>\n                \n                <tr>\n                  \n                  <td>GUM</td>\n                  \n                  <td>Guam</td>\n                  \n                  <td>Oceania</td>\n                  \n                </tr>\n                \n                <tr>\n                  \n                  <td>GIN</td>\n                  \n                  <td>Guinea</td>\n                  \n                  <td>Sub-Saharan Africa</td>\n                  \n                </tr>\n                \n                <tr>\n                  \n                  <td>GUY</td>\n                  \n                  <td>Guyana</td>\n                  \n                  <td>South America</td>\n                  \n                </tr>\n                \n                <tr>\n                  \n                  <td>HTI</td>\n                  \n                  <td>Haiti</td>\n                  \n                  <td>Caribbean and Central America</td>\n                  \n                </tr>\n                \n                <tr>\n                  \n                  <td>HMD</td>\n                  \n                  <td>Heard Island and McDonald Isds</td>\n                  \n                  <td>Other</td>\n                  \n                </tr>\n                \n                <tr>\n                  \n                  <td>VAT</td>\n                  \n                  <td>Holy See</td>\n                  \n                  <td>Europe</td>\n                  \n                </tr>\n                \n                <tr>\n                  \n                  <td>HND</td>\n                  \n                  <td>Honduras</td>\n                  \n                  <td>Caribbean and Central America</td>\n                  \n                </tr>\n                \n                <tr>\n                  \n                  <td>HUN</td>\n                  \n                  <td>Hungary</td>\n                  \n                  <td>Europe</td>\n                  \n                </tr>\n                \n                <tr>\n                  \n                  <td>IDN</td>\n                  \n                  <td>Indonesia</td>\n                  \n                  <td>Southeast Asia</td>\n                  \n                </tr>\n                \n                <tr>\n                  \n                  <td>IRN</td>\n                  \n                  <td>Iran</td>\n                  \n                  <td>Middle East and North Africa</td>\n                  \n                </tr>\n                \n                <tr>\n                  \n                  <td>ITA</td>\n                  \n                  <td>Italy</td>\n                  \n                  <td>Europe</td>\n                  \n                </tr>\n                \n                <tr>\n                  \n                  <td>CIV</td>\n                  \n                  <td>Cote d'Ivoire</td>\n                  \n                  <td>Sub-Saharan Africa</td>\n                  \n                </tr>\n                \n                <tr>\n                  \n                  <td>JAM</td>\n                  \n                  <td>Jamaica</td>\n                  \n                  <td>Caribbean and Central America</td>\n                  \n                </tr>\n                \n                <tr>\n                  \n                  <td>KAZ</td>\n                  \n                  <td>Kazakhstan</td>\n                  \n                  <td>Central and Northern Asia</td>\n                  \n                </tr>\n                \n                <tr>\n                  \n                  <td>KEN</td>\n                  \n                  <td>Kenya</td>\n                  \n                  <td>Sub-Saharan Africa</td>\n                  \n                </tr>\n                \n                <tr>\n                  \n                  <td>PRK</td>\n                  \n                  <td>Korea, Dem. Rep.</td>\n                  \n                  <td>East Asia excluding China</td>\n                  \n                </tr>\n                \n                <tr>\n                  \n                  <td>KWT</td>\n                  \n                  <td>Kuwait</td>\n                  \n                  <td>Middle East and North Africa</td>\n                  \n                </tr>\n                \n                <tr>\n                  \n                  <td>LVA</td>\n                  \n                  <td>Latvia</td>\n                  \n                  <td>Europe</td>\n                  \n                </tr>\n                \n                <tr>\n                  \n                  <td>LBR</td>\n                  \n                  <td>Liberia</td>\n                  \n                  <td>Sub-Saharan Africa</td>\n                  \n                </tr>\n                \n                <tr>\n                  \n                  <td>LBY</td>\n                  \n                  <td>Libya</td>\n                  \n                  <td>Middle East and North Africa</td>\n                  \n                </tr>\n                \n                <tr>\n                  \n                  <td>MDV</td>\n                  \n                  <td>Maldives</td>\n                  \n                  <td>South Asia</td>\n                  \n                </tr>\n                \n                <tr>\n                  \n                  <td>MLT</td>\n                  \n                  <td>Malta</td>\n                  \n                  <td>Europe</td>\n                  \n                </tr>\n                \n                <tr>\n                  \n                  <td>MRT</td>\n                  \n                  <td>Mauritania</td>\n                  \n                  <td>Sub-Saharan Africa</td>\n                  \n                </tr>\n                \n                <tr>\n                  \n                  <td>MEX</td>\n                  \n                  <td>Mexico</td>\n                  \n                  <td>North America</td>\n                  \n                </tr>\n                \n                <tr>\n                  \n                  <td>MDA</td>\n                  \n                  <td>Moldova</td>\n                  \n                  <td>Europe</td>\n                  \n                </tr>\n                \n                <tr>\n                  \n                  <td>MAR</td>\n                  \n                  <td>Morocco</td>\n                  \n                  <td>Middle East and North Africa</td>\n                  \n                </tr>\n                \n                <tr>\n                  \n                  <td>OMN</td>\n                  \n                  <td>Oman</td>\n                  \n                  <td>Middle East and North Africa</td>\n                  \n                </tr>\n                \n                <tr>\n                  \n                  <td>NAM</td>\n                  \n                  <td>Namibia</td>\n                  \n                  <td>Sub-Saharan Africa</td>\n                  \n                </tr>\n                \n                <tr>\n                  \n                  <td>NPL</td>\n                  \n                  <td>Nepal</td>\n                  \n                  <td>South Asia</td>\n                  \n                </tr>\n                \n                <tr>\n                  \n                  <td>NER</td>\n                  \n                  <td>Niger</td>\n                  \n                  <td>Sub-Saharan Africa</td>\n                  \n                </tr>\n                \n                <tr>\n                  \n                  <td>NIU</td>\n                  \n                  <td>Niue</td>\n                  \n                  <td>Oceania</td>\n                  \n                </tr>\n                \n                <tr>\n                  \n                  <td>NOR</td>\n                  \n                  <td>Norway</td>\n                  \n                  <td>Europe</td>\n                  \n                </tr>\n                \n                <tr>\n                  \n                  <td>MNP</td>\n                  \n                  <td>N. Mariana Isds</td>\n                  \n                  <td>Oceania</td>\n                  \n                </tr>\n                \n                <tr>\n                  \n                  <td>PNG</td>\n                  \n                  <td>Papua New Guinea</td>\n                  \n                  <td>Oceania</td>\n                  \n                </tr>\n                \n                <tr>\n                  \n                  <td>PER</td>\n                  \n                  <td>Peru</td>\n                  \n                  <td>South America</td>\n                  \n                </tr>\n                \n                <tr>\n                  \n                  <td>PHL</td>\n                  \n                  <td>Philippines</td>\n                  \n                  <td>Southeast Asia</td>\n                  \n                </tr>\n                \n                <tr>\n                  \n                  <td>POL</td>\n                  \n                  <td>Poland</td>\n                  \n                  <td>Europe</td>\n                  \n                </tr>\n                \n                <tr>\n                  \n                  <td>GNB</td>\n                  \n                  <td>Guinea-Bissau</td>\n                  \n                  <td>Sub-Saharan Africa</td>\n                  \n                </tr>\n                \n                <tr>\n                  \n                  <td>TLS</td>\n                  \n                  <td>Timor-Leste</td>\n                  \n                  <td>Southeast Asia</td>\n                  \n                </tr>\n                \n                <tr>\n                  \n                  <td>ROU</td>\n                  \n                  <td>Romania</td>\n                  \n                  <td>Europe</td>\n                  \n                </tr>\n                \n                <tr>\n                  \n                  <td>RWA</td>\n                  \n                  <td>Rwanda</td>\n                  \n                  <td>Sub-Saharan Africa</td>\n                  \n                </tr>\n                \n                <tr>\n                  \n                  <td>BLM</td>\n                  \n                  <td>Saint-Barthelemy</td>\n                  \n                  <td>Caribbean and Central America</td>\n                  \n                </tr>\n                \n                <tr>\n                  \n                  <td>AIA</td>\n                  \n                  <td>Anguilla</td>\n                  \n                  <td>Caribbean and Central America</td>\n                  \n                </tr>\n                \n                <tr>\n                  \n                  <td>LCA</td>\n                  \n                  <td>Saint Lucia</td>\n                  \n                  <td>Caribbean and Central America</td>\n                  \n                </tr>\n                \n                <tr>\n                  \n                  <td>SMR</td>\n                  \n                  <td>San Marino</td>\n                  \n                  <td>Europe</td>\n                  \n                </tr>\n                \n                <tr>\n                  \n                  <td>SEN</td>\n                  \n                  <td>Senegal</td>\n                  \n                  <td>Sub-Saharan Africa</td>\n                  \n                </tr>\n                \n                <tr>\n                  \n                  <td>SRB</td>\n                  \n                  <td>Serbia</td>\n                  \n                  <td>Europe</td>\n                  \n                </tr>\n                \n                <tr>\n                  \n                  <td>IND</td>\n                  \n                  <td>India</td>\n                  \n                  <td>South Asia</td>\n                  \n                </tr>\n                \n                <tr>\n                  \n                  <td>SGP</td>\n                  \n                  <td>Singapore</td>\n                  \n                  <td>Southeast Asia</td>\n                  \n                </tr>\n                \n                <tr>\n                  \n                  <td>SOM</td>\n                  \n                  <td>Somalia</td>\n                  \n                  <td>Sub-Saharan Africa</td>\n                  \n                </tr>\n                \n                <tr>\n                  \n                  <td>ESP</td>\n                  \n                  <td>Spain</td>\n                  \n                  <td>Europe</td>\n                  \n                </tr>\n                \n                <tr>\n                  \n                  <td>SUR</td>\n                  \n                  <td>Suriname</td>\n                  \n                  <td>South America</td>\n                  \n                </tr>\n                \n                <tr>\n                  \n                  <td>TGO</td>\n                  \n                  <td>Togo</td>\n                  \n                  <td>Sub-Saharan Africa</td>\n                  \n                </tr>\n                \n                <tr>\n                  \n                  <td>TKL</td>\n                  \n                  <td>Tokelau</td>\n                  \n                  <td>Oceania</td>\n                  \n                </tr>\n                \n                <tr>\n                  \n                  <td>TTO</td>\n                  \n                  <td>Trinidad and Tobago</td>\n                  \n                  <td>Caribbean and Central America</td>\n                  \n                </tr>\n                \n                <tr>\n                  \n                  <td>UGA</td>\n                  \n                  <td>Uganda</td>\n                  \n                  <td>Sub-Saharan Africa</td>\n                  \n                </tr>\n                \n                <tr>\n                  \n                  <td>TZA</td>\n                  \n                  <td>Tanzania</td>\n                  \n                  <td>Sub-Saharan Africa</td>\n                  \n                </tr>\n                \n                <tr>\n                  \n                  <td>USA</td>\n                  \n                  <td>United States</td>\n                  \n                  <td>North America</td>\n                  \n                </tr>\n                \n                <tr>\n                  \n                  <td>BFA</td>\n                  \n                  <td>Burkina Faso</td>\n                  \n                  <td>Sub-Saharan Africa</td>\n                  \n                </tr>\n                \n                <tr>\n                  \n                  <td>UZB</td>\n                  \n                  <td>Uzbekistan</td>\n                  \n                  <td>Central and Northern Asia</td>\n                  \n                </tr>\n                \n                <tr>\n                  \n                  <td>VEN</td>\n                  \n                  <td>Venezuela</td>\n                  \n                  <td>South America</td>\n                  \n                </tr>\n                \n                <tr>\n                  \n                  <td>ZMB</td>\n                  \n                  <td>Zambia</td>\n                  \n                  <td>Sub-Saharan Africa</td>\n                  \n                </tr>\n                \n                <tr>\n                  \n                  <td>WLF</td>\n                  \n                  <td>Wallis and Futuna Isds</td>\n                  \n                  <td>Oceania</td>\n                  \n                </tr>\n                \n              </tbody>\n            </table>\n          </div>\n        </div>\n      </div>\n    </div>\n  </div>\n  \n  <script class=\"pd_save\">\n    $(function() {\n      var tableWrapper = $('.df-table-wrapper-c1df10c5');\n      var fixedHeader = $('.fixed-header', tableWrapper);\n      var tableContainer = $('.df-table-container', tableWrapper);\n      var table = $('.df-table', tableContainer);\n      var rows = $('tbody > tr', table);\n      var total = 95;\n  \n      fixedHeader\n        .css('width', table.width())\n        .find('.fixed-cell')\n        .each(function(i, e) {\n          $(this).css('width', $('.df-table-wrapper-c1df10c5 th:nth-child(' + (i+1) + ')').css('width'));\n        });\n  \n      tableContainer.scroll(function() {\n        fixedHeader.css({ left: table.position().left });\n      });\n  \n      rows.on(\"click\", function(e){\n          var txt = e.delegateTarget.innerText;\n          var splits = txt.split(\"\\t\");\n          var len = splits.length;\n          var hdrs = $(fixedHeader).find(\".fixed-cell\");\n          // Add all cells in the selected row as a map to be consumed by the target as needed\n          var payload = {type:\"select\", targetDivId: \"\" };\n          for (var i = 0; i < len; i++) {\n            payload[hdrs[i].innerHTML] = splits[i];\n          }\n  \n          //simple selection highlighting, client adds \"selected\" class\n          $(this).addClass(\"selected\").siblings().removeClass(\"selected\");\n          $(document).trigger('pd_event', payload);\n      });\n  \n      $('.df-table-search', tableWrapper).keyup(function() {\n        var val = '^(?=.*\\\\b' + $.trim($(this).val()).split(/\\s+/).join('\\\\b)(?=.*\\\\b') + ').*$';\n        var reg = RegExp(val, 'i');\n        var index = 0;\n        \n        rows.each(function(i, e) {\n          if (!reg.test($(this).text().replace(/\\s+/g, ' '))) {\n            $(this).attr('class', 'hidden');\n          }\n          else {\n            $(this).attr('class', (++index % 2 == 0 ? 'even' : 'odd'));\n          }\n        });\n        $('.df-table-search-count', tableWrapper).html('Showing ' + index + ' of ' + total + ' rows');\n      });\n    });\n  \n    $(\".df-table-wrapper td:contains('http://')\").each(function(){var tc = this.textContent; $(this).wrapInner(\"<a target='_blank' href='\" + tc + \"'></a>\");});\n    $(\".df-table-wrapper td:contains('https://')\").each(function(){var tc = this.textContent; $(this).wrapInner(\"<a target='_blank' href='\" + tc + \"'></a>\");});\n  </script>\n  \n        </div>", 
                        "text/plain": "<IPython.core.display.HTML object>"
                    }, 
                    "metadata": {}
                }
            ], 
            "source": "display(g.vertices)\n\ng.vertices.describe().show()"
        }, 
        {
            "source": "Este grafo tiene demadiadas aristas, mostramos solo las primeras 10.", 
            "cell_type": "markdown", 
            "metadata": {}
        }, 
        {
            "execution_count": 16, 
            "cell_type": "code", 
            "metadata": {}, 
            "outputs": [
                {
                    "execution_count": 16, 
                    "metadata": {}, 
                    "data": {
                        "text/plain": "102566"
                    }, 
                    "output_type": "execute_result"
                }
            ], 
            "source": "g.edges.count()"
        }, 
        {
            "execution_count": 17, 
            "cell_type": "code", 
            "metadata": {
                "pixiedust": {
                    "displayParams": {
                        "handlerId": "tableView"
                    }
                }, 
                "scrolled": true
            }, 
            "outputs": [
                {
                    "output_type": "stream", 
                    "name": "stdout", 
                    "text": "+---+---+--------------------+----------+----------+\n|src|dst|            resource|     value|    weight|\n+---+---+--------------------+----------+----------+\n|AFG|DZA|        Horticulture|    26.313|         3|\n|AFG|DZA|     Rubber and gums|     1.507|     0.585|\n|AFG|AUS|        Horticulture|40.0930017|34.3058425|\n|AFG|AUS|            Oilseeds|     1.248|      0.46|\n|AFG|AUS|Stimulants, tobac...|    34.645|      0.02|\n|AFG|BHR|Dairy, eggs, and ...|      0.02|      0.02|\n|AFG|BHR|        Horticulture|   105.007|    62.036|\n|AFG|BHR|              Pulses|    14.976|     14.69|\n|AFG|BHR|Stimulants, tobac...|    110.66|     0.297|\n|AFG|BGD|Stimulants, tobac...|   133.438|    65.411|\n+---+---+--------------------+----------+----------+\nonly showing top 10 rows\n\n"
                }
            ], 
            "source": "g.edges.show(10)"
        }, 
        {
            "execution_count": 18, 
            "cell_type": "code", 
            "metadata": {}, 
            "outputs": [
                {
                    "output_type": "stream", 
                    "name": "stdout", 
                    "text": "+-------+------+------+--------+------------------+------------------+\n|summary|   src|   dst|resource|             value|            weight|\n+-------+------+------+--------+------------------+------------------+\n|  count|102566|102566|  102566|            102566|            102566|\n|   mean|  null|  null|    null|11050.712367125223|20483.579529860268|\n| stddev|  null|  null|    null|112612.07404792846| 1970626.311174012|\n|    min|   ABW|   ABW| Cereals|             0.001|             0.001|\n|    max|   ZWE|   ZWE|   Water|                NA|                NA|\n+-------+------+------+--------+------------------+------------------+\n\n"
                }
            ], 
            "source": "g.edges.describe().show()"
        }, 
        {
            "source": "podemos tambien mostrar el grafo. Recuerde cambiar el tipo de grafico a Directed Graph (con el icono que parece un share)", 
            "cell_type": "markdown", 
            "metadata": {}
        }, 
        {
            "execution_count": 19, 
            "cell_type": "code", 
            "metadata": {
                "pixiedust": {
                    "displayParams": {
                        "handlerId": "graphDirected"
                    }
                }
            }, 
            "outputs": [], 
            "source": "#display(g)"
        }, 
        {
            "source": "# Que podemos saber de este grafo?", 
            "cell_type": "markdown", 
            "metadata": {}
        }, 
        {
            "source": "## Pattern matching", 
            "cell_type": "markdown", 
            "metadata": {}
        }, 
        {
            "source": "De una manera muy similar a Neo4j podemos hacer queries sobre el grafo. En GraphFrames queries son llamadas motifs.", 
            "cell_type": "markdown", 
            "metadata": {}
        }, 
        {
            "execution_count": 20, 
            "cell_type": "code", 
            "metadata": {}, 
            "outputs": [], 
            "source": "#Ejemplos de pattern matching"
        }, 
        {
            "source": "Por ejemplo, encontremos todos los nodos que tienen relaciones bilaterales.", 
            "cell_type": "markdown", 
            "metadata": {}
        }, 
        {
            "execution_count": 21, 
            "cell_type": "code", 
            "metadata": {}, 
            "outputs": [
                {
                    "output_type": "stream", 
                    "name": "stdout", 
                    "text": "+--------------------+--------------------+--------------------+--------------------+\n|                   a|                   e|                   b|                  e2|\n+--------------------+--------------------+--------------------+--------------------+\n|[AFG,Afghanistan,...|[AFG,AUS,Horticul...|[AUS,Australia,Oc...|[AUS,AFG,Other ag...|\n|[AFG,Afghanistan,...|[AFG,AUS,Horticul...|[AUS,Australia,Oc...|[AUS,AFG,Meat,583...|\n|[AFG,Afghanistan,...|[AFG,AUS,Oilseeds...|[AUS,Australia,Oc...|[AUS,AFG,Other ag...|\n|[AFG,Afghanistan,...|[AFG,AUS,Oilseeds...|[AUS,Australia,Oc...|[AUS,AFG,Meat,583...|\n|[AFG,Afghanistan,...|[AFG,AUS,Stimulan...|[AUS,Australia,Oc...|[AUS,AFG,Other ag...|\n|[AFG,Afghanistan,...|[AFG,AUS,Stimulan...|[AUS,Australia,Oc...|[AUS,AFG,Meat,583...|\n|[AFG,Afghanistan,...|[AFG,BHR,Dairy, e...|[BHR,Bahrain,Midd...|[BHR,AFG,Dairy, e...|\n|[AFG,Afghanistan,...|[AFG,BHR,Horticul...|[BHR,Bahrain,Midd...|[BHR,AFG,Dairy, e...|\n|[AFG,Afghanistan,...|[AFG,BHR,Pulses,1...|[BHR,Bahrain,Midd...|[BHR,AFG,Dairy, e...|\n|[AFG,Afghanistan,...|[AFG,BHR,Stimulan...|[BHR,Bahrain,Midd...|[BHR,AFG,Dairy, e...|\n+--------------------+--------------------+--------------------+--------------------+\nonly showing top 10 rows\n\n"
                }
            ], 
            "source": "motifs = g.find(\"(a)-[e]->(b); (b)-[e2]->(a)\")\n#display(motifs) #display con motif tiene problemas en bluemix, por eso usamos show, o take, o head.\nmotifs.show(10)"
        }, 
        {
            "source": "Note que nodos en a y b se encuentre repetidos ya que un registro aparece tantas veces como haya relaciones `e` y `e2` que satisfagan la condicion. Puede listar los paises mejor eliminando duplicados.", 
            "cell_type": "markdown", 
            "metadata": {}
        }, 
        {
            "execution_count": 22, 
            "cell_type": "code", 
            "metadata": {}, 
            "outputs": [
                {
                    "execution_count": 22, 
                    "metadata": {}, 
                    "data": {
                        "text/plain": "735102"
                    }, 
                    "output_type": "execute_result"
                }
            ], 
            "source": "motifs.count() #con combinaciones de paises repetidos"
        }, 
        {
            "execution_count": 23, 
            "cell_type": "code", 
            "metadata": {
                "pixiedust": {
                    "displayParams": {
                        "handlerId": "tableView"
                    }
                }
            }, 
            "outputs": [
                {
                    "execution_count": 23, 
                    "metadata": {}, 
                    "data": {
                        "text/plain": "14651"
                    }, 
                    "output_type": "execute_result"
                }
            ], 
            "source": "bilaterals = motifs.selectExpr(\"a.name as aName\",\"b.name as bName\").dropDuplicates().sort(['aName', 'bName']) #solo seleccionamos los nombres con selectExpr\n#display(bilaterals)\nbilaterals.count() #eliminamos duplicados"
        }, 
        {
            "execution_count": 24, 
            "cell_type": "code", 
            "metadata": {}, 
            "outputs": [
                {
                    "output_type": "stream", 
                    "name": "stdout", 
                    "text": "+-----------+----------+\n|      aName|     bName|\n+-----------+----------+\n|Afghanistan| Australia|\n|Afghanistan|   Bahrain|\n|Afghanistan|Bangladesh|\n|Afghanistan|   Belgium|\n|Afghanistan|    Brazil|\n|Afghanistan|  Bulgaria|\n|Afghanistan|    Canada|\n|Afghanistan|     China|\n|Afghanistan|Czech Rep.|\n|Afghanistan|   Denmark|\n|Afghanistan|     Egypt|\n|Afghanistan|   Finland|\n|Afghanistan|    France|\n|Afghanistan|   Germany|\n|Afghanistan|   Hungary|\n|Afghanistan|     India|\n|Afghanistan| Indonesia|\n|Afghanistan|      Iran|\n|Afghanistan|     Italy|\n|Afghanistan|     Japan|\n+-----------+----------+\nonly showing top 20 rows\n\n"
                }
            ], 
            "source": "bilaterals.show(20)"
        }, 
        {
            "source": "Seleccionamos el grafo que corresponde a nodos de paises latinoamericanos, codificado en la columna `region` del nodo como `South America`.", 
            "cell_type": "markdown", 
            "metadata": {}
        }, 
        {
            "execution_count": 25, 
            "cell_type": "code", 
            "metadata": {}, 
            "outputs": [], 
            "source": "#paths = g.find(\"(a)-[e]->(b)\")\\\n#  .filter(\"a.region = 'South America' and b.region = 'South America'\")\\\n#  .filter(\"e.resource = 'Pearls and gemstones'\")\n  \n\npaths = g.find(\"(a)-[e]->(b)\")\\\n  .filter(\"a.region = 'South America' and b.region = 'South America'\")"
        }, 
        {
            "execution_count": 26, 
            "cell_type": "code", 
            "metadata": {
                "pixiedust": {
                    "displayParams": {
                        "handlerId": "tableView"
                    }
                }
            }, 
            "outputs": [
                {
                    "output_type": "stream", 
                    "name": "stdout", 
                    "text": "+--------------------+--------------------+--------------------+\n|                   a|                   e|                   b|\n+--------------------+--------------------+--------------------+\n|[ARG,Argentina,So...|[ARG,ARG,Cereals,...|[ARG,Argentina,So...|\n|[ARG,Argentina,So...|[ARG,ARG,Dairy, e...|[ARG,Argentina,So...|\n|[ARG,Argentina,So...|[ARG,ARG,Fish and...|[ARG,Argentina,So...|\n|[ARG,Argentina,So...|[ARG,ARG,Horticul...|[ARG,Argentina,So...|\n|[ARG,Argentina,So...|[ARG,ARG,Live ani...|[ARG,Argentina,So...|\n|[ARG,Argentina,So...|[ARG,ARG,Meat,536...|[ARG,Argentina,So...|\n|[ARG,Argentina,So...|[ARG,ARG,Oilseeds...|[ARG,Argentina,So...|\n|[ARG,Argentina,So...|[ARG,ARG,Other ag...|[ARG,Argentina,So...|\n|[ARG,Argentina,So...|[ARG,ARG,Pulses,3...|[ARG,Argentina,So...|\n|[ARG,Argentina,So...|[ARG,ARG,Roots an...|[ARG,Argentina,So...|\n+--------------------+--------------------+--------------------+\nonly showing top 10 rows\n\n"
                }
            ], 
            "source": "paths.show(10)"
        }, 
        {
            "execution_count": 27, 
            "cell_type": "code", 
            "metadata": {}, 
            "outputs": [], 
            "source": "latam_edges = paths \\\n    .selectExpr(\"e.src as src\", \"e.dst as dst\", \"e.resource as resource\")"
        }, 
        {
            "execution_count": 28, 
            "cell_type": "code", 
            "metadata": {}, 
            "outputs": [], 
            "source": "latam_vertices = g.vertices.filter(\"region = 'South America'\")"
        }, 
        {
            "execution_count": 29, 
            "cell_type": "code", 
            "metadata": {}, 
            "outputs": [], 
            "source": "latam_g = GraphFrame(latam_vertices, latam_edges)"
        }, 
        {
            "execution_count": 30, 
            "cell_type": "code", 
            "metadata": {}, 
            "outputs": [
                {
                    "execution_count": 30, 
                    "metadata": {}, 
                    "data": {
                        "text/plain": "13"
                    }, 
                    "output_type": "execute_result"
                }
            ], 
            "source": "latam_g.vertices.count()"
        }, 
        {
            "execution_count": 31, 
            "cell_type": "code", 
            "metadata": {}, 
            "outputs": [
                {
                    "execution_count": 31, 
                    "metadata": {}, 
                    "data": {
                        "text/plain": "921"
                    }, 
                    "output_type": "execute_result"
                }
            ], 
            "source": "latam_g.edges.count()"
        }, 
        {
            "execution_count": 32, 
            "cell_type": "code", 
            "metadata": {
                "pixiedust": {
                    "displayParams": {
                        "handlerId": "graphDirected"
                    }
                }, 
                "scrolled": true
            }, 
            "outputs": [], 
            "source": "display(latam_g)"
        }, 
        {
            "source": "Otro mas, vamos a quedarnos con paises que tengan movimientos con peso mayor a la media en carne", 
            "cell_type": "markdown", 
            "metadata": {}
        }, 
        {
            "execution_count": 33, 
            "cell_type": "code", 
            "metadata": {}, 
            "outputs": [], 
            "source": "media_peso = 20000"
        }, 
        {
            "execution_count": null, 
            "cell_type": "code", 
            "metadata": {}, 
            "outputs": [], 
            "source": "big_edges = g.edges.filter(col(\"weight\") >= media_peso).filter(col(\"resource\")== \"Meat\")"
        }, 
        {
            "execution_count": null, 
            "cell_type": "code", 
            "metadata": {}, 
            "outputs": [], 
            "source": "big_edges.count()"
        }, 
        {
            "execution_count": null, 
            "cell_type": "code", 
            "metadata": {}, 
            "outputs": [], 
            "source": "big_g = GraphFrame(g.vertices, e = big_edges)"
        }, 
        {
            "execution_count": null, 
            "cell_type": "code", 
            "metadata": {
                "pixiedust": {
                    "displayParams": {
                        "handlerId": "graphDirected"
                    }
                }
            }, 
            "outputs": [], 
            "source": "display(big_g)"
        }, 
        {
            "source": "En capacidades de pattern matching GraphFrames y GraphX resulta mas complicado y menos intuitivo que Neo4j, especialmente porque ver resultados como un grafo requiere construir otro. Sin embargo, el core de GraphFrames y GraphX es procesamiento y algoritmos avanzados sobre grafos a gran escala.", 
            "cell_type": "markdown", 
            "metadata": {}
        }, 
        {
            "source": "## Degree distribution", 
            "cell_type": "markdown", 
            "metadata": {}
        }, 
        {
            "source": "Grados de entrada. Podemos interpretarlo como que tanto importan los paises", 
            "cell_type": "markdown", 
            "metadata": {}
        }, 
        {
            "execution_count": null, 
            "cell_type": "code", 
            "metadata": {
                "pixiedust": {
                    "displayParams": {
                        "handlerId": "tableView"
                    }
                }
            }, 
            "outputs": [], 
            "source": "display(g.inDegrees.sort(desc(\"inDegree\")))"
        }, 
        {
            "source": "Grados de salida, Interpretamos como que tanto exportan los paises", 
            "cell_type": "markdown", 
            "metadata": {}
        }, 
        {
            "execution_count": null, 
            "cell_type": "code", 
            "metadata": {
                "pixiedust": {
                    "displayParams": {
                        "handlerId": "tableView"
                    }
                }
            }, 
            "outputs": [], 
            "source": "display(g.outDegrees.sort(desc(\"outDegree\")))"
        }, 
        {
            "source": "Claro, tambien tenemos la distribucion global.", 
            "cell_type": "markdown", 
            "metadata": {}
        }, 
        {
            "execution_count": null, 
            "cell_type": "code", 
            "metadata": {
                "pixiedust": {
                    "displayParams": {
                        "handlerId": "tableView"
                    }
                }
            }, 
            "outputs": [], 
            "source": "display(g.degrees.sort(desc(\"degree\")))"
        }, 
        {
            "source": "Todos estos resultados son simplemente tablas (DataFrames). Podemos graficarlos.", 
            "cell_type": "markdown", 
            "metadata": {}
        }, 
        {
            "execution_count": null, 
            "cell_type": "code", 
            "metadata": {}, 
            "outputs": [], 
            "source": "degree_dist = g.degrees.toPandas()\\\n    .sort_values(['degree'], ascending = False).reset_index(drop=True)"
        }, 
        {
            "execution_count": null, 
            "cell_type": "code", 
            "metadata": {}, 
            "outputs": [], 
            "source": "plt.figure(figsize=(8,12))\nsns.barplot(x = 'degree', y= 'id', data = degree_dist.head(30), color='xkcd:sea blue')\nplt.tight_layout()\nplt.show()\n"
        }, 
        {
            "source": "## Comunidades", 
            "cell_type": "markdown", 
            "metadata": {}
        }, 
        {
            "source": "Las aplicamos sobre el grafo `big_g`", 
            "cell_type": "markdown", 
            "metadata": {}
        }, 
        {
            "execution_count": null, 
            "cell_type": "code", 
            "metadata": {
                "pixiedust": {
                    "displayParams": {
                        "handlerId": "tableView"
                    }
                }, 
                "scrolled": true
            }, 
            "outputs": [], 
            "source": "results = big_g.labelPropagation(maxIter=5)\ndisplay(results)"
        }, 
        {
            "execution_count": null, 
            "cell_type": "code", 
            "metadata": {
                "pixiedust": {
                    "displayParams": {
                        "handlerId": "tableView"
                    }
                }
            }, 
            "outputs": [], 
            "source": "display(results.groupby('label').count().sort(desc('count')))"
        }, 
        {
            "source": "## Componentes conectados", 
            "cell_type": "markdown", 
            "metadata": {}
        }, 
        {
            "execution_count": 65, 
            "cell_type": "code", 
            "metadata": {}, 
            "outputs": [], 
            "source": "#!pwd\n#!mkdir /gpfs/fs01/user/se1f-2003f1257f20bb-7f578b9e48a9/notebook/work/checkpoints"
        }, 
        {
            "execution_count": 46, 
            "cell_type": "code", 
            "metadata": {}, 
            "outputs": [], 
            "source": "spark.sparkContext.setCheckpointDir(\"/gpfs/fs01/user/se1f-2003f1257f20bb-7f578b9e48a9/notebook/work/checkpoints\")"
        }, 
        {
            "execution_count": 47, 
            "cell_type": "code", 
            "metadata": {
                "pixiedust": {
                    "displayParams": {
                        "handlerId": "tableView"
                    }
                }
            }, 
            "outputs": [
                {
                    "output_type": "display_data", 
                    "data": {
                        "text/html": "<style type=\"text/css\">.pd_warning{display:none;}</style><div class=\"pd_warning\"><em>Hey, there's something awesome here! To see it, open this notebook outside GitHub, in a viewer like Jupyter</em></div>\n        <div class=\"pd_save is-viewer-good\" style=\"padding-right:10px;text-align: center;line-height:initial !important;font-size: xx-large;font-weight: 500;color: coral;\">\n            \n        </div>\n    <div id=\"chartFigure0d1e72fc\" class=\"pd_save is-viewer-good\" style=\"overflow-x:auto\">\n            <style type=\"text/css\" class=\"pd_save\">\n    .df-table-wrapper .panel-heading {\n      border-radius: 0;\n      padding: 0px;\n    }\n    .df-table-wrapper .panel-heading:hover {\n      border-color: #008571;\n    }\n    .df-table-wrapper .panel-title a {\n      background-color: #f9f9fb;\n      color: #333333;\n      display: block;\n      outline: none;\n      padding: 10px 15px;\n      text-decoration: none;\n    }\n    .df-table-wrapper .panel-title a:hover {\n      background-color: #337ab7;\n      border-color: #2e6da4;\n      color: #ffffff;\n      display: block;\n      padding: 10px 15px;\n      text-decoration: none;\n    }\n    .df-table-wrapper {\n      font-size: small;\n      font-weight: 300;\n      letter-spacing: 0.5px;\n      line-height: normal;\n      height: inherit;\n      overflow: auto;\n    }\n    .df-table-search {\n      margin: 0 0 20px 0;\n    }\n    .df-table-search-count {\n      display: inline-block;\n      margin: 0 0 20px 0;\n    }\n    .df-table-container {\n      max-height: 50vh;\n      max-width: 100%;\n      overflow-x: auto;\n      position: relative;\n    }\n    .df-table-wrapper table {\n      border: 0 none #ffffff;\n      border-collapse: collapse;\n      margin: 0;\n      min-width: 100%;\n      padding: 0;\n      table-layout: fixed;\n      height: inherit;\n      overflow: auto;\n    }\n    .df-table-wrapper tr.hidden {\n      display: none;\n    }\n    .df-table-wrapper tr:nth-child(even) {\n      background-color: #f9f9fb;\n    }\n    .df-table-wrapper tr.even {\n      background-color: #f9f9fb;\n    }\n    .df-table-wrapper tr.odd {\n      background-color: #ffffff;\n    }\n    .df-table-wrapper td + td {\n      border-left: 1px solid #e0e0e0;\n    }\n  \n    .df-table-wrapper thead,\n    .fixed-header {\n      font-weight: 600;\n    }\n    .df-table-wrapper tr,\n    .fixed-row {\n      border: 0 none #ffffff;\n      margin: 0;\n      padding: 0;\n    }\n    .df-table-wrapper th,\n    .df-table-wrapper td,\n    .fixed-cell {\n      border: 0 none #ffffff;\n      margin: 0;\n      min-width: 50px;\n      padding: 5px 20px 5px 10px;\n      text-align: left;\n      word-wrap: break-word;\n    }\n    .df-table-wrapper th {\n      padding-bottom: 0;\n      padding-top: 0;\n    }\n    .df-table-wrapper th div {\n      max-height: 1px;\n      visibility: hidden;\n    }\n  \n    .df-schema-field {\n      margin-left: 10px;\n    }\n  \n    .fixed-header-container {\n      overflow: hidden;\n      position: relative;\n    }\n    .fixed-header {\n      border-bottom: 2px solid #000;\n      display: table;\n      position: relative;\n    }\n    .fixed-row {\n      display: table-row;\n    }\n    .fixed-cell {\n      display: table-cell;\n    }\n  </style>\n  \n  \n  <div class=\"df-table-wrapper df-table-wrapper-0d1e72fc panel-group pd_save\">\n    <!-- dataframe schema -->\n    \n    <div class=\"panel panel-default\">\n      <div class=\"panel-heading\">\n        <h4 class=\"panel-title\" style=\"margin: 0px;\">\n          <a data-toggle=\"collapse\" href=\"#df-schema-0d1e72fc\" data-parent=\"#df-table-wrapper-0d1e72fc\">Schema</a>\n        </h4>\n      </div>\n      <div id=\"df-schema-0d1e72fc\" class=\"panel-collapse collapse\">\n        <div class=\"panel-body\" style=\"font-family: monospace;\">\n          <div class=\"df-schema-fields\">\n            <div>Field types:</div>\n            \n              <div class=\"df-schema-field\"><strong>id: </strong> object</div>\n            \n              <div class=\"df-schema-field\"><strong>name: </strong> object</div>\n            \n              <div class=\"df-schema-field\"><strong>region: </strong> object</div>\n            \n              <div class=\"df-schema-field\"><strong>component: </strong> int64</div>\n            \n          </div>\n        </div>\n      </div>\n    </div>\n    \n    <!-- dataframe table -->\n    <div class=\"panel panel-default\">\n      \n      <div class=\"panel-heading\">\n        <h4 class=\"panel-title\" style=\"margin: 0px;\">\n          <a data-toggle=\"collapse\" href=\"#df-table-0d1e72fc\" data-parent=\"#df-table-wrapper-0d1e72fc\"> Table</a>\n        </h4>\n      </div>\n      \n      <div id=\"df-table-0d1e72fc\" class=\"panel-collapse collapse in\">\n        <div class=\"panel-body\">\n          \n          <input class=\"df-table-search form-control input-sm\" placeholder=\"Search table\" type=\"text\">\n          \n          <div>\n            \n            <span class=\"df-table-search-count\">Showing 13 of 13 rows</span>\n            \n          </div>\n          <!-- fixed header for when dataframe table scrolls -->\n          <div class=\"fixed-header-container\">\n            <div class=\"fixed-header\" style=\"width: 871px;\">\n              <div class=\"fixed-row\">\n                \n                <div class=\"fixed-cell\" style=\"width: 108px;\">id</div>\n                \n                <div class=\"fixed-cell\" style=\"width: 324px;\">name</div>\n                \n                <div class=\"fixed-cell\" style=\"width: 217px;\">region</div>\n                \n                <div class=\"fixed-cell\" style=\"width: 222px;\">component</div>\n                \n              </div>\n            </div>\n          </div>\n          <div class=\"df-table-container\">\n            <table class=\"df-table\">\n              <thead>\n                <tr>\n                  \n                  <th><div>id</div></th>\n                  \n                  <th><div>name</div></th>\n                  \n                  <th><div>region</div></th>\n                  \n                  <th><div>component</div></th>\n                  \n                </tr>\n              </thead>\n              <tbody>\n                \n                <tr>\n                  \n                  <td>ARG</td>\n                  \n                  <td>Argentina</td>\n                  \n                  <td>South America</td>\n                  \n                  <td>42949672960</td>\n                  \n                </tr>\n                \n                <tr>\n                  \n                  <td>BOL</td>\n                  \n                  <td>Bolivia</td>\n                  \n                  <td>South America</td>\n                  \n                  <td>42949672960</td>\n                  \n                </tr>\n                \n                <tr>\n                  \n                  <td>BRA</td>\n                  \n                  <td>Brazil</td>\n                  \n                  <td>South America</td>\n                  \n                  <td>42949672960</td>\n                  \n                </tr>\n                \n                <tr>\n                  \n                  <td>CHL</td>\n                  \n                  <td>Chile</td>\n                  \n                  <td>South America</td>\n                  \n                  <td>42949672960</td>\n                  \n                </tr>\n                \n                <tr>\n                  \n                  <td>COL</td>\n                  \n                  <td>Colombia</td>\n                  \n                  <td>South America</td>\n                  \n                  <td>42949672960</td>\n                  \n                </tr>\n                \n                <tr>\n                  \n                  <td>ECU</td>\n                  \n                  <td>Ecuador</td>\n                  \n                  <td>South America</td>\n                  \n                  <td>42949672960</td>\n                  \n                </tr>\n                \n                <tr>\n                  \n                  <td>FLK</td>\n                  \n                  <td>Falkland Isds (Malvinas)</td>\n                  \n                  <td>South America</td>\n                  \n                  <td>489626271744</td>\n                  \n                </tr>\n                \n                <tr>\n                  \n                  <td>GUY</td>\n                  \n                  <td>Guyana</td>\n                  \n                  <td>South America</td>\n                  \n                  <td>42949672960</td>\n                  \n                </tr>\n                \n                <tr>\n                  \n                  <td>PRY</td>\n                  \n                  <td>Paraguay</td>\n                  \n                  <td>South America</td>\n                  \n                  <td>42949672960</td>\n                  \n                </tr>\n                \n                <tr>\n                  \n                  <td>PER</td>\n                  \n                  <td>Peru</td>\n                  \n                  <td>South America</td>\n                  \n                  <td>42949672960</td>\n                  \n                </tr>\n                \n                <tr>\n                  \n                  <td>SUR</td>\n                  \n                  <td>Suriname</td>\n                  \n                  <td>South America</td>\n                  \n                  <td>42949672960</td>\n                  \n                </tr>\n                \n                <tr>\n                  \n                  <td>URY</td>\n                  \n                  <td>Uruguay</td>\n                  \n                  <td>South America</td>\n                  \n                  <td>42949672960</td>\n                  \n                </tr>\n                \n                <tr>\n                  \n                  <td>VEN</td>\n                  \n                  <td>Venezuela</td>\n                  \n                  <td>South America</td>\n                  \n                  <td>42949672960</td>\n                  \n                </tr>\n                \n              </tbody>\n            </table>\n          </div>\n        </div>\n      </div>\n    </div>\n  </div>\n  \n  <script class=\"pd_save\">\n    $(function() {\n      var tableWrapper = $('.df-table-wrapper-0d1e72fc');\n      var fixedHeader = $('.fixed-header', tableWrapper);\n      var tableContainer = $('.df-table-container', tableWrapper);\n      var table = $('.df-table', tableContainer);\n      var rows = $('tbody > tr', table);\n      var total = 13;\n  \n      fixedHeader\n        .css('width', table.width())\n        .find('.fixed-cell')\n        .each(function(i, e) {\n          $(this).css('width', $('.df-table-wrapper-0d1e72fc th:nth-child(' + (i+1) + ')').css('width'));\n        });\n  \n      tableContainer.scroll(function() {\n        fixedHeader.css({ left: table.position().left });\n      });\n  \n      rows.on(\"click\", function(e){\n          var txt = e.delegateTarget.innerText;\n          var splits = txt.split(\"\\t\");\n          var len = splits.length;\n          var hdrs = $(fixedHeader).find(\".fixed-cell\");\n          // Add all cells in the selected row as a map to be consumed by the target as needed\n          var payload = {type:\"select\", targetDivId: \"\" };\n          for (var i = 0; i < len; i++) {\n            payload[hdrs[i].innerHTML] = splits[i];\n          }\n  \n          //simple selection highlighting, client adds \"selected\" class\n          $(this).addClass(\"selected\").siblings().removeClass(\"selected\");\n          $(document).trigger('pd_event', payload);\n      });\n  \n      $('.df-table-search', tableWrapper).keyup(function() {\n        var val = '^(?=.*\\\\b' + $.trim($(this).val()).split(/\\s+/).join('\\\\b)(?=.*\\\\b') + ').*$';\n        var reg = RegExp(val, 'i');\n        var index = 0;\n        \n        rows.each(function(i, e) {\n          if (!reg.test($(this).text().replace(/\\s+/g, ' '))) {\n            $(this).attr('class', 'hidden');\n          }\n          else {\n            $(this).attr('class', (++index % 2 == 0 ? 'even' : 'odd'));\n          }\n        });\n        $('.df-table-search-count', tableWrapper).html('Showing ' + index + ' of ' + total + ' rows');\n      });\n    });\n  \n    $(\".df-table-wrapper td:contains('http://')\").each(function(){var tc = this.textContent; $(this).wrapInner(\"<a target='_blank' href='\" + tc + \"'></a>\");});\n    $(\".df-table-wrapper td:contains('https://')\").each(function(){var tc = this.textContent; $(this).wrapInner(\"<a target='_blank' href='\" + tc + \"'></a>\");});\n  </script>\n  \n        </div>", 
                        "text/plain": "<IPython.core.display.HTML object>"
                    }, 
                    "metadata": {}
                }
            ], 
            "source": "result = big_g.connectedComponents()\ndisplay(result)"
        }, 
        {
            "source": "## Componentes fuertemente conectados", 
            "cell_type": "markdown", 
            "metadata": {}
        }, 
        {
            "execution_count": null, 
            "cell_type": "code", 
            "metadata": {
                "pixiedust": {
                    "displayParams": {
                        "handlerId": "tableView"
                    }
                }
            }, 
            "outputs": [
                {
                    "output_type": "display_data", 
                    "data": {
                        "text/html": "<style type=\"text/css\">.pd_warning{display:none;}</style><div class=\"pd_warning\"><em>Hey, there's something awesome here! To see it, open this notebook outside GitHub, in a viewer like Jupyter</em></div>\n        <div class=\"pd_save is-viewer-good\" style=\"padding-right:10px;text-align: center;line-height:initial !important;font-size: xx-large;font-weight: 500;color: coral;\">\n            \n        </div>\n    <div id=\"chartFigure568d6bde\" class=\"pd_save is-viewer-good\" style=\"overflow-x:auto\">\n            <style type=\"text/css\" class=\"pd_save\">\n    .df-table-wrapper .panel-heading {\n      border-radius: 0;\n      padding: 0px;\n    }\n    .df-table-wrapper .panel-heading:hover {\n      border-color: #008571;\n    }\n    .df-table-wrapper .panel-title a {\n      background-color: #f9f9fb;\n      color: #333333;\n      display: block;\n      outline: none;\n      padding: 10px 15px;\n      text-decoration: none;\n    }\n    .df-table-wrapper .panel-title a:hover {\n      background-color: #337ab7;\n      border-color: #2e6da4;\n      color: #ffffff;\n      display: block;\n      padding: 10px 15px;\n      text-decoration: none;\n    }\n    .df-table-wrapper {\n      font-size: small;\n      font-weight: 300;\n      letter-spacing: 0.5px;\n      line-height: normal;\n      height: inherit;\n      overflow: auto;\n    }\n    .df-table-search {\n      margin: 0 0 20px 0;\n    }\n    .df-table-search-count {\n      display: inline-block;\n      margin: 0 0 20px 0;\n    }\n    .df-table-container {\n      max-height: 50vh;\n      max-width: 100%;\n      overflow-x: auto;\n      position: relative;\n    }\n    .df-table-wrapper table {\n      border: 0 none #ffffff;\n      border-collapse: collapse;\n      margin: 0;\n      min-width: 100%;\n      padding: 0;\n      table-layout: fixed;\n      height: inherit;\n      overflow: auto;\n    }\n    .df-table-wrapper tr.hidden {\n      display: none;\n    }\n    .df-table-wrapper tr:nth-child(even) {\n      background-color: #f9f9fb;\n    }\n    .df-table-wrapper tr.even {\n      background-color: #f9f9fb;\n    }\n    .df-table-wrapper tr.odd {\n      background-color: #ffffff;\n    }\n    .df-table-wrapper td + td {\n      border-left: 1px solid #e0e0e0;\n    }\n  \n    .df-table-wrapper thead,\n    .fixed-header {\n      font-weight: 600;\n    }\n    .df-table-wrapper tr,\n    .fixed-row {\n      border: 0 none #ffffff;\n      margin: 0;\n      padding: 0;\n    }\n    .df-table-wrapper th,\n    .df-table-wrapper td,\n    .fixed-cell {\n      border: 0 none #ffffff;\n      margin: 0;\n      min-width: 50px;\n      padding: 5px 20px 5px 10px;\n      text-align: left;\n      word-wrap: break-word;\n    }\n    .df-table-wrapper th {\n      padding-bottom: 0;\n      padding-top: 0;\n    }\n    .df-table-wrapper th div {\n      max-height: 1px;\n      visibility: hidden;\n    }\n  \n    .df-schema-field {\n      margin-left: 10px;\n    }\n  \n    .fixed-header-container {\n      overflow: hidden;\n      position: relative;\n    }\n    .fixed-header {\n      border-bottom: 2px solid #000;\n      display: table;\n      position: relative;\n    }\n    .fixed-row {\n      display: table-row;\n    }\n    .fixed-cell {\n      display: table-cell;\n    }\n  </style>\n  \n  \n  <div class=\"df-table-wrapper df-table-wrapper-568d6bde panel-group pd_save\">\n    <!-- dataframe schema -->\n    \n    <div class=\"panel panel-default\">\n      <div class=\"panel-heading\">\n        <h4 class=\"panel-title\" style=\"margin: 0px;\">\n          <a data-toggle=\"collapse\" href=\"#df-schema-568d6bde\" data-parent=\"#df-table-wrapper-568d6bde\">Schema</a>\n        </h4>\n      </div>\n      <div id=\"df-schema-568d6bde\" class=\"panel-collapse collapse\">\n        <div class=\"panel-body\" style=\"font-family: monospace;\">\n          <div class=\"df-schema-fields\">\n            <div>Field types:</div>\n            \n              <div class=\"df-schema-field\"><strong>id: </strong> object</div>\n            \n              <div class=\"df-schema-field\"><strong>component: </strong> int64</div>\n            \n          </div>\n        </div>\n      </div>\n    </div>\n    \n    <!-- dataframe table -->\n    <div class=\"panel panel-default\">\n      \n      <div class=\"panel-heading\">\n        <h4 class=\"panel-title\" style=\"margin: 0px;\">\n          <a data-toggle=\"collapse\" href=\"#df-table-568d6bde\" data-parent=\"#df-table-wrapper-568d6bde\"> Table</a>\n        </h4>\n      </div>\n      \n      <div id=\"df-table-568d6bde\" class=\"panel-collapse collapse in\">\n        <div class=\"panel-body\">\n          \n          <input class=\"df-table-search form-control input-sm\" placeholder=\"Search table\" type=\"text\">\n          \n          <div>\n            \n            <span class=\"df-table-search-count\">Showing 96 of 96 rows</span>\n            \n          </div>\n          <!-- fixed header for when dataframe table scrolls -->\n          <div class=\"fixed-header-container\">\n            <div class=\"fixed-header\" style=\"width: 871px;\">\n              <div class=\"fixed-row\">\n                \n                <div class=\"fixed-cell\" style=\"width: 284px;\">id</div>\n                \n                <div class=\"fixed-cell\" style=\"width: 588px;\">component</div>\n                \n              </div>\n            </div>\n          </div>\n          <div class=\"df-table-container\">\n            <table class=\"df-table\">\n              <thead>\n                <tr>\n                  \n                  <th><div>id</div></th>\n                  \n                  <th><div>component</div></th>\n                  \n                </tr>\n              </thead>\n              <tbody>\n                \n                <tr>\n                  \n                  <td>BRN</td>\n                  \n                  <td>128849018880</td>\n                  \n                </tr>\n                \n                <tr>\n                  \n                  <td>LCA</td>\n                  \n                  <td>283467841538</td>\n                  \n                </tr>\n                \n                <tr>\n                  \n                  <td>IND</td>\n                  \n                  <td>1511828488192</td>\n                  \n                </tr>\n                \n                <tr>\n                  \n                  <td>TZA</td>\n                  \n                  <td>1640677507072</td>\n                  \n                </tr>\n                \n                <tr>\n                  \n                  <td>HTI</td>\n                  \n                  <td>8589934592</td>\n                  \n                </tr>\n                \n                <tr>\n                  \n                  <td>NZL</td>\n                  \n                  <td>618475290624</td>\n                  \n                </tr>\n                \n                <tr>\n                  \n                  <td>IOT</td>\n                  \n                  <td>266287972353</td>\n                  \n                </tr>\n                \n                <tr>\n                  \n                  <td>CCK</td>\n                  \n                  <td>0</td>\n                  \n                </tr>\n                \n                <tr>\n                  \n                  <td>MKD</td>\n                  \n                  <td>1563368095745</td>\n                  \n                </tr>\n                \n                <tr>\n                  \n                  <td>SOM</td>\n                  \n                  <td>103079215106</td>\n                  \n                </tr>\n                \n                <tr>\n                  \n                  <td>YEM</td>\n                  \n                  <td>558345748480</td>\n                  \n                </tr>\n                \n                <tr>\n                  \n                  <td>JOR</td>\n                  \n                  <td>68719476737</td>\n                  \n                </tr>\n                \n                <tr>\n                  \n                  <td>WLF</td>\n                  \n                  <td>292057776130</td>\n                  \n                </tr>\n                \n                <tr>\n                  \n                  <td>MNE</td>\n                  \n                  <td>927712935936</td>\n                  \n                </tr>\n                \n                <tr>\n                  \n                  <td>GRC</td>\n                  \n                  <td>1443109011456</td>\n                  \n                </tr>\n                \n                <tr>\n                  \n                  <td>MLT</td>\n                  \n                  <td>498216206337</td>\n                  \n                </tr>\n                \n                <tr>\n                  \n                  <td>PHL</td>\n                  \n                  <td>1666447310849</td>\n                  \n                </tr>\n                \n                <tr>\n                  \n                  <td>VUT</td>\n                  \n                  <td>472446402561</td>\n                  \n                </tr>\n                \n                <tr>\n                  \n                  <td>UKR</td>\n                  \n                  <td>240518168577</td>\n                  \n                </tr>\n                \n                <tr>\n                  \n                  <td>SYC</td>\n                  \n                  <td>584115552257</td>\n                  \n                </tr>\n                \n                <tr>\n                  \n                  <td>KEN</td>\n                  \n                  <td>1305670057984</td>\n                  \n                </tr>\n                \n                <tr>\n                  \n                  <td>LTU</td>\n                  \n                  <td>1133871366146</td>\n                  \n                </tr>\n                \n                <tr>\n                  \n                  <td>FRA</td>\n                  \n                  <td>17179869186</td>\n                  \n                </tr>\n                \n                <tr>\n                  \n                  <td>GAB</td>\n                  \n                  <td>1382979469312</td>\n                  \n                </tr>\n                \n                <tr>\n                  \n                  <td>SXM</td>\n                  \n                  <td>1477468749824</td>\n                  \n                </tr>\n                \n                <tr>\n                  \n                  <td>MRT</td>\n                  \n                  <td>841813590017</td>\n                  \n                </tr>\n                \n                <tr>\n                  \n                  <td>BOL</td>\n                  \n                  <td>137438953472</td>\n                  \n                </tr>\n                \n                <tr>\n                  \n                  <td>POL</td>\n                  \n                  <td>17179869186</td>\n                  \n                </tr>\n                \n                <tr>\n                  \n                  <td>MNP</td>\n                  \n                  <td>1331439861762</td>\n                  \n                </tr>\n                \n                <tr>\n                  \n                  <td>AFG</td>\n                  \n                  <td>532575944704</td>\n                  \n                </tr>\n                \n                <tr>\n                  \n                  <td>BHR</td>\n                  \n                  <td>755914244096</td>\n                  \n                </tr>\n                \n                <tr>\n                  \n                  <td>MAC</td>\n                  \n                  <td>1176821039104</td>\n                  \n                </tr>\n                \n                <tr>\n                  \n                  <td>JPN</td>\n                  \n                  <td>1623497637888</td>\n                  \n                </tr>\n                \n                <tr>\n                  \n                  <td>ESP</td>\n                  \n                  <td>17179869186</td>\n                  \n                </tr>\n                \n                <tr>\n                  \n                  <td>MHL</td>\n                  \n                  <td>1168231104515</td>\n                  \n                </tr>\n                \n                <tr>\n                  \n                  <td>NGA</td>\n                  \n                  <td>1382979469313</td>\n                  \n                </tr>\n                \n                <tr>\n                  \n                  <td>SRB</td>\n                  \n                  <td>1632087572480</td>\n                  \n                </tr>\n                \n                <tr>\n                  \n                  <td>NER</td>\n                  \n                  <td>257698037760</td>\n                  \n                </tr>\n                \n                <tr>\n                  \n                  <td>FLK</td>\n                  \n                  <td>489626271745</td>\n                  \n                </tr>\n                \n                <tr>\n                  \n                  <td>DNK</td>\n                  \n                  <td>17179869186</td>\n                  \n                </tr>\n                \n                <tr>\n                  \n                  <td>NPL</td>\n                  \n                  <td>455266533376</td>\n                  \n                </tr>\n                \n                <tr>\n                  \n                  <td>DOM</td>\n                  \n                  <td>738734374912</td>\n                  \n                </tr>\n                \n                <tr>\n                  \n                  <td>MLI</td>\n                  \n                  <td>489626271746</td>\n                  \n                </tr>\n                \n                <tr>\n                  \n                  <td>SLE</td>\n                  \n                  <td>919123001345</td>\n                  \n                </tr>\n                \n                <tr>\n                  \n                  <td>CUW</td>\n                  \n                  <td>712964571137</td>\n                  \n                </tr>\n                \n                <tr>\n                  \n                  <td>LVA</td>\n                  \n                  <td>17179869185</td>\n                  \n                </tr>\n                \n                <tr>\n                  \n                  <td>SGP</td>\n                  \n                  <td>1503238553600</td>\n                  \n                </tr>\n                \n                <tr>\n                  \n                  <td>PCN</td>\n                  \n                  <td>309237645312</td>\n                  \n                </tr>\n                \n                <tr>\n                  \n                  <td>CMR</td>\n                  \n                  <td>249108103168</td>\n                  \n                </tr>\n                \n                <tr>\n                  \n                  <td>HND</td>\n                  \n                  <td>1391569403904</td>\n                  \n                </tr>\n                \n                <tr>\n                  \n                  <td>GUY</td>\n                  \n                  <td>283467841537</td>\n                  \n                </tr>\n                \n                <tr>\n                  \n                  <td>GUM</td>\n                  \n                  <td>1408749273088</td>\n                  \n                </tr>\n                \n                <tr>\n                  \n                  <td>FSM</td>\n                  \n                  <td>128849018882</td>\n                  \n                </tr>\n                \n                <tr>\n                  \n                  <td>SDN</td>\n                  \n                  <td>962072674304</td>\n                  \n                </tr>\n                \n                <tr>\n                  \n                  <td>SVN</td>\n                  \n                  <td>1400159338496</td>\n                  \n                </tr>\n                \n                <tr>\n                  \n                  <td>MMR</td>\n                  \n                  <td>1546188226561</td>\n                  \n                </tr>\n                \n                <tr>\n                  \n                  <td>URY</td>\n                  \n                  <td>137438953473</td>\n                  \n                </tr>\n                \n                <tr>\n                  \n                  <td>LBR</td>\n                  \n                  <td>1013612281856</td>\n                  \n                </tr>\n                \n                <tr>\n                  \n                  <td>PAN</td>\n                  \n                  <td>996432412672</td>\n                  \n                </tr>\n                \n                <tr>\n                  \n                  <td>CYP</td>\n                  \n                  <td>1142461300736</td>\n                  \n                </tr>\n                \n                <tr>\n                  \n                  <td>RUS</td>\n                  \n                  <td>1219770712066</td>\n                  \n                </tr>\n                \n                <tr>\n                  \n                  <td>VCT</td>\n                  \n                  <td>292057776129</td>\n                  \n                </tr>\n                \n                <tr>\n                  \n                  <td>ISR</td>\n                  \n                  <td>1082331758592</td>\n                  \n                </tr>\n                \n                <tr>\n                  \n                  <td>ETH</td>\n                  \n                  <td>214748364800</td>\n                  \n                </tr>\n                \n                <tr>\n                  \n                  <td>TUN</td>\n                  \n                  <td>1108101562369</td>\n                  \n                </tr>\n                \n                <tr>\n                  \n                  <td>DJI</td>\n                  \n                  <td>635655159808</td>\n                  \n                </tr>\n                \n                <tr>\n                  \n                  <td>ALB</td>\n                  \n                  <td>747324309504</td>\n                  \n                </tr>\n                \n                <tr>\n                  \n                  <td>TGO</td>\n                  \n                  <td>747324309505</td>\n                  \n                </tr>\n                \n                <tr>\n                  \n                  <td>FJI</td>\n                  \n                  <td>833223655424</td>\n                  \n                </tr>\n                \n                <tr>\n                  \n                  <td>MAR</td>\n                  \n                  <td>953482739712</td>\n                  \n                </tr>\n                \n                <tr>\n                  \n                  <td>BRB</td>\n                  \n                  <td>17179869184</td>\n                  \n                </tr>\n                \n                <tr>\n                  \n                  <td>ERI</td>\n                  \n                  <td>438086664192</td>\n                  \n                </tr>\n                \n                <tr>\n                  \n                  <td>TON</td>\n                  \n                  <td>386547056640</td>\n                  \n                </tr>\n                \n                <tr>\n                  \n                  <td>TUR</td>\n                  \n                  <td>893353197570</td>\n                  \n                </tr>\n                \n                <tr>\n                  \n                  <td>BDI</td>\n                  \n                  <td>936302870529</td>\n                  \n                </tr>\n                \n                <tr>\n                  \n                  <td>AZE</td>\n                  \n                  <td>481036337152</td>\n                  \n                </tr>\n                \n                <tr>\n                  \n                  <td>CAF</td>\n                  \n                  <td>850403524608</td>\n                  \n                </tr>\n                \n                <tr>\n                  \n                  <td>EGY</td>\n                  \n                  <td>1683627180033</td>\n                  \n                </tr>\n                \n                <tr>\n                  \n                  <td>DMA</td>\n                  \n                  <td>532575944706</td>\n                  \n                </tr>\n                \n                <tr>\n                  \n                  <td>BLR</td>\n                  \n                  <td>575525617664</td>\n                  \n                </tr>\n                \n                <tr>\n                  \n                  <td>TTO</td>\n                  \n                  <td>1271310319616</td>\n                  \n                </tr>\n                \n                <tr>\n                  \n                  <td>MDV</td>\n                  \n                  <td>1322849927168</td>\n                  \n                </tr>\n                \n                <tr>\n                  \n                  <td>SAU</td>\n                  \n                  <td>704374636546</td>\n                  \n                </tr>\n                \n                <tr>\n                  \n                  <td>BHS</td>\n                  \n                  <td>326417514496</td>\n                  \n                </tr>\n                \n                <tr>\n                  \n                  <td>BIH</td>\n                  \n                  <td>807453851648</td>\n                  \n                </tr>\n                \n                <tr>\n                  \n                  <td>AND</td>\n                  \n                  <td>841813590016</td>\n                  \n                </tr>\n                \n                <tr>\n                  \n                  <td>MWI</td>\n                  \n                  <td>824633720832</td>\n                  \n                </tr>\n                \n                <tr>\n                  \n                  <td>SHN</td>\n                  \n                  <td>300647710720</td>\n                  \n                </tr>\n                \n                <tr>\n                  \n                  <td>SSD</td>\n                  \n                  <td>781684047872</td>\n                  \n                </tr>\n                \n                <tr>\n                  \n                  <td>BGR</td>\n                  \n                  <td>1597727834112</td>\n                  \n                </tr>\n                \n                <tr>\n                  \n                  <td>MYS</td>\n                  \n                  <td>1159641169920</td>\n                  \n                </tr>\n                \n                <tr>\n                  \n                  <td>TLS</td>\n                  \n                  <td>695784701953</td>\n                  \n                </tr>\n                \n                <tr>\n                  \n                  <td>LUX</td>\n                  \n                  <td>884763262976</td>\n                  \n                </tr>\n                \n                <tr>\n                  \n                  <td>ATA</td>\n                  \n                  <td>1168231104513</td>\n                  \n                </tr>\n                \n                <tr>\n                  \n                  <td>ABW</td>\n                  \n                  <td>103079215104</td>\n                  \n                </tr>\n                \n                <tr>\n                  \n                  <td>IDN</td>\n                  \n                  <td>1571958030337</td>\n                  \n                </tr>\n                \n              </tbody>\n            </table>\n          </div>\n        </div>\n      </div>\n    </div>\n  </div>\n  \n  <script class=\"pd_save\">\n    $(function() {\n      var tableWrapper = $('.df-table-wrapper-568d6bde');\n      var fixedHeader = $('.fixed-header', tableWrapper);\n      var tableContainer = $('.df-table-container', tableWrapper);\n      var table = $('.df-table', tableContainer);\n      var rows = $('tbody > tr', table);\n      var total = 96;\n  \n      fixedHeader\n        .css('width', table.width())\n        .find('.fixed-cell')\n        .each(function(i, e) {\n          $(this).css('width', $('.df-table-wrapper-568d6bde th:nth-child(' + (i+1) + ')').css('width'));\n        });\n  \n      tableContainer.scroll(function() {\n        fixedHeader.css({ left: table.position().left });\n      });\n  \n      rows.on(\"click\", function(e){\n          var txt = e.delegateTarget.innerText;\n          var splits = txt.split(\"\\t\");\n          var len = splits.length;\n          var hdrs = $(fixedHeader).find(\".fixed-cell\");\n          // Add all cells in the selected row as a map to be consumed by the target as needed\n          var payload = {type:\"select\", targetDivId: \"\" };\n          for (var i = 0; i < len; i++) {\n            payload[hdrs[i].innerHTML] = splits[i];\n          }\n  \n          //simple selection highlighting, client adds \"selected\" class\n          $(this).addClass(\"selected\").siblings().removeClass(\"selected\");\n          $(document).trigger('pd_event', payload);\n      });\n  \n      $('.df-table-search', tableWrapper).keyup(function() {\n        var val = '^(?=.*\\\\b' + $.trim($(this).val()).split(/\\s+/).join('\\\\b)(?=.*\\\\b') + ').*$';\n        var reg = RegExp(val, 'i');\n        var index = 0;\n        \n        rows.each(function(i, e) {\n          if (!reg.test($(this).text().replace(/\\s+/g, ' '))) {\n            $(this).attr('class', 'hidden');\n          }\n          else {\n            $(this).attr('class', (++index % 2 == 0 ? 'even' : 'odd'));\n          }\n        });\n        $('.df-table-search-count', tableWrapper).html('Showing ' + index + ' of ' + total + ' rows');\n      });\n    });\n  \n    $(\".df-table-wrapper td:contains('http://')\").each(function(){var tc = this.textContent; $(this).wrapInner(\"<a target='_blank' href='\" + tc + \"'></a>\");});\n    $(\".df-table-wrapper td:contains('https://')\").each(function(){var tc = this.textContent; $(this).wrapInner(\"<a target='_blank' href='\" + tc + \"'></a>\");});\n  </script>\n  \n        </div>", 
                        "text/plain": "<IPython.core.display.HTML object>"
                    }, 
                    "metadata": {}
                }
            ], 
            "source": "result = big_g.stronglyConnectedComponents(maxIter=5)\ndisplay(result.select(\"id\", \"component\"))"
        }, 
        {
            "execution_count": 37, 
            "cell_type": "code", 
            "metadata": {
                "pixiedust": {
                    "displayParams": {
                        "handlerId": "tableView"
                    }
                }
            }, 
            "outputs": [
                {
                    "output_type": "stream", 
                    "name": "stdout", 
                    "text": "+-------------+-----+\n|    component|count|\n+-------------+-----+\n|  17179869186|   15|\n| 489626271744|    5|\n|1537598291968|    2|\n|1511828488192|    1|\n| 970662608897|    1|\n| 283467841538|    1|\n| 652835028992|    1|\n|1640677507072|    1|\n|   8589934592|    1|\n|  34359738369|    1|\n|1245540515840|    1|\n|1022202216448|    1|\n| 618475290624|    1|\n| 678604832768|    1|\n|1683627180036|    1|\n| 266287972353|    1|\n|            0|    1|\n| 919123001344|    1|\n|1563368095745|    1|\n|1314259992577|    1|\n+-------------+-----+\nonly showing top 20 rows\n\n"
                }
            ], 
            "source": "result.select(\"id\", \"component\").groupby(\"component\").count().sort(desc(\"count\")).show()"
        }, 
        {
            "execution_count": 42, 
            "cell_type": "code", 
            "metadata": {}, 
            "outputs": [
                {
                    "output_type": "stream", 
                    "name": "stdout", 
                    "text": "+---+-------------+-------------+------------+\n| id|         name|       region|   component|\n+---+-------------+-------------+------------+\n|MEX|       Mexico|North America|489626271744|\n|CHL|        Chile|South America|489626271744|\n|USA|United States|North America|489626271744|\n|AUS|    Australia|      Oceania|489626271744|\n|CAN|       Canada|North America|489626271744|\n+---+-------------+-------------+------------+\n\n"
                }
            ], 
            "source": "result.filter(col('component') == \"489626271744\" ).show()"
        }, 
        {
            "source": "## Pagerank", 
            "cell_type": "markdown", 
            "metadata": {}
        }, 
        {
            "execution_count": 34, 
            "cell_type": "code", 
            "metadata": {}, 
            "outputs": [], 
            "source": "results = latam_g.pageRank(resetProbability=0.15, tol=0.05)"
        }, 
        {
            "execution_count": 35, 
            "cell_type": "code", 
            "metadata": {
                "pixiedust": {
                    "displayParams": {
                        "handlerId": "tableView"
                    }
                }
            }, 
            "outputs": [
                {
                    "output_type": "display_data", 
                    "data": {
                        "text/html": "<style type=\"text/css\">.pd_warning{display:none;}</style><div class=\"pd_warning\"><em>Hey, there's something awesome here! To see it, open this notebook outside GitHub, in a viewer like Jupyter</em></div>\n        <div class=\"pd_save is-viewer-good\" style=\"padding-right:10px;text-align: center;line-height:initial !important;font-size: xx-large;font-weight: 500;color: coral;\">\n            \n        </div>\n    <div id=\"chartFigure367e0d28\" class=\"pd_save is-viewer-good\" style=\"overflow-x:auto\">\n            <style type=\"text/css\" class=\"pd_save\">\n    .df-table-wrapper .panel-heading {\n      border-radius: 0;\n      padding: 0px;\n    }\n    .df-table-wrapper .panel-heading:hover {\n      border-color: #008571;\n    }\n    .df-table-wrapper .panel-title a {\n      background-color: #f9f9fb;\n      color: #333333;\n      display: block;\n      outline: none;\n      padding: 10px 15px;\n      text-decoration: none;\n    }\n    .df-table-wrapper .panel-title a:hover {\n      background-color: #337ab7;\n      border-color: #2e6da4;\n      color: #ffffff;\n      display: block;\n      padding: 10px 15px;\n      text-decoration: none;\n    }\n    .df-table-wrapper {\n      font-size: small;\n      font-weight: 300;\n      letter-spacing: 0.5px;\n      line-height: normal;\n      height: inherit;\n      overflow: auto;\n    }\n    .df-table-search {\n      margin: 0 0 20px 0;\n    }\n    .df-table-search-count {\n      display: inline-block;\n      margin: 0 0 20px 0;\n    }\n    .df-table-container {\n      max-height: 50vh;\n      max-width: 100%;\n      overflow-x: auto;\n      position: relative;\n    }\n    .df-table-wrapper table {\n      border: 0 none #ffffff;\n      border-collapse: collapse;\n      margin: 0;\n      min-width: 100%;\n      padding: 0;\n      table-layout: fixed;\n      height: inherit;\n      overflow: auto;\n    }\n    .df-table-wrapper tr.hidden {\n      display: none;\n    }\n    .df-table-wrapper tr:nth-child(even) {\n      background-color: #f9f9fb;\n    }\n    .df-table-wrapper tr.even {\n      background-color: #f9f9fb;\n    }\n    .df-table-wrapper tr.odd {\n      background-color: #ffffff;\n    }\n    .df-table-wrapper td + td {\n      border-left: 1px solid #e0e0e0;\n    }\n  \n    .df-table-wrapper thead,\n    .fixed-header {\n      font-weight: 600;\n    }\n    .df-table-wrapper tr,\n    .fixed-row {\n      border: 0 none #ffffff;\n      margin: 0;\n      padding: 0;\n    }\n    .df-table-wrapper th,\n    .df-table-wrapper td,\n    .fixed-cell {\n      border: 0 none #ffffff;\n      margin: 0;\n      min-width: 50px;\n      padding: 5px 20px 5px 10px;\n      text-align: left;\n      word-wrap: break-word;\n    }\n    .df-table-wrapper th {\n      padding-bottom: 0;\n      padding-top: 0;\n    }\n    .df-table-wrapper th div {\n      max-height: 1px;\n      visibility: hidden;\n    }\n  \n    .df-schema-field {\n      margin-left: 10px;\n    }\n  \n    .fixed-header-container {\n      overflow: hidden;\n      position: relative;\n    }\n    .fixed-header {\n      border-bottom: 2px solid #000;\n      display: table;\n      position: relative;\n    }\n    .fixed-row {\n      display: table-row;\n    }\n    .fixed-cell {\n      display: table-cell;\n    }\n  </style>\n  \n  \n  <div class=\"df-table-wrapper df-table-wrapper-367e0d28 panel-group pd_save\">\n    <!-- dataframe schema -->\n    \n    <div class=\"panel panel-default\">\n      <div class=\"panel-heading\">\n        <h4 class=\"panel-title\" style=\"margin: 0px;\">\n          <a data-toggle=\"collapse\" href=\"#df-schema-367e0d28\" data-parent=\"#df-table-wrapper-367e0d28\">Schema</a>\n        </h4>\n      </div>\n      <div id=\"df-schema-367e0d28\" class=\"panel-collapse collapse\">\n        <div class=\"panel-body\" style=\"font-family: monospace;\">\n          <div class=\"df-schema-fields\">\n            <div>Field types:</div>\n            \n              <div class=\"df-schema-field\"><strong>id: </strong> object</div>\n            \n              <div class=\"df-schema-field\"><strong>name: </strong> object</div>\n            \n              <div class=\"df-schema-field\"><strong>region: </strong> object</div>\n            \n              <div class=\"df-schema-field\"><strong>pagerank: </strong> float64</div>\n            \n          </div>\n        </div>\n      </div>\n    </div>\n    \n    <!-- dataframe table -->\n    <div class=\"panel panel-default\">\n      \n      <div class=\"panel-heading\">\n        <h4 class=\"panel-title\" style=\"margin: 0px;\">\n          <a data-toggle=\"collapse\" href=\"#df-table-367e0d28\" data-parent=\"#df-table-wrapper-367e0d28\"> Table</a>\n        </h4>\n      </div>\n      \n      <div id=\"df-table-367e0d28\" class=\"panel-collapse collapse in\">\n        <div class=\"panel-body\">\n          \n          <input class=\"df-table-search form-control input-sm\" placeholder=\"Search table\" type=\"text\">\n          \n          <div>\n            \n            <span class=\"df-table-search-count\">Showing 13 of 13 rows</span>\n            \n          </div>\n          <!-- fixed header for when dataframe table scrolls -->\n          <div class=\"fixed-header-container\">\n            <div class=\"fixed-header\" style=\"width: 871px;\">\n              <div class=\"fixed-row\">\n                \n                <div class=\"fixed-cell\" style=\"width: 100px;\">id</div>\n                \n                <div class=\"fixed-cell\" style=\"width: 298px;\">name</div>\n                \n                <div class=\"fixed-cell\" style=\"width: 200px;\">region</div>\n                \n                <div class=\"fixed-cell\" style=\"width: 274px;\">pagerank</div>\n                \n              </div>\n            </div>\n          </div>\n          <div class=\"df-table-container\">\n            <table class=\"df-table\">\n              <thead>\n                <tr>\n                  \n                  <th><div>id</div></th>\n                  \n                  <th><div>name</div></th>\n                  \n                  <th><div>region</div></th>\n                  \n                  <th><div>pagerank</div></th>\n                  \n                </tr>\n              </thead>\n              <tbody>\n                \n                <tr>\n                  \n                  <td>COL</td>\n                  \n                  <td>Colombia</td>\n                  \n                  <td>South America</td>\n                  \n                  <td>0.9110889674566296</td>\n                  \n                </tr>\n                \n                <tr>\n                  \n                  <td>CHL</td>\n                  \n                  <td>Chile</td>\n                  \n                  <td>South America</td>\n                  \n                  <td>0.8885496004178979</td>\n                  \n                </tr>\n                \n                <tr>\n                  \n                  <td>BRA</td>\n                  \n                  <td>Brazil</td>\n                  \n                  <td>South America</td>\n                  \n                  <td>0.753684719265628</td>\n                  \n                </tr>\n                \n                <tr>\n                  \n                  <td>VEN</td>\n                  \n                  <td>Venezuela</td>\n                  \n                  <td>South America</td>\n                  \n                  <td>0.7208393826862725</td>\n                  \n                </tr>\n                \n                <tr>\n                  \n                  <td>BOL</td>\n                  \n                  <td>Bolivia</td>\n                  \n                  <td>South America</td>\n                  \n                  <td>0.7117460704416794</td>\n                  \n                </tr>\n                \n                <tr>\n                  \n                  <td>ARG</td>\n                  \n                  <td>Argentina</td>\n                  \n                  <td>South America</td>\n                  \n                  <td>0.6962886616301689</td>\n                  \n                </tr>\n                \n                <tr>\n                  \n                  <td>PER</td>\n                  \n                  <td>Peru</td>\n                  \n                  <td>South America</td>\n                  \n                  <td>0.6956809881138851</td>\n                  \n                </tr>\n                \n                <tr>\n                  \n                  <td>ECU</td>\n                  \n                  <td>Ecuador</td>\n                  \n                  <td>South America</td>\n                  \n                  <td>0.6516483954578789</td>\n                  \n                </tr>\n                \n                <tr>\n                  \n                  <td>URY</td>\n                  \n                  <td>Uruguay</td>\n                  \n                  <td>South America</td>\n                  \n                  <td>0.6351416327433211</td>\n                  \n                </tr>\n                \n                <tr>\n                  \n                  <td>GUY</td>\n                  \n                  <td>Guyana</td>\n                  \n                  <td>South America</td>\n                  \n                  <td>0.5778581422037792</td>\n                  \n                </tr>\n                \n                <tr>\n                  \n                  <td>PRY</td>\n                  \n                  <td>Paraguay</td>\n                  \n                  <td>South America</td>\n                  \n                  <td>0.5638930780720033</td>\n                  \n                </tr>\n                \n                <tr>\n                  \n                  <td>SUR</td>\n                  \n                  <td>Suriname</td>\n                  \n                  <td>South America</td>\n                  \n                  <td>0.5634066685235466</td>\n                  \n                </tr>\n                \n                <tr>\n                  \n                  <td>FLK</td>\n                  \n                  <td>Falkland Isds (Malvinas)</td>\n                  \n                  <td>South America</td>\n                  \n                  <td>0.15</td>\n                  \n                </tr>\n                \n              </tbody>\n            </table>\n          </div>\n        </div>\n      </div>\n    </div>\n  </div>\n  \n  <script class=\"pd_save\">\n    $(function() {\n      var tableWrapper = $('.df-table-wrapper-367e0d28');\n      var fixedHeader = $('.fixed-header', tableWrapper);\n      var tableContainer = $('.df-table-container', tableWrapper);\n      var table = $('.df-table', tableContainer);\n      var rows = $('tbody > tr', table);\n      var total = 13;\n  \n      fixedHeader\n        .css('width', table.width())\n        .find('.fixed-cell')\n        .each(function(i, e) {\n          $(this).css('width', $('.df-table-wrapper-367e0d28 th:nth-child(' + (i+1) + ')').css('width'));\n        });\n  \n      tableContainer.scroll(function() {\n        fixedHeader.css({ left: table.position().left });\n      });\n  \n      rows.on(\"click\", function(e){\n          var txt = e.delegateTarget.innerText;\n          var splits = txt.split(\"\\t\");\n          var len = splits.length;\n          var hdrs = $(fixedHeader).find(\".fixed-cell\");\n          // Add all cells in the selected row as a map to be consumed by the target as needed\n          var payload = {type:\"select\", targetDivId: \"\" };\n          for (var i = 0; i < len; i++) {\n            payload[hdrs[i].innerHTML] = splits[i];\n          }\n  \n          //simple selection highlighting, client adds \"selected\" class\n          $(this).addClass(\"selected\").siblings().removeClass(\"selected\");\n          $(document).trigger('pd_event', payload);\n      });\n  \n      $('.df-table-search', tableWrapper).keyup(function() {\n        var val = '^(?=.*\\\\b' + $.trim($(this).val()).split(/\\s+/).join('\\\\b)(?=.*\\\\b') + ').*$';\n        var reg = RegExp(val, 'i');\n        var index = 0;\n        \n        rows.each(function(i, e) {\n          if (!reg.test($(this).text().replace(/\\s+/g, ' '))) {\n            $(this).attr('class', 'hidden');\n          }\n          else {\n            $(this).attr('class', (++index % 2 == 0 ? 'even' : 'odd'));\n          }\n        });\n        $('.df-table-search-count', tableWrapper).html('Showing ' + index + ' of ' + total + ' rows');\n      });\n    });\n  \n    $(\".df-table-wrapper td:contains('http://')\").each(function(){var tc = this.textContent; $(this).wrapInner(\"<a target='_blank' href='\" + tc + \"'></a>\");});\n    $(\".df-table-wrapper td:contains('https://')\").each(function(){var tc = this.textContent; $(this).wrapInner(\"<a target='_blank' href='\" + tc + \"'></a>\");});\n  </script>\n  \n        </div>", 
                        "text/plain": "<IPython.core.display.HTML object>"
                    }, 
                    "metadata": {}
                }
            ], 
            "source": "display(results.vertices.sort(desc(\"pagerank\")))"
        }, 
        {
            "execution_count": null, 
            "cell_type": "code", 
            "metadata": {}, 
            "outputs": [], 
            "source": ""
        }
    ], 
    "metadata": {
        "kernelspec": {
            "display_name": "Python 3.5 with Spark 2.1", 
            "name": "python3-spark21", 
            "language": "python"
        }, 
        "language_info": {
            "mimetype": "text/x-python", 
            "nbconvert_exporter": "python", 
            "version": "3.5.4", 
            "name": "python", 
            "file_extension": ".py", 
            "pygments_lexer": "ipython3", 
            "codemirror_mode": {
                "version": 3, 
                "name": "ipython"
            }
        }
    }, 
    "nbformat": 4
}