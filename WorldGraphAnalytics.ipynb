{
    "nbformat_minor": 1, 
    "cells": [
        {
            "execution_count": 2, 
            "cell_type": "code", 
            "metadata": {}, 
            "outputs": [], 
            "source": "#!pip install --user pixiedust\n#!pip install ggplot\n#!pip install wget"
        }, 
        {
            "execution_count": 3, 
            "cell_type": "code", 
            "metadata": {}, 
            "outputs": [
                {
                    "output_type": "stream", 
                    "name": "stdout", 
                    "text": "Pixiedust database opened successfully\n"
                }, 
                {
                    "output_type": "display_data", 
                    "data": {
                        "text/html": "\n        <div style=\"margin:10px\">\n            <a href=\"https://github.com/ibm-watson-data-lab/pixiedust\" target=\"_new\">\n                <img src=\"https://github.com/ibm-watson-data-lab/pixiedust/raw/master/docs/_static/pd_icon32.png\" style=\"float:left;margin-right:10px\"/>\n            </a>\n            <span>Pixiedust version 1.1.7.1</span>\n        </div>\n        ", 
                        "text/plain": "<IPython.core.display.HTML object>"
                    }, 
                    "metadata": {}
                }, 
                {
                    "output_type": "stream", 
                    "name": "stdout", 
                    "text": "Package already installed: graphframes:graphframes:0\ngraphframes:graphframes:0.5.0-spark2.1-s_2.11 => /gpfs/fs01/user/se1f-2003f1257f20bb-7f578b9e48a9/data/libs/graphframes-0.5.0-spark2.1-s_2.11.jar\n"
                }
            ], 
            "source": "from pixiedust.packageManager import PackageManager\npkg=PackageManager()\npkg.installPackage(\"graphframes:graphframes:0\")\npkg.printAllPackages()\n\nsqlContext=SQLContext(sc)"
        }, 
        {
            "source": "# Librerias", 
            "cell_type": "markdown", 
            "metadata": {}
        }, 
        {
            "execution_count": 4, 
            "cell_type": "code", 
            "metadata": {}, 
            "outputs": [], 
            "source": "from graphframes import GraphFrame\nfrom pyspark.sql.functions import col, desc, when\nfrom pyspark.sql import functions as F\n\n#from ggplot import *\nimport matplotlib.pylab as plt\nimport pandas as pd\nimport seaborn as sns\nimport wget"
        }, 
        {
            "source": "# Cargamos archivos para crear grafo", 
            "cell_type": "markdown", 
            "metadata": {}
        }, 
        {
            "source": "Aqui cargamos los archivos de vertices y nodos, estos vienen de csv", 
            "cell_type": "markdown", 
            "metadata": {}
        }, 
        {
            "source": "Los vertices/nodos y aristas/relaciones son representados como dos dataframes de Spark. Mas sobre dataframes a continuacion.\n\nEn el dataframe de nodos debe existir una columna llamada `id` para designar el identificador del nodo. Igualmente, en el dataframe de relaciones deben existir columnas `src` y `dst` que denotan el origen y destino de la relacion. Estos ultimos, deben corresponder a ids validos del dataframe de nodos. ", 
            "cell_type": "markdown", 
            "metadata": {}
        }, 
        {
            "execution_count": 5, 
            "cell_type": "code", 
            "metadata": {}, 
            "outputs": [], 
            "source": "nodes_file = wget.download(\"https://raw.githubusercontent.com/astenuz/AnalyticsForumWorkshop/master/data/trade_agro_nodes.csv\")\nedges_file = wget.download(\"https://raw.githubusercontent.com/astenuz/AnalyticsForumWorkshop/master/data/trade_agro_edges.csv\")"
        }, 
        {
            "source": "El siguiente bloque carga los archivos csv como dataframes de spark.", 
            "cell_type": "markdown", 
            "metadata": {}
        }, 
        {
            "execution_count": 6, 
            "cell_type": "code", 
            "metadata": {}, 
            "outputs": [], 
            "source": "nodes_df = spark.read\\\n  .format('org.apache.spark.sql.execution.datasources.csv.CSVFileFormat')\\\n  .option('header', 'true')\\\n  .load(nodes_file)\n    \nedges_df = spark.read\\\n  .format('org.apache.spark.sql.execution.datasources.csv.CSVFileFormat')\\\n  .option('header', 'true')\\\n  .load(edges_file)"
        }, 
        {
            "source": "Adicionamos un preprocesamiento simple que remueve self-loops", 
            "cell_type": "markdown", 
            "metadata": {}
        }, 
        {
            "execution_count": 7, 
            "cell_type": "code", 
            "metadata": {}, 
            "outputs": [], 
            "source": "edges_df = edges_df\\\n  .filter(col('src') != col('dst'))"
        }, 
        {
            "source": "# Intro a Dataframes", 
            "cell_type": "markdown", 
            "metadata": {}
        }, 
        {
            "source": "Antes de continuar vamos a ver una introduccion corta a Dataframes de Spark para entender las operaciones basicas con tablas de datos que usaremos en el taller.", 
            "cell_type": "markdown", 
            "metadata": {}
        }, 
        {
            "source": "Un dataframe es basicamente una tabla, como de excel. Tiene columnas que interpretamos generalmente como atributos y filas que interpretamos como observaciones. Por ejemplo, veamos que hay en el dataframe de nodos.", 
            "cell_type": "markdown", 
            "metadata": {}
        }, 
        {
            "execution_count": 10, 
            "cell_type": "code", 
            "metadata": {}, 
            "outputs": [
                {
                    "execution_count": 10, 
                    "metadata": {}, 
                    "data": {
                        "text/plain": "[Row(id='AFG', name='Afghanistan', region='South Asia'),\n Row(id='ALB', name='Albania', region='Europe'),\n Row(id='ATA', name='Antarctica', region='Other'),\n Row(id='DZA', name='Algeria', region='Middle East and North Africa'),\n Row(id='ASM', name='American Samoa', region='Oceania')]"
                    }, 
                    "output_type": "execute_result"
                }
            ], 
            "source": "nodes_df.head(5)"
        }, 
        {
            "source": "Head selecciona los primeros 5 `Row` del dataframe, para obtener una representacion mas amigable podemos usar show o display.", 
            "cell_type": "markdown", 
            "metadata": {}
        }, 
        {
            "execution_count": 11, 
            "cell_type": "code", 
            "metadata": {
                "pixiedust": {
                    "displayParams": {
                        "handlerId": "tableView"
                    }
                }
            }, 
            "outputs": [
                {
                    "output_type": "display_data", 
                    "data": {
                        "text/html": "<style type=\"text/css\">.pd_warning{display:none;}</style><div class=\"pd_warning\"><em>Hey, there's something awesome here! To see it, open this notebook outside GitHub, in a viewer like Jupyter</em></div>\n        <div class=\"pd_save is-viewer-good\" style=\"padding-right:10px;text-align: center;line-height:initial !important;font-size: xx-large;font-weight: 500;color: coral;\">\n            \n        </div>\n    <div id=\"chartFigure359e84f9\" class=\"pd_save is-viewer-good\" style=\"overflow-x:auto\">\n            <style type=\"text/css\" class=\"pd_save\">\n    .df-table-wrapper .panel-heading {\n      border-radius: 0;\n      padding: 0px;\n    }\n    .df-table-wrapper .panel-heading:hover {\n      border-color: #008571;\n    }\n    .df-table-wrapper .panel-title a {\n      background-color: #f9f9fb;\n      color: #333333;\n      display: block;\n      outline: none;\n      padding: 10px 15px;\n      text-decoration: none;\n    }\n    .df-table-wrapper .panel-title a:hover {\n      background-color: #337ab7;\n      border-color: #2e6da4;\n      color: #ffffff;\n      display: block;\n      padding: 10px 15px;\n      text-decoration: none;\n    }\n    .df-table-wrapper {\n      font-size: small;\n      font-weight: 300;\n      letter-spacing: 0.5px;\n      line-height: normal;\n      height: inherit;\n      overflow: auto;\n    }\n    .df-table-search {\n      margin: 0 0 20px 0;\n    }\n    .df-table-search-count {\n      display: inline-block;\n      margin: 0 0 20px 0;\n    }\n    .df-table-container {\n      max-height: 50vh;\n      max-width: 100%;\n      overflow-x: auto;\n      position: relative;\n    }\n    .df-table-wrapper table {\n      border: 0 none #ffffff;\n      border-collapse: collapse;\n      margin: 0;\n      min-width: 100%;\n      padding: 0;\n      table-layout: fixed;\n      height: inherit;\n      overflow: auto;\n    }\n    .df-table-wrapper tr.hidden {\n      display: none;\n    }\n    .df-table-wrapper tr:nth-child(even) {\n      background-color: #f9f9fb;\n    }\n    .df-table-wrapper tr.even {\n      background-color: #f9f9fb;\n    }\n    .df-table-wrapper tr.odd {\n      background-color: #ffffff;\n    }\n    .df-table-wrapper td + td {\n      border-left: 1px solid #e0e0e0;\n    }\n  \n    .df-table-wrapper thead,\n    .fixed-header {\n      font-weight: 600;\n    }\n    .df-table-wrapper tr,\n    .fixed-row {\n      border: 0 none #ffffff;\n      margin: 0;\n      padding: 0;\n    }\n    .df-table-wrapper th,\n    .df-table-wrapper td,\n    .fixed-cell {\n      border: 0 none #ffffff;\n      margin: 0;\n      min-width: 50px;\n      padding: 5px 20px 5px 10px;\n      text-align: left;\n      word-wrap: break-word;\n    }\n    .df-table-wrapper th {\n      padding-bottom: 0;\n      padding-top: 0;\n    }\n    .df-table-wrapper th div {\n      max-height: 1px;\n      visibility: hidden;\n    }\n  \n    .df-schema-field {\n      margin-left: 10px;\n    }\n  \n    .fixed-header-container {\n      overflow: hidden;\n      position: relative;\n    }\n    .fixed-header {\n      border-bottom: 2px solid #000;\n      display: table;\n      position: relative;\n    }\n    .fixed-row {\n      display: table-row;\n    }\n    .fixed-cell {\n      display: table-cell;\n    }\n  </style>\n  \n  \n  <div class=\"df-table-wrapper df-table-wrapper-359e84f9 panel-group pd_save\">\n    <!-- dataframe schema -->\n    \n    <div class=\"panel panel-default\">\n      <div class=\"panel-heading\">\n        <h4 class=\"panel-title\" style=\"margin: 0px;\">\n          <a data-toggle=\"collapse\" href=\"#df-schema-359e84f9\" data-parent=\"#df-table-wrapper-359e84f9\">Schema</a>\n        </h4>\n      </div>\n      <div id=\"df-schema-359e84f9\" class=\"panel-collapse collapse\">\n        <div class=\"panel-body\" style=\"font-family: monospace;\">\n          <div class=\"df-schema-fields\">\n            <div>Field types:</div>\n            \n              <div class=\"df-schema-field\"><strong>id: </strong> object</div>\n            \n              <div class=\"df-schema-field\"><strong>name: </strong> object</div>\n            \n              <div class=\"df-schema-field\"><strong>region: </strong> object</div>\n            \n          </div>\n        </div>\n      </div>\n    </div>\n    \n    <!-- dataframe table -->\n    <div class=\"panel panel-default\">\n      \n      <div class=\"panel-heading\">\n        <h4 class=\"panel-title\" style=\"margin: 0px;\">\n          <a data-toggle=\"collapse\" href=\"#df-table-359e84f9\" data-parent=\"#df-table-wrapper-359e84f9\"> Table</a>\n        </h4>\n      </div>\n      \n      <div id=\"df-table-359e84f9\" class=\"panel-collapse collapse in\">\n        <div class=\"panel-body\">\n          \n          <input class=\"df-table-search form-control input-sm\" placeholder=\"Search table\" type=\"text\">\n          \n          <div>\n            \n            <span class=\"df-table-search-count\">Showing 106 of 106 rows</span>\n            \n          </div>\n          <!-- fixed header for when dataframe table scrolls -->\n          <div class=\"fixed-header-container\">\n            <div class=\"fixed-header\" style=\"width: 871px;\">\n              <div class=\"fixed-row\">\n                \n                <div class=\"fixed-cell\" style=\"width: 115px;\">id</div>\n                \n                <div class=\"fixed-cell\" style=\"width: 348px;\">name</div>\n                \n                <div class=\"fixed-cell\" style=\"width: 408px;\">region</div>\n                \n              </div>\n            </div>\n          </div>\n          <div class=\"df-table-container\">\n            <table class=\"df-table\">\n              <thead>\n                <tr>\n                  \n                  <th><div>id</div></th>\n                  \n                  <th><div>name</div></th>\n                  \n                  <th><div>region</div></th>\n                  \n                </tr>\n              </thead>\n              <tbody>\n                \n                <tr>\n                  \n                  <td>AFG</td>\n                  \n                  <td>Afghanistan</td>\n                  \n                  <td>South Asia</td>\n                  \n                </tr>\n                \n                <tr>\n                  \n                  <td>ATA</td>\n                  \n                  <td>Antarctica</td>\n                  \n                  <td>Other</td>\n                  \n                </tr>\n                \n                <tr>\n                  \n                  <td>DZA</td>\n                  \n                  <td>Algeria</td>\n                  \n                  <td>Middle East and North Africa</td>\n                  \n                </tr>\n                \n                <tr>\n                  \n                  <td>AND</td>\n                  \n                  <td>Andorra</td>\n                  \n                  <td>Europe</td>\n                  \n                </tr>\n                \n                <tr>\n                  \n                  <td>AGO</td>\n                  \n                  <td>Angola</td>\n                  \n                  <td>Sub-Saharan Africa</td>\n                  \n                </tr>\n                \n                <tr>\n                  \n                  <td>ATG</td>\n                  \n                  <td>Antigua and Barbuda</td>\n                  \n                  <td>Caribbean and Central America</td>\n                  \n                </tr>\n                \n                <tr>\n                  \n                  <td>AZE</td>\n                  \n                  <td>Azerbaijan</td>\n                  \n                  <td>Central and Northern Asia</td>\n                  \n                </tr>\n                \n                <tr>\n                  \n                  <td>BHS</td>\n                  \n                  <td>Bahamas</td>\n                  \n                  <td>Caribbean and Central America</td>\n                  \n                </tr>\n                \n                <tr>\n                  \n                  <td>ARM</td>\n                  \n                  <td>Armenia</td>\n                  \n                  <td>Central and Northern Asia</td>\n                  \n                </tr>\n                \n                <tr>\n                  \n                  <td>BEL</td>\n                  \n                  <td>Belgium</td>\n                  \n                  <td>Europe</td>\n                  \n                </tr>\n                \n                <tr>\n                  \n                  <td>BTN</td>\n                  \n                  <td>Bhutan</td>\n                  \n                  <td>South Asia</td>\n                  \n                </tr>\n                \n                <tr>\n                  \n                  <td>BIH</td>\n                  \n                  <td>Bosnia Herzegovina</td>\n                  \n                  <td>Europe</td>\n                  \n                </tr>\n                \n                <tr>\n                  \n                  <td>VGB</td>\n                  \n                  <td>British Virgin Isds</td>\n                  \n                  <td>Caribbean and Central America</td>\n                  \n                </tr>\n                \n                <tr>\n                  \n                  <td>BRN</td>\n                  \n                  <td>Brunei Darussalam</td>\n                  \n                  <td>Southeast Asia</td>\n                  \n                </tr>\n                \n                <tr>\n                  \n                  <td>MMR</td>\n                  \n                  <td>Myanmar</td>\n                  \n                  <td>Southeast Asia</td>\n                  \n                </tr>\n                \n                <tr>\n                  \n                  <td>BDI</td>\n                  \n                  <td>Burundi</td>\n                  \n                  <td>Sub-Saharan Africa</td>\n                  \n                </tr>\n                \n                <tr>\n                  \n                  <td>CMR</td>\n                  \n                  <td>Cameroon</td>\n                  \n                  <td>Sub-Saharan Africa</td>\n                  \n                </tr>\n                \n                <tr>\n                  \n                  <td>CAF</td>\n                  \n                  <td>Central African Rep.</td>\n                  \n                  <td>Sub-Saharan Africa</td>\n                  \n                </tr>\n                \n                <tr>\n                  \n                  <td>TCD</td>\n                  \n                  <td>Chad</td>\n                  \n                  <td>Sub-Saharan Africa</td>\n                  \n                </tr>\n                \n                <tr>\n                  \n                  <td>CHN</td>\n                  \n                  <td>China</td>\n                  \n                  <td>China</td>\n                  \n                </tr>\n                \n                <tr>\n                  \n                  <td>CCK</td>\n                  \n                  <td>Cocos Isds</td>\n                  \n                  <td>Oceania</td>\n                  \n                </tr>\n                \n                <tr>\n                  \n                  <td>COM</td>\n                  \n                  <td>Comoros</td>\n                  \n                  <td>Sub-Saharan Africa</td>\n                  \n                </tr>\n                \n                <tr>\n                  \n                  <td>COG</td>\n                  \n                  <td>Congo, Rep.</td>\n                  \n                  <td>Sub-Saharan Africa</td>\n                  \n                </tr>\n                \n                <tr>\n                  \n                  <td>COK</td>\n                  \n                  <td>Cook Isds</td>\n                  \n                  <td>Oceania</td>\n                  \n                </tr>\n                \n                <tr>\n                  \n                  <td>CUB</td>\n                  \n                  <td>Cuba</td>\n                  \n                  <td>Caribbean and Central America</td>\n                  \n                </tr>\n                \n                <tr>\n                  \n                  <td>CYP</td>\n                  \n                  <td>Cyprus</td>\n                  \n                  <td>Europe</td>\n                  \n                </tr>\n                \n                <tr>\n                  \n                  <td>DNK</td>\n                  \n                  <td>Denmark</td>\n                  \n                  <td>Europe</td>\n                  \n                </tr>\n                \n                <tr>\n                  \n                  <td>ECU</td>\n                  \n                  <td>Ecuador</td>\n                  \n                  <td>South America</td>\n                  \n                </tr>\n                \n                <tr>\n                  \n                  <td>EST</td>\n                  \n                  <td>Estonia</td>\n                  \n                  <td>Europe</td>\n                  \n                </tr>\n                \n                <tr>\n                  \n                  <td>FLK</td>\n                  \n                  <td>Falkland Isds (Malvinas)</td>\n                  \n                  <td>South America</td>\n                  \n                </tr>\n                \n                <tr>\n                  \n                  <td>DJI</td>\n                  \n                  <td>Djibouti</td>\n                  \n                  <td>Sub-Saharan Africa</td>\n                  \n                </tr>\n                \n                <tr>\n                  \n                  <td>GAB</td>\n                  \n                  <td>Gabon</td>\n                  \n                  <td>Sub-Saharan Africa</td>\n                  \n                </tr>\n                \n                <tr>\n                  \n                  <td>DEU</td>\n                  \n                  <td>Germany</td>\n                  \n                  <td>Europe</td>\n                  \n                </tr>\n                \n                <tr>\n                  \n                  <td>GHA</td>\n                  \n                  <td>Ghana</td>\n                  \n                  <td>Sub-Saharan Africa</td>\n                  \n                </tr>\n                \n                <tr>\n                  \n                  <td>GIB</td>\n                  \n                  <td>Gibraltar</td>\n                  \n                  <td>Europe</td>\n                  \n                </tr>\n                \n                <tr>\n                  \n                  <td>GUM</td>\n                  \n                  <td>Guam</td>\n                  \n                  <td>Oceania</td>\n                  \n                </tr>\n                \n                <tr>\n                  \n                  <td>GIN</td>\n                  \n                  <td>Guinea</td>\n                  \n                  <td>Sub-Saharan Africa</td>\n                  \n                </tr>\n                \n                <tr>\n                  \n                  <td>VAT</td>\n                  \n                  <td>Holy See</td>\n                  \n                  <td>Europe</td>\n                  \n                </tr>\n                \n                <tr>\n                  \n                  <td>HUN</td>\n                  \n                  <td>Hungary</td>\n                  \n                  <td>Europe</td>\n                  \n                </tr>\n                \n                <tr>\n                  \n                  <td>ISL</td>\n                  \n                  <td>Iceland</td>\n                  \n                  <td>Europe</td>\n                  \n                </tr>\n                \n                <tr>\n                  \n                  <td>IDN</td>\n                  \n                  <td>Indonesia</td>\n                  \n                  <td>Southeast Asia</td>\n                  \n                </tr>\n                \n                <tr>\n                  \n                  <td>IRL</td>\n                  \n                  <td>Ireland</td>\n                  \n                  <td>Europe</td>\n                  \n                </tr>\n                \n                <tr>\n                  \n                  <td>ISR</td>\n                  \n                  <td>Israel</td>\n                  \n                  <td>Middle East and North Africa</td>\n                  \n                </tr>\n                \n                <tr>\n                  \n                  <td>ITA</td>\n                  \n                  <td>Italy</td>\n                  \n                  <td>Europe</td>\n                  \n                </tr>\n                \n                <tr>\n                  \n                  <td>CIV</td>\n                  \n                  <td>Cote d'Ivoire</td>\n                  \n                  <td>Sub-Saharan Africa</td>\n                  \n                </tr>\n                \n                <tr>\n                  \n                  <td>JAM</td>\n                  \n                  <td>Jamaica</td>\n                  \n                  <td>Caribbean and Central America</td>\n                  \n                </tr>\n                \n                <tr>\n                  \n                  <td>KEN</td>\n                  \n                  <td>Kenya</td>\n                  \n                  <td>Sub-Saharan Africa</td>\n                  \n                </tr>\n                \n                <tr>\n                  \n                  <td>KGZ</td>\n                  \n                  <td>Kyrgyzstan</td>\n                  \n                  <td>Central and Northern Asia</td>\n                  \n                </tr>\n                \n                <tr>\n                  \n                  <td>LBN</td>\n                  \n                  <td>Lebanon</td>\n                  \n                  <td>Middle East and North Africa</td>\n                  \n                </tr>\n                \n                <tr>\n                  \n                  <td>LVA</td>\n                  \n                  <td>Latvia</td>\n                  \n                  <td>Europe</td>\n                  \n                </tr>\n                \n                <tr>\n                  \n                  <td>LBR</td>\n                  \n                  <td>Liberia</td>\n                  \n                  <td>Sub-Saharan Africa</td>\n                  \n                </tr>\n                \n                <tr>\n                  \n                  <td>LBY</td>\n                  \n                  <td>Libya</td>\n                  \n                  <td>Middle East and North Africa</td>\n                  \n                </tr>\n                \n                <tr>\n                  \n                  <td>MWI</td>\n                  \n                  <td>Malawi</td>\n                  \n                  <td>Sub-Saharan Africa</td>\n                  \n                </tr>\n                \n                <tr>\n                  \n                  <td>MEX</td>\n                  \n                  <td>Mexico</td>\n                  \n                  <td>North America</td>\n                  \n                </tr>\n                \n                <tr>\n                  \n                  <td>MNG</td>\n                  \n                  <td>Mongolia</td>\n                  \n                  <td>Central and Northern Asia</td>\n                  \n                </tr>\n                \n                <tr>\n                  \n                  <td>MDA</td>\n                  \n                  <td>Moldova</td>\n                  \n                  <td>Europe</td>\n                  \n                </tr>\n                \n                <tr>\n                  \n                  <td>MNE</td>\n                  \n                  <td>Montenegro</td>\n                  \n                  <td>Europe</td>\n                  \n                </tr>\n                \n                <tr>\n                  \n                  <td>MSR</td>\n                  \n                  <td>Montserrat</td>\n                  \n                  <td>Caribbean and Central America</td>\n                  \n                </tr>\n                \n                <tr>\n                  \n                  <td>MAR</td>\n                  \n                  <td>Morocco</td>\n                  \n                  <td>Middle East and North Africa</td>\n                  \n                </tr>\n                \n                <tr>\n                  \n                  <td>NAM</td>\n                  \n                  <td>Namibia</td>\n                  \n                  <td>Sub-Saharan Africa</td>\n                  \n                </tr>\n                \n                <tr>\n                  \n                  <td>NPL</td>\n                  \n                  <td>Nepal</td>\n                  \n                  <td>South Asia</td>\n                  \n                </tr>\n                \n                <tr>\n                  \n                  <td>NLD</td>\n                  \n                  <td>Netherlands</td>\n                  \n                  <td>Europe</td>\n                  \n                </tr>\n                \n                <tr>\n                  \n                  <td>CUW</td>\n                  \n                  <td>Curacao</td>\n                  \n                  <td>Caribbean and Central America</td>\n                  \n                </tr>\n                \n                <tr>\n                  \n                  <td>ABW</td>\n                  \n                  <td>Aruba</td>\n                  \n                  <td>Caribbean and Central America</td>\n                  \n                </tr>\n                \n                <tr>\n                  \n                  <td>SXM</td>\n                  \n                  <td>Sint Maarten (Dutch part)</td>\n                  \n                  <td>Caribbean and Central America</td>\n                  \n                </tr>\n                \n                <tr>\n                  \n                  <td>VUT</td>\n                  \n                  <td>Vanuatu</td>\n                  \n                  <td>Oceania</td>\n                  \n                </tr>\n                \n                <tr>\n                  \n                  <td>NFK</td>\n                  \n                  <td>Norfolk Isds</td>\n                  \n                  <td>Oceania</td>\n                  \n                </tr>\n                \n                <tr>\n                  \n                  <td>NOR</td>\n                  \n                  <td>Norway</td>\n                  \n                  <td>Europe</td>\n                  \n                </tr>\n                \n                <tr>\n                  \n                  <td>PLW</td>\n                  \n                  <td>Palau</td>\n                  \n                  <td>Oceania</td>\n                  \n                </tr>\n                \n                <tr>\n                  \n                  <td>PAK</td>\n                  \n                  <td>Pakistan</td>\n                  \n                  <td>South Asia</td>\n                  \n                </tr>\n                \n                <tr>\n                  \n                  <td>PAN</td>\n                  \n                  <td>Panama</td>\n                  \n                  <td>Caribbean and Central America</td>\n                  \n                </tr>\n                \n                <tr>\n                  \n                  <td>PCN</td>\n                  \n                  <td>Pitcairn</td>\n                  \n                  <td>Oceania</td>\n                  \n                </tr>\n                \n                <tr>\n                  \n                  <td>POL</td>\n                  \n                  <td>Poland</td>\n                  \n                  <td>Europe</td>\n                  \n                </tr>\n                \n                <tr>\n                  \n                  <td>GNB</td>\n                  \n                  <td>Guinea-Bissau</td>\n                  \n                  <td>Sub-Saharan Africa</td>\n                  \n                </tr>\n                \n                <tr>\n                  \n                  <td>TLS</td>\n                  \n                  <td>Timor-Leste</td>\n                  \n                  <td>Southeast Asia</td>\n                  \n                </tr>\n                \n                <tr>\n                  \n                  <td>QAT</td>\n                  \n                  <td>Qatar</td>\n                  \n                  <td>Middle East and North Africa</td>\n                  \n                </tr>\n                \n                <tr>\n                  \n                  <td>RWA</td>\n                  \n                  <td>Rwanda</td>\n                  \n                  <td>Sub-Saharan Africa</td>\n                  \n                </tr>\n                \n                <tr>\n                  \n                  <td>SHN</td>\n                  \n                  <td>Saint Helena</td>\n                  \n                  <td>Sub-Saharan Africa</td>\n                  \n                </tr>\n                \n                <tr>\n                  \n                  <td>AIA</td>\n                  \n                  <td>Anguilla</td>\n                  \n                  <td>Caribbean and Central America</td>\n                  \n                </tr>\n                \n                <tr>\n                  \n                  <td>LCA</td>\n                  \n                  <td>Saint Lucia</td>\n                  \n                  <td>Caribbean and Central America</td>\n                  \n                </tr>\n                \n                <tr>\n                  \n                  <td>SPM</td>\n                  \n                  <td>Saint Pierre and Miquelon</td>\n                  \n                  <td>North America</td>\n                  \n                </tr>\n                \n                <tr>\n                  \n                  <td>STP</td>\n                  \n                  <td>Sao Tome and Principe</td>\n                  \n                  <td>Sub-Saharan Africa</td>\n                  \n                </tr>\n                \n                <tr>\n                  \n                  <td>SAU</td>\n                  \n                  <td>Saudi Arabia</td>\n                  \n                  <td>Middle East and North Africa</td>\n                  \n                </tr>\n                \n                <tr>\n                  \n                  <td>SEN</td>\n                  \n                  <td>Senegal</td>\n                  \n                  <td>Sub-Saharan Africa</td>\n                  \n                </tr>\n                \n                <tr>\n                  \n                  <td>SRB</td>\n                  \n                  <td>Serbia</td>\n                  \n                  <td>Europe</td>\n                  \n                </tr>\n                \n                <tr>\n                  \n                  <td>SLE</td>\n                  \n                  <td>Sierra Leone</td>\n                  \n                  <td>Sub-Saharan Africa</td>\n                  \n                </tr>\n                \n                <tr>\n                  \n                  <td>IND</td>\n                  \n                  <td>India</td>\n                  \n                  <td>South Asia</td>\n                  \n                </tr>\n                \n                <tr>\n                  \n                  <td>VNM</td>\n                  \n                  <td>Vietnam</td>\n                  \n                  <td>Southeast Asia</td>\n                  \n                </tr>\n                \n                <tr>\n                  \n                  <td>SWZ</td>\n                  \n                  <td>Swaziland</td>\n                  \n                  <td>Sub-Saharan Africa</td>\n                  \n                </tr>\n                \n                <tr>\n                  \n                  <td>SWE</td>\n                  \n                  <td>Sweden</td>\n                  \n                  <td>Europe</td>\n                  \n                </tr>\n                \n                <tr>\n                  \n                  <td>CHE</td>\n                  \n                  <td>Switzerland</td>\n                  \n                  <td>Europe</td>\n                  \n                </tr>\n                \n                <tr>\n                  \n                  <td>SYR</td>\n                  \n                  <td>Syria</td>\n                  \n                  <td>Middle East and North Africa</td>\n                  \n                </tr>\n                \n                <tr>\n                  \n                  <td>TJK</td>\n                  \n                  <td>Tajikistan</td>\n                  \n                  <td>Central and Northern Asia</td>\n                  \n                </tr>\n                \n                <tr>\n                  \n                  <td>TKL</td>\n                  \n                  <td>Tokelau</td>\n                  \n                  <td>Oceania</td>\n                  \n                </tr>\n                \n                <tr>\n                  \n                  <td>TUN</td>\n                  \n                  <td>Tunisia</td>\n                  \n                  <td>Middle East and North Africa</td>\n                  \n                </tr>\n                \n                <tr>\n                  \n                  <td>TUV</td>\n                  \n                  <td>Tuvalu</td>\n                  \n                  <td>Oceania</td>\n                  \n                </tr>\n                \n                <tr>\n                  \n                  <td>UGA</td>\n                  \n                  <td>Uganda</td>\n                  \n                  <td>Sub-Saharan Africa</td>\n                  \n                </tr>\n                \n                <tr>\n                  \n                  <td>UKR</td>\n                  \n                  <td>Ukraine</td>\n                  \n                  <td>Central and Northern Asia</td>\n                  \n                </tr>\n                \n                <tr>\n                  \n                  <td>MKD</td>\n                  \n                  <td>Macedonia, FYR</td>\n                  \n                  <td>Europe</td>\n                  \n                </tr>\n                \n                <tr>\n                  \n                  <td>EGY</td>\n                  \n                  <td>Egypt</td>\n                  \n                  <td>Middle East and North Africa</td>\n                  \n                </tr>\n                \n                <tr>\n                  \n                  <td>GBR</td>\n                  \n                  <td>United Kingdom</td>\n                  \n                  <td>Europe</td>\n                  \n                </tr>\n                \n                <tr>\n                  \n                  <td>USA</td>\n                  \n                  <td>United States</td>\n                  \n                  <td>North America</td>\n                  \n                </tr>\n                \n                <tr>\n                  \n                  <td>BFA</td>\n                  \n                  <td>Burkina Faso</td>\n                  \n                  <td>Sub-Saharan Africa</td>\n                  \n                </tr>\n                \n                <tr>\n                  \n                  <td>YEM</td>\n                  \n                  <td>Yemen</td>\n                  \n                  <td>Middle East and North Africa</td>\n                  \n                </tr>\n                \n                <tr>\n                  \n                  <td>ZMB</td>\n                  \n                  <td>Zambia</td>\n                  \n                  <td>Sub-Saharan Africa</td>\n                  \n                </tr>\n                \n                <tr>\n                  \n                  <td>WLF</td>\n                  \n                  <td>Wallis and Futuna Isds</td>\n                  \n                  <td>Oceania</td>\n                  \n                </tr>\n                \n              </tbody>\n            </table>\n          </div>\n        </div>\n      </div>\n    </div>\n  </div>\n  \n  <script class=\"pd_save\">\n    $(function() {\n      var tableWrapper = $('.df-table-wrapper-359e84f9');\n      var fixedHeader = $('.fixed-header', tableWrapper);\n      var tableContainer = $('.df-table-container', tableWrapper);\n      var table = $('.df-table', tableContainer);\n      var rows = $('tbody > tr', table);\n      var total = 106;\n  \n      fixedHeader\n        .css('width', table.width())\n        .find('.fixed-cell')\n        .each(function(i, e) {\n          $(this).css('width', $('.df-table-wrapper-359e84f9 th:nth-child(' + (i+1) + ')').css('width'));\n        });\n  \n      tableContainer.scroll(function() {\n        fixedHeader.css({ left: table.position().left });\n      });\n  \n      rows.on(\"click\", function(e){\n          var txt = e.delegateTarget.innerText;\n          var splits = txt.split(\"\\t\");\n          var len = splits.length;\n          var hdrs = $(fixedHeader).find(\".fixed-cell\");\n          // Add all cells in the selected row as a map to be consumed by the target as needed\n          var payload = {type:\"select\", targetDivId: \"\" };\n          for (var i = 0; i < len; i++) {\n            payload[hdrs[i].innerHTML] = splits[i];\n          }\n  \n          //simple selection highlighting, client adds \"selected\" class\n          $(this).addClass(\"selected\").siblings().removeClass(\"selected\");\n          $(document).trigger('pd_event', payload);\n      });\n  \n      $('.df-table-search', tableWrapper).keyup(function() {\n        var val = '^(?=.*\\\\b' + $.trim($(this).val()).split(/\\s+/).join('\\\\b)(?=.*\\\\b') + ').*$';\n        var reg = RegExp(val, 'i');\n        var index = 0;\n        \n        rows.each(function(i, e) {\n          if (!reg.test($(this).text().replace(/\\s+/g, ' '))) {\n            $(this).attr('class', 'hidden');\n          }\n          else {\n            $(this).attr('class', (++index % 2 == 0 ? 'even' : 'odd'));\n          }\n        });\n        $('.df-table-search-count', tableWrapper).html('Showing ' + index + ' of ' + total + ' rows');\n      });\n    });\n  \n    $(\".df-table-wrapper td:contains('http://')\").each(function(){var tc = this.textContent; $(this).wrapInner(\"<a target='_blank' href='\" + tc + \"'></a>\");});\n    $(\".df-table-wrapper td:contains('https://')\").each(function(){var tc = this.textContent; $(this).wrapInner(\"<a target='_blank' href='\" + tc + \"'></a>\");});\n  </script>\n  \n        </div>", 
                        "text/plain": "<IPython.core.display.HTML object>"
                    }, 
                    "metadata": {}
                }
            ], 
            "source": "#nodes_df.show(5)\ndisplay(nodes_df)"
        }, 
        {
            "source": "Ademas de lo que acaban de ver, las operaciones que usaremos sobre dataframes en este lab son: `filter`, `select`, `withColumn`, `count`, `groupby` y `sort`", 
            "cell_type": "markdown", 
            "metadata": {}
        }, 
        {
            "source": "`filter` sirve para escoger filas que cumplen cierta condicion.", 
            "cell_type": "markdown", 
            "metadata": {}
        }, 
        {
            "execution_count": 12, 
            "cell_type": "code", 
            "metadata": {}, 
            "outputs": [
                {
                    "execution_count": 12, 
                    "metadata": {}, 
                    "data": {
                        "text/plain": "DataFrame[id: string, name: string, region: string]"
                    }, 
                    "output_type": "execute_result"
                }
            ], 
            "source": "nodes_df.filter(col(\"Region\")=='Oceania')"
        }, 
        {
            "execution_count": 13, 
            "cell_type": "code", 
            "metadata": {}, 
            "outputs": [
                {
                    "output_type": "stream", 
                    "name": "stdout", 
                    "text": "+---+--------------------+-------+\n| id|                name| region|\n+---+--------------------+-------+\n|ASM|      American Samoa|Oceania|\n|AUS|           Australia|Oceania|\n|BVT|       Bouvet Island|Oceania|\n|IOT|British Indian Oc...|Oceania|\n|SLB|        Solomon Isds|Oceania|\n+---+--------------------+-------+\nonly showing top 5 rows\n\n"
                }
            ], 
            "source": "nodes_df.filter(col(\"Region\")=='Oceania').show(5)"
        }, 
        {
            "source": "Para escoger columnas, usamos `select`", 
            "cell_type": "markdown", 
            "metadata": {}
        }, 
        {
            "execution_count": 14, 
            "cell_type": "code", 
            "metadata": {}, 
            "outputs": [
                {
                    "output_type": "stream", 
                    "name": "stdout", 
                    "text": "+--------------+\n|          name|\n+--------------+\n|   Afghanistan|\n|       Albania|\n|    Antarctica|\n|       Algeria|\n|American Samoa|\n+--------------+\nonly showing top 5 rows\n\n"
                }
            ], 
            "source": "nodes_df.select(\"name\").show(5)"
        }, 
        {
            "source": "Tambien podemos agregar columnas utilizando `withColumn`.", 
            "cell_type": "markdown", 
            "metadata": {}
        }, 
        {
            "execution_count": 15, 
            "cell_type": "code", 
            "metadata": {}, 
            "outputs": [
                {
                    "output_type": "stream", 
                    "name": "stdout", 
                    "text": "+---+---+--------------------+----------+----------+------------+\n|src|dst|            resource|     value|    weight|weight_mas_1|\n+---+---+--------------------+----------+----------+------------+\n|AFG|DZA|        Horticulture|    26.313|         3|         4.0|\n|AFG|DZA|     Rubber and gums|     1.507|     0.585|       1.585|\n|AFG|AUS|        Horticulture|40.0930017|34.3058425|  35.3058425|\n|AFG|AUS|            Oilseeds|     1.248|      0.46|        1.46|\n|AFG|AUS|Stimulants, tobac...|    34.645|      0.02|        1.02|\n+---+---+--------------------+----------+----------+------------+\nonly showing top 5 rows\n\n"
                }
            ], 
            "source": "edges_df\\\n    .withColumn(\"weight_mas_1\", col(\"weight\")+1)\\\n    .show(5)"
        }, 
        {
            "source": "Varias veces vamos a contar resultados usando `groupby` y `count`", 
            "cell_type": "markdown", 
            "metadata": {}
        }, 
        {
            "execution_count": 16, 
            "cell_type": "code", 
            "metadata": {}, 
            "outputs": [
                {
                    "output_type": "stream", 
                    "name": "stdout", 
                    "text": "+--------------------+-----+\n|              region|count|\n+--------------------+-----+\n|          South Asia|    8|\n|Middle East and N...|   20|\n|              Europe|   43|\n|  Sub-Saharan Africa|   50|\n|               China|    3|\n|               Other|    4|\n|       North America|    5|\n|East Asia excludi...|    3|\n|       South America|   13|\n|Caribbean and Cen...|   31|\n|             Oceania|   30|\n|Central and North...|   12|\n|      Southeast Asia|   11|\n+--------------------+-----+\n\n"
                }
            ], 
            "source": "nodes_df\\\n    .groupby(\"region\").count()\\\n    .show()"
        }, 
        {
            "execution_count": 17, 
            "cell_type": "code", 
            "metadata": {}, 
            "outputs": [
                {
                    "output_type": "stream", 
                    "name": "stdout", 
                    "text": "+--------------------+-----+\n|              region|count|\n+--------------------+-----+\n|          South Asia|    8|\n|Middle East and N...|   20|\n|              Europe|   43|\n|  Sub-Saharan Africa|   50|\n|               China|    3|\n|               Other|    4|\n|       North America|    5|\n|East Asia excludi...|    3|\n|       South America|   13|\n|Caribbean and Cen...|   31|\n|             Oceania|   30|\n|Central and North...|   12|\n|      Southeast Asia|   11|\n+--------------------+-----+\n\n"
                }
            ], 
            "source": "#una variante\n#note que esto permite contar ocurrencias de otras columnas dentro del grupo, \n#tambien debemos agregar el alias a la columna para que no quede nombrada como 'count(region)'\nnodes_df\\\n    .groupby(\"region\")\\\n    .agg(F.count(\"region\").alias(\"count\"))\\\n    .show()"
        }, 
        {
            "source": "`sort` permite ordenar valores, el orden por defecto es ascendente pero podemos invertirlo con `desc`", 
            "cell_type": "markdown", 
            "metadata": {}
        }, 
        {
            "execution_count": 18, 
            "cell_type": "code", 
            "metadata": {}, 
            "outputs": [
                {
                    "output_type": "stream", 
                    "name": "stdout", 
                    "text": "+--------------------+-----+\n|              region|count|\n+--------------------+-----+\n|  Sub-Saharan Africa|   50|\n|              Europe|   43|\n|Caribbean and Cen...|   31|\n|             Oceania|   30|\n|Middle East and N...|   20|\n|       South America|   13|\n|Central and North...|   12|\n|      Southeast Asia|   11|\n|          South Asia|    8|\n|       North America|    5|\n|               Other|    4|\n|               China|    3|\n|East Asia excludi...|    3|\n+--------------------+-----+\n\n"
                }
            ], 
            "source": "nodes_df\\\n    .groupby(\"region\").count()\\\n    .sort(desc(\"count\"))\\\n    .show()"
        }, 
        {
            "source": "Despues de todo esto, al fin podemos proseguir con los grafos.", 
            "cell_type": "markdown", 
            "metadata": {}
        }, 
        {
            "source": "# Grafos", 
            "cell_type": "markdown", 
            "metadata": {}
        }, 
        {
            "source": "GraphFrame permite crear el grafo", 
            "cell_type": "markdown", 
            "metadata": {}
        }, 
        {
            "execution_count": 19, 
            "cell_type": "code", 
            "metadata": {}, 
            "outputs": [
                {
                    "output_type": "stream", 
                    "name": "stdout", 
                    "text": "GraphFrame(v:[id: string, name: string ... 1 more field], e:[src: string, dst: string ... 3 more fields])\n"
                }
            ], 
            "source": "g = GraphFrame(nodes_df, edges_df)\nprint(g)"
        }, 
        {
            "source": "Atributos del grafo `g` como nodos y relaciones son Dataframes, asi que todo lo que vimos en la anterior seccion puede ser aplicado sobre los atributos `.vertices` y `.edges`. ", 
            "cell_type": "markdown", 
            "metadata": {}
        }, 
        {
            "execution_count": 20, 
            "cell_type": "code", 
            "metadata": {
                "pixiedust": {
                    "displayParams": {
                        "handlerId": "tableView", 
                        "table_nosearch": "true", 
                        "table_nocount": "false", 
                        "table_noschema": "true"
                    }
                }
            }, 
            "outputs": [
                {
                    "output_type": "display_data", 
                    "data": {
                        "text/html": "<style type=\"text/css\">.pd_warning{display:none;}</style><div class=\"pd_warning\"><em>Hey, there's something awesome here! To see it, open this notebook outside GitHub, in a viewer like Jupyter</em></div><style type=\"text/css\" class=\"pd_save is-viewer-good\">\n    .df-table-wrapper .panel-heading {\n      border-radius: 0;\n      padding: 0px;\n    }\n    .df-table-wrapper .panel-heading:hover {\n      border-color: #008571;\n    }\n    .df-table-wrapper .panel-title a {\n      background-color: #f9f9fb;\n      color: #333333;\n      display: block;\n      outline: none;\n      padding: 10px 15px;\n      text-decoration: none;\n    }\n    .df-table-wrapper .panel-title a:hover {\n      background-color: #337ab7;\n      border-color: #2e6da4;\n      color: #ffffff;\n      display: block;\n      padding: 10px 15px;\n      text-decoration: none;\n    }\n    .df-table-wrapper {\n      font-size: small;\n      font-weight: 300;\n      letter-spacing: 0.5px;\n      line-height: normal;\n      height: inherit;\n      overflow: auto;\n    }\n    .df-table-search {\n      margin: 0 0 20px 0;\n    }\n    .df-table-search-count {\n      display: inline-block;\n      margin: 0 0 20px 0;\n    }\n    .df-table-container {\n      max-height: 50vh;\n      max-width: 100%;\n      overflow-x: auto;\n      position: relative;\n    }\n    .df-table-wrapper table {\n      border: 0 none #ffffff;\n      border-collapse: collapse;\n      margin: 0;\n      min-width: 100%;\n      padding: 0;\n      table-layout: fixed;\n      height: inherit;\n      overflow: auto;\n    }\n    .df-table-wrapper tr.hidden {\n      display: none;\n    }\n    .df-table-wrapper tr:nth-child(even) {\n      background-color: #f9f9fb;\n    }\n    .df-table-wrapper tr.even {\n      background-color: #f9f9fb;\n    }\n    .df-table-wrapper tr.odd {\n      background-color: #ffffff;\n    }\n    .df-table-wrapper td + td {\n      border-left: 1px solid #e0e0e0;\n    }\n  \n    .df-table-wrapper thead,\n    .fixed-header {\n      font-weight: 600;\n    }\n    .df-table-wrapper tr,\n    .fixed-row {\n      border: 0 none #ffffff;\n      margin: 0;\n      padding: 0;\n    }\n    .df-table-wrapper th,\n    .df-table-wrapper td,\n    .fixed-cell {\n      border: 0 none #ffffff;\n      margin: 0;\n      min-width: 50px;\n      padding: 5px 20px 5px 10px;\n      text-align: left;\n      word-wrap: break-word;\n    }\n    .df-table-wrapper th {\n      padding-bottom: 0;\n      padding-top: 0;\n    }\n    .df-table-wrapper th div {\n      max-height: 1px;\n      visibility: hidden;\n    }\n  \n    .df-schema-field {\n      margin-left: 10px;\n    }\n  \n    .fixed-header-container {\n      overflow: hidden;\n      position: relative;\n    }\n    .fixed-header {\n      border-bottom: 2px solid #000;\n      display: table;\n      position: relative;\n    }\n    .fixed-row {\n      display: table-row;\n    }\n    .fixed-cell {\n      display: table-cell;\n    }\n  </style><div class=\"df-table-wrapper df-table-wrapper-cf38aeeb panel-group pd_save is-viewer-good\">\n    <!-- dataframe schema -->\n    \n    <!-- dataframe table -->\n    <div class=\"panel panel-default\" style=\"border:none;\">\n      \n      <div id=\"df-table-cf38aeeb\" class=\"panel-collapse collapse in\">\n        <div class=\"panel-body\">\n          \n          <div>\n            \n            <span class=\"df-table-search-count\">Showing 103 of 103 rows</span>\n            \n          </div>\n          <!-- fixed header for when dataframe table scrolls -->\n          <div class=\"fixed-header-container\">\n            <div class=\"fixed-header\">\n              <div class=\"fixed-row\">\n                \n                <div class=\"fixed-cell\">id</div>\n                \n                <div class=\"fixed-cell\">name</div>\n                \n                <div class=\"fixed-cell\">region</div>\n                \n              </div>\n            </div>\n          </div>\n          <div class=\"df-table-container\">\n            <table class=\"df-table\">\n              <thead>\n                <tr>\n                  \n                  <th><div>id</div></th>\n                  \n                  <th><div>name</div></th>\n                  \n                  <th><div>region</div></th>\n                  \n                </tr>\n              </thead>\n              <tbody>\n                \n                <tr>\n                  \n                  <td>DZA</td>\n                  \n                  <td>Algeria</td>\n                  \n                  <td>Middle East and North Africa</td>\n                  \n                </tr>\n                \n                <tr>\n                  \n                  <td>ASM</td>\n                  \n                  <td>American Samoa</td>\n                  \n                  <td>Oceania</td>\n                  \n                </tr>\n                \n                <tr>\n                  \n                  <td>AGO</td>\n                  \n                  <td>Angola</td>\n                  \n                  <td>Sub-Saharan Africa</td>\n                  \n                </tr>\n                \n                <tr>\n                  \n                  <td>ATG</td>\n                  \n                  <td>Antigua and Barbuda</td>\n                  \n                  <td>Caribbean and Central America</td>\n                  \n                </tr>\n                \n                <tr>\n                  \n                  <td>AUS</td>\n                  \n                  <td>Australia</td>\n                  \n                  <td>Oceania</td>\n                  \n                </tr>\n                \n                <tr>\n                  \n                  <td>AUT</td>\n                  \n                  <td>Austria</td>\n                  \n                  <td>Europe</td>\n                  \n                </tr>\n                \n                <tr>\n                  \n                  <td>BHS</td>\n                  \n                  <td>Bahamas</td>\n                  \n                  <td>Caribbean and Central America</td>\n                  \n                </tr>\n                \n                <tr>\n                  \n                  <td>BGD</td>\n                  \n                  <td>Bangladesh</td>\n                  \n                  <td>South Asia</td>\n                  \n                </tr>\n                \n                <tr>\n                  \n                  <td>BRB</td>\n                  \n                  <td>Barbados</td>\n                  \n                  <td>Caribbean and Central America</td>\n                  \n                </tr>\n                \n                <tr>\n                  \n                  <td>BEL</td>\n                  \n                  <td>Belgium</td>\n                  \n                  <td>Europe</td>\n                  \n                </tr>\n                \n                <tr>\n                  \n                  <td>BMU</td>\n                  \n                  <td>Bermuda</td>\n                  \n                  <td>Caribbean and Central America</td>\n                  \n                </tr>\n                \n                <tr>\n                  \n                  <td>BTN</td>\n                  \n                  <td>Bhutan</td>\n                  \n                  <td>South Asia</td>\n                  \n                </tr>\n                \n                <tr>\n                  \n                  <td>BOL</td>\n                  \n                  <td>Bolivia</td>\n                  \n                  <td>South America</td>\n                  \n                </tr>\n                \n                <tr>\n                  \n                  <td>BIH</td>\n                  \n                  <td>Bosnia Herzegovina</td>\n                  \n                  <td>Europe</td>\n                  \n                </tr>\n                \n                <tr>\n                  \n                  <td>BVT</td>\n                  \n                  <td>Bouvet Island</td>\n                  \n                  <td>Oceania</td>\n                  \n                </tr>\n                \n                <tr>\n                  \n                  <td>IOT</td>\n                  \n                  <td>British Indian Ocean Territory</td>\n                  \n                  <td>Oceania</td>\n                  \n                </tr>\n                \n                <tr>\n                  \n                  <td>BRN</td>\n                  \n                  <td>Brunei Darussalam</td>\n                  \n                  <td>Southeast Asia</td>\n                  \n                </tr>\n                \n                <tr>\n                  \n                  <td>BGR</td>\n                  \n                  <td>Bulgaria</td>\n                  \n                  <td>Europe</td>\n                  \n                </tr>\n                \n                <tr>\n                  \n                  <td>CAN</td>\n                  \n                  <td>Canada</td>\n                  \n                  <td>North America</td>\n                  \n                </tr>\n                \n                <tr>\n                  \n                  <td>CAF</td>\n                  \n                  <td>Central African Rep.</td>\n                  \n                  <td>Sub-Saharan Africa</td>\n                  \n                </tr>\n                \n                <tr>\n                  \n                  <td>CHN</td>\n                  \n                  <td>China</td>\n                  \n                  <td>China</td>\n                  \n                </tr>\n                \n                <tr>\n                  \n                  <td>COD</td>\n                  \n                  <td>Congo, Dem. Rep.</td>\n                  \n                  <td>Sub-Saharan Africa</td>\n                  \n                </tr>\n                \n                <tr>\n                  \n                  <td>CZE</td>\n                  \n                  <td>Czech Rep.</td>\n                  \n                  <td>Europe</td>\n                  \n                </tr>\n                \n                <tr>\n                  \n                  <td>BEN</td>\n                  \n                  <td>Benin</td>\n                  \n                  <td>Sub-Saharan Africa</td>\n                  \n                </tr>\n                \n                <tr>\n                  \n                  <td>ECU</td>\n                  \n                  <td>Ecuador</td>\n                  \n                  <td>South America</td>\n                  \n                </tr>\n                \n                <tr>\n                  \n                  <td>ETH</td>\n                  \n                  <td>Ethiopia</td>\n                  \n                  <td>Sub-Saharan Africa</td>\n                  \n                </tr>\n                \n                <tr>\n                  \n                  <td>EST</td>\n                  \n                  <td>Estonia</td>\n                  \n                  <td>Europe</td>\n                  \n                </tr>\n                \n                <tr>\n                  \n                  <td>FRO</td>\n                  \n                  <td>Faeroe Isds</td>\n                  \n                  <td>Europe</td>\n                  \n                </tr>\n                \n                <tr>\n                  \n                  <td>SGS</td>\n                  \n                  <td>South Georgia and the South Sandwich Isds</td>\n                  \n                  <td>Other</td>\n                  \n                </tr>\n                \n                <tr>\n                  \n                  <td>FJI</td>\n                  \n                  <td>Fiji</td>\n                  \n                  <td>Oceania</td>\n                  \n                </tr>\n                \n                <tr>\n                  \n                  <td>PYF</td>\n                  \n                  <td>French Polynesia</td>\n                  \n                  <td>Oceania</td>\n                  \n                </tr>\n                \n                <tr>\n                  \n                  <td>GAB</td>\n                  \n                  <td>Gabon</td>\n                  \n                  <td>Sub-Saharan Africa</td>\n                  \n                </tr>\n                \n                <tr>\n                  \n                  <td>GEO</td>\n                  \n                  <td>Georgia</td>\n                  \n                  <td>Central and Northern Asia</td>\n                  \n                </tr>\n                \n                <tr>\n                  \n                  <td>GHA</td>\n                  \n                  <td>Ghana</td>\n                  \n                  <td>Sub-Saharan Africa</td>\n                  \n                </tr>\n                \n                <tr>\n                  \n                  <td>GRD</td>\n                  \n                  <td>Grenada</td>\n                  \n                  <td>Caribbean and Central America</td>\n                  \n                </tr>\n                \n                <tr>\n                  \n                  <td>GTM</td>\n                  \n                  <td>Guatemala</td>\n                  \n                  <td>Caribbean and Central America</td>\n                  \n                </tr>\n                \n                <tr>\n                  \n                  <td>GUY</td>\n                  \n                  <td>Guyana</td>\n                  \n                  <td>South America</td>\n                  \n                </tr>\n                \n                <tr>\n                  \n                  <td>VAT</td>\n                  \n                  <td>Holy See</td>\n                  \n                  <td>Europe</td>\n                  \n                </tr>\n                \n                <tr>\n                  \n                  <td>IDN</td>\n                  \n                  <td>Indonesia</td>\n                  \n                  <td>Southeast Asia</td>\n                  \n                </tr>\n                \n                <tr>\n                  \n                  <td>IRN</td>\n                  \n                  <td>Iran</td>\n                  \n                  <td>Middle East and North Africa</td>\n                  \n                </tr>\n                \n                <tr>\n                  \n                  <td>IRL</td>\n                  \n                  <td>Ireland</td>\n                  \n                  <td>Europe</td>\n                  \n                </tr>\n                \n                <tr>\n                  \n                  <td>ISR</td>\n                  \n                  <td>Israel</td>\n                  \n                  <td>Middle East and North Africa</td>\n                  \n                </tr>\n                \n                <tr>\n                  \n                  <td>ITA</td>\n                  \n                  <td>Italy</td>\n                  \n                  <td>Europe</td>\n                  \n                </tr>\n                \n                <tr>\n                  \n                  <td>CIV</td>\n                  \n                  <td>Cote d'Ivoire</td>\n                  \n                  <td>Sub-Saharan Africa</td>\n                  \n                </tr>\n                \n                <tr>\n                  \n                  <td>KAZ</td>\n                  \n                  <td>Kazakhstan</td>\n                  \n                  <td>Central and Northern Asia</td>\n                  \n                </tr>\n                \n                <tr>\n                  \n                  <td>KEN</td>\n                  \n                  <td>Kenya</td>\n                  \n                  <td>Sub-Saharan Africa</td>\n                  \n                </tr>\n                \n                <tr>\n                  \n                  <td>KOR</td>\n                  \n                  <td>Korea, Rep.</td>\n                  \n                  <td>East Asia excluding China</td>\n                  \n                </tr>\n                \n                <tr>\n                  \n                  <td>KWT</td>\n                  \n                  <td>Kuwait</td>\n                  \n                  <td>Middle East and North Africa</td>\n                  \n                </tr>\n                \n                <tr>\n                  \n                  <td>LAO</td>\n                  \n                  <td>Lao PDR</td>\n                  \n                  <td>Southeast Asia</td>\n                  \n                </tr>\n                \n                <tr>\n                  \n                  <td>LBN</td>\n                  \n                  <td>Lebanon</td>\n                  \n                  <td>Middle East and North Africa</td>\n                  \n                </tr>\n                \n                <tr>\n                  \n                  <td>LVA</td>\n                  \n                  <td>Latvia</td>\n                  \n                  <td>Europe</td>\n                  \n                </tr>\n                \n                <tr>\n                  \n                  <td>LBY</td>\n                  \n                  <td>Libya</td>\n                  \n                  <td>Middle East and North Africa</td>\n                  \n                </tr>\n                \n                <tr>\n                  \n                  <td>LTU</td>\n                  \n                  <td>Lithuania</td>\n                  \n                  <td>Europe</td>\n                  \n                </tr>\n                \n                <tr>\n                  \n                  <td>MAC</td>\n                  \n                  <td>China, Macao SAR</td>\n                  \n                  <td>China</td>\n                  \n                </tr>\n                \n                <tr>\n                  \n                  <td>MWI</td>\n                  \n                  <td>Malawi</td>\n                  \n                  <td>Sub-Saharan Africa</td>\n                  \n                </tr>\n                \n                <tr>\n                  \n                  <td>MYS</td>\n                  \n                  <td>Malaysia</td>\n                  \n                  <td>Southeast Asia</td>\n                  \n                </tr>\n                \n                <tr>\n                  \n                  <td>MLI</td>\n                  \n                  <td>Mali</td>\n                  \n                  <td>Sub-Saharan Africa</td>\n                  \n                </tr>\n                \n                <tr>\n                  \n                  <td>MLT</td>\n                  \n                  <td>Malta</td>\n                  \n                  <td>Europe</td>\n                  \n                </tr>\n                \n                <tr>\n                  \n                  <td>MUS</td>\n                  \n                  <td>Mauritius</td>\n                  \n                  <td>Sub-Saharan Africa</td>\n                  \n                </tr>\n                \n                <tr>\n                  \n                  <td>MEX</td>\n                  \n                  <td>Mexico</td>\n                  \n                  <td>North America</td>\n                  \n                </tr>\n                \n                <tr>\n                  \n                  <td>MDA</td>\n                  \n                  <td>Moldova</td>\n                  \n                  <td>Europe</td>\n                  \n                </tr>\n                \n                <tr>\n                  \n                  <td>MSR</td>\n                  \n                  <td>Montserrat</td>\n                  \n                  <td>Caribbean and Central America</td>\n                  \n                </tr>\n                \n                <tr>\n                  \n                  <td>MAR</td>\n                  \n                  <td>Morocco</td>\n                  \n                  <td>Middle East and North Africa</td>\n                  \n                </tr>\n                \n                <tr>\n                  \n                  <td>MOZ</td>\n                  \n                  <td>Mozambique</td>\n                  \n                  <td>Sub-Saharan Africa</td>\n                  \n                </tr>\n                \n                <tr>\n                  \n                  <td>NRU</td>\n                  \n                  <td>Nauru</td>\n                  \n                  <td>Oceania</td>\n                  \n                </tr>\n                \n                <tr>\n                  \n                  <td>NPL</td>\n                  \n                  <td>Nepal</td>\n                  \n                  <td>South Asia</td>\n                  \n                </tr>\n                \n                <tr>\n                  \n                  <td>ABW</td>\n                  \n                  <td>Aruba</td>\n                  \n                  <td>Caribbean and Central America</td>\n                  \n                </tr>\n                \n                <tr>\n                  \n                  <td>NER</td>\n                  \n                  <td>Niger</td>\n                  \n                  <td>Sub-Saharan Africa</td>\n                  \n                </tr>\n                \n                <tr>\n                  \n                  <td>NIU</td>\n                  \n                  <td>Niue</td>\n                  \n                  <td>Oceania</td>\n                  \n                </tr>\n                \n                <tr>\n                  \n                  <td>NFK</td>\n                  \n                  <td>Norfolk Isds</td>\n                  \n                  <td>Oceania</td>\n                  \n                </tr>\n                \n                <tr>\n                  \n                  <td>MHL</td>\n                  \n                  <td>Marshall Isds</td>\n                  \n                  <td>Oceania</td>\n                  \n                </tr>\n                \n                <tr>\n                  \n                  <td>PNG</td>\n                  \n                  <td>Papua New Guinea</td>\n                  \n                  <td>Oceania</td>\n                  \n                </tr>\n                \n                <tr>\n                  \n                  <td>POL</td>\n                  \n                  <td>Poland</td>\n                  \n                  <td>Europe</td>\n                  \n                </tr>\n                \n                <tr>\n                  \n                  <td>PRT</td>\n                  \n                  <td>Portugal</td>\n                  \n                  <td>Europe</td>\n                  \n                </tr>\n                \n                <tr>\n                  \n                  <td>GNB</td>\n                  \n                  <td>Guinea-Bissau</td>\n                  \n                  <td>Sub-Saharan Africa</td>\n                  \n                </tr>\n                \n                <tr>\n                  \n                  <td>TLS</td>\n                  \n                  <td>Timor-Leste</td>\n                  \n                  <td>Southeast Asia</td>\n                  \n                </tr>\n                \n                <tr>\n                  \n                  <td>BLM</td>\n                  \n                  <td>Saint-Barthelemy</td>\n                  \n                  <td>Caribbean and Central America</td>\n                  \n                </tr>\n                \n                <tr>\n                  \n                  <td>KNA</td>\n                  \n                  <td>Saint Kitts and Nevis</td>\n                  \n                  <td>Caribbean and Central America</td>\n                  \n                </tr>\n                \n                <tr>\n                  \n                  <td>AIA</td>\n                  \n                  <td>Anguilla</td>\n                  \n                  <td>Caribbean and Central America</td>\n                  \n                </tr>\n                \n                <tr>\n                  \n                  <td>LCA</td>\n                  \n                  <td>Saint Lucia</td>\n                  \n                  <td>Caribbean and Central America</td>\n                  \n                </tr>\n                \n                <tr>\n                  \n                  <td>SMR</td>\n                  \n                  <td>San Marino</td>\n                  \n                  <td>Europe</td>\n                  \n                </tr>\n                \n                <tr>\n                  \n                  <td>SRB</td>\n                  \n                  <td>Serbia</td>\n                  \n                  <td>Europe</td>\n                  \n                </tr>\n                \n                <tr>\n                  \n                  <td>SLE</td>\n                  \n                  <td>Sierra Leone</td>\n                  \n                  <td>Sub-Saharan Africa</td>\n                  \n                </tr>\n                \n                <tr>\n                  \n                  <td>IND</td>\n                  \n                  <td>India</td>\n                  \n                  <td>South Asia</td>\n                  \n                </tr>\n                \n                <tr>\n                  \n                  <td>SVK</td>\n                  \n                  <td>Slovakia</td>\n                  \n                  <td>Europe</td>\n                  \n                </tr>\n                \n                <tr>\n                  \n                  <td>ZAF</td>\n                  \n                  <td>South Africa</td>\n                  \n                  <td>Sub-Saharan Africa</td>\n                  \n                </tr>\n                \n                <tr>\n                  \n                  <td>ZWE</td>\n                  \n                  <td>Zimbabwe</td>\n                  \n                  <td>Sub-Saharan Africa</td>\n                  \n                </tr>\n                \n                <tr>\n                  \n                  <td>SSD</td>\n                  \n                  <td>South Sudan</td>\n                  \n                  <td>Sub-Saharan Africa</td>\n                  \n                </tr>\n                \n                <tr>\n                  \n                  <td>THA</td>\n                  \n                  <td>Thailand</td>\n                  \n                  <td>Southeast Asia</td>\n                  \n                </tr>\n                \n                <tr>\n                  \n                  <td>TGO</td>\n                  \n                  <td>Togo</td>\n                  \n                  <td>Sub-Saharan Africa</td>\n                  \n                </tr>\n                \n                <tr>\n                  \n                  <td>TON</td>\n                  \n                  <td>Tonga</td>\n                  \n                  <td>Oceania</td>\n                  \n                </tr>\n                \n                <tr>\n                  \n                  <td>TUN</td>\n                  \n                  <td>Tunisia</td>\n                  \n                  <td>Middle East and North Africa</td>\n                  \n                </tr>\n                \n                <tr>\n                  \n                  <td>TKM</td>\n                  \n                  <td>Turkmenistan</td>\n                  \n                  <td>Central and Northern Asia</td>\n                  \n                </tr>\n                \n                <tr>\n                  \n                  <td>EGY</td>\n                  \n                  <td>Egypt</td>\n                  \n                  <td>Middle East and North Africa</td>\n                  \n                </tr>\n                \n                <tr>\n                  \n                  <td>GBR</td>\n                  \n                  <td>United Kingdom</td>\n                  \n                  <td>Europe</td>\n                  \n                </tr>\n                \n                <tr>\n                  \n                  <td>TZA</td>\n                  \n                  <td>Tanzania</td>\n                  \n                  <td>Sub-Saharan Africa</td>\n                  \n                </tr>\n                \n                <tr>\n                  \n                  <td>USA</td>\n                  \n                  <td>United States</td>\n                  \n                  <td>North America</td>\n                  \n                </tr>\n                \n                <tr>\n                  \n                  <td>URY</td>\n                  \n                  <td>Uruguay</td>\n                  \n                  <td>South America</td>\n                  \n                </tr>\n                \n                <tr>\n                  \n                  <td>UZB</td>\n                  \n                  <td>Uzbekistan</td>\n                  \n                  <td>Central and Northern Asia</td>\n                  \n                </tr>\n                \n                <tr>\n                  \n                  <td>VEN</td>\n                  \n                  <td>Venezuela</td>\n                  \n                  <td>South America</td>\n                  \n                </tr>\n                \n                <tr>\n                  \n                  <td>WSM</td>\n                  \n                  <td>Samoa</td>\n                  \n                  <td>Oceania</td>\n                  \n                </tr>\n                \n                <tr>\n                  \n                  <td>YEM</td>\n                  \n                  <td>Yemen</td>\n                  \n                  <td>Middle East and North Africa</td>\n                  \n                </tr>\n                \n                <tr>\n                  \n                  <td>WLF</td>\n                  \n                  <td>Wallis and Futuna Isds</td>\n                  \n                  <td>Oceania</td>\n                  \n                </tr>\n                \n              </tbody>\n            </table>\n          </div>\n        </div>\n      </div>\n    </div>\n  </div><script class=\"pd_save is-viewer-good\">\n    $(function() {\n      var tableWrapper = $('.df-table-wrapper-cf38aeeb');\n      var fixedHeader = $('.fixed-header', tableWrapper);\n      var tableContainer = $('.df-table-container', tableWrapper);\n      var table = $('.df-table', tableContainer);\n      var rows = $('tbody > tr', table);\n      var total = 103;\n  \n      fixedHeader\n        .css('width', table.width())\n        .find('.fixed-cell')\n        .each(function(i, e) {\n          $(this).css('width', $('.df-table-wrapper-cf38aeeb th:nth-child(' + (i+1) + ')').css('width'));\n        });\n  \n      tableContainer.scroll(function() {\n        fixedHeader.css({ left: table.position().left });\n      });\n  \n      rows.on(\"click\", function(e){\n          var txt = e.delegateTarget.innerText;\n          var splits = txt.split(\"\\t\");\n          var len = splits.length;\n          var hdrs = $(fixedHeader).find(\".fixed-cell\");\n          // Add all cells in the selected row as a map to be consumed by the target as needed\n          var payload = {type:\"select\", targetDivId: \"\" };\n          for (var i = 0; i < len; i++) {\n            payload[hdrs[i].innerHTML] = splits[i];\n          }\n  \n          //simple selection highlighting, client adds \"selected\" class\n          $(this).addClass(\"selected\").siblings().removeClass(\"selected\");\n          $(document).trigger('pd_event', payload);\n      });\n  \n      $('.df-table-search', tableWrapper).keyup(function() {\n        var val = '^(?=.*\\\\b' + $.trim($(this).val()).split(/\\s+/).join('\\\\b)(?=.*\\\\b') + ').*$';\n        var reg = RegExp(val, 'i');\n        var index = 0;\n        \n        rows.each(function(i, e) {\n          if (!reg.test($(this).text().replace(/\\s+/g, ' '))) {\n            $(this).attr('class', 'hidden');\n          }\n          else {\n            $(this).attr('class', (++index % 2 == 0 ? 'even' : 'odd'));\n          }\n        });\n        $('.df-table-search-count', tableWrapper).html('Showing ' + index + ' of ' + total + ' rows');\n      });\n    });\n  \n    $(\".df-table-wrapper td:contains('http://')\").each(function(){var tc = this.textContent; $(this).wrapInner(\"<a target='_blank' href='\" + tc + \"'></a>\");});\n    $(\".df-table-wrapper td:contains('https://')\").each(function(){var tc = this.textContent; $(this).wrapInner(\"<a target='_blank' href='\" + tc + \"'></a>\");});\n  </script>", 
                        "text/plain": "<IPython.core.display.HTML object>"
                    }, 
                    "metadata": {}
                }
            ], 
            "source": "display(g.vertices)\n\n#g.vertices.describe().show()"
        }, 
        {
            "source": "Este grafo tiene demadiadas aristas, mostramos solo las primeras 10.", 
            "cell_type": "markdown", 
            "metadata": {}
        }, 
        {
            "execution_count": 21, 
            "cell_type": "code", 
            "metadata": {}, 
            "outputs": [
                {
                    "execution_count": 21, 
                    "metadata": {}, 
                    "data": {
                        "text/plain": "102374"
                    }, 
                    "output_type": "execute_result"
                }
            ], 
            "source": "g.edges.count()"
        }, 
        {
            "execution_count": 22, 
            "cell_type": "code", 
            "metadata": {
                "pixiedust": {
                    "displayParams": {
                        "handlerId": "tableView"
                    }
                }, 
                "scrolled": true
            }, 
            "outputs": [
                {
                    "output_type": "stream", 
                    "name": "stdout", 
                    "text": "+---+---+--------------------+----------+----------+\n|src|dst|            resource|     value|    weight|\n+---+---+--------------------+----------+----------+\n|AFG|DZA|        Horticulture|    26.313|         3|\n|AFG|DZA|     Rubber and gums|     1.507|     0.585|\n|AFG|AUS|        Horticulture|40.0930017|34.3058425|\n|AFG|AUS|            Oilseeds|     1.248|      0.46|\n|AFG|AUS|Stimulants, tobac...|    34.645|      0.02|\n|AFG|BHR|Dairy, eggs, and ...|      0.02|      0.02|\n|AFG|BHR|        Horticulture|   105.007|    62.036|\n|AFG|BHR|              Pulses|    14.976|     14.69|\n|AFG|BHR|Stimulants, tobac...|    110.66|     0.297|\n|AFG|BGD|Stimulants, tobac...|   133.438|    65.411|\n+---+---+--------------------+----------+----------+\nonly showing top 10 rows\n\n"
                }
            ], 
            "source": "g.edges.show(10)"
        }, 
        {
            "execution_count": 23, 
            "cell_type": "code", 
            "metadata": {}, 
            "outputs": [
                {
                    "output_type": "stream", 
                    "name": "stdout", 
                    "text": "+-------+------+------+--------+------------------+------------------+\n|summary|   src|   dst|resource|             value|            weight|\n+-------+------+------+--------+------------------+------------------+\n|  count|102374|102374|  102374|            102374|            102374|\n|   mean|  null|  null|    null|11068.544232002812|  20521.1480371849|\n| stddev|  null|  null|    null|112718.61277887148|1972509.6577426852|\n|    min|   ABW|   ABW| Cereals|             0.001|             0.001|\n|    max|   ZWE|   ZWE|   Water|                NA|                NA|\n+-------+------+------+--------+------------------+------------------+\n\n"
                }
            ], 
            "source": "g.edges.describe().show()"
        }, 
        {
            "source": "podemos tambien mostrar el grafo. Recuerde cambiar el tipo de grafico a Directed Graph (con el icono que parece un share)", 
            "cell_type": "markdown", 
            "metadata": {}
        }, 
        {
            "execution_count": 24, 
            "cell_type": "code", 
            "metadata": {
                "pixiedust": {
                    "displayParams": {
                        "handlerId": "graphDirected"
                    }
                }
            }, 
            "outputs": [], 
            "source": "#display(g)"
        }, 
        {
            "source": "Usaremos tambien un grafo mas pequenho de ejemplo sobre el cual podremos ejecutar los algoritmos mas pesados sin problema", 
            "cell_type": "markdown", 
            "metadata": {}
        }, 
        {
            "execution_count": 25, 
            "cell_type": "code", 
            "metadata": {
                "pixiedust": {
                    "displayParams": {
                        "handlerId": "graphDirected"
                    }
                }
            }, 
            "outputs": [
                {
                    "output_type": "display_data", 
                    "data": {
                        "text/html": "<style type=\"text/css\">.pd_warning{display:none;}</style><div class=\"pd_warning\"><em>Hey, there's something awesome here! To see it, open this notebook outside GitHub, in a viewer like Jupyter</em></div><style class=\"pd_save is-viewer-good\">\n    .node circle {\n        fill: #fff;\n        stroke: steelblue;\n        stroke-width: 1.5px;\n    }\n    .node {\n        font: 10px sans-serif;\n    }\n\n    .link {\n        fill: none;\n        stroke: #ccc;\n        stroke-width: 1.5px;\n    }\n\n    .graph-tree-form.form-inline .form-group {\n        margin-right: 10px;\n    }\n    .graph-tree-form.form-inline .form-group:last-child {\n        margin-left: 40px;\n    }\n    .graph-tree-form.form-inline input,\n    .graph-tree-form.form-inline select,\n    .graph-tree-form.form-inline button {\n        border-radius: 0;\n        margin: 0;\n        width: 100%;\n    }\n    .graph-error {\n        color: red;\n        font-weight: 500;\n        padding-top: 10px;\n    }\n</style><div class=\"pd_save is-viewer-good\">\n    <form class=\"form-inline graph-tree-form\" role=\"form\">\n      \n        <div class=\"form-group col-sm-2\">\n            <label for=\"colorBy81f0de09\">Color By:</label>\n            <select class=\"form-control\" id=\"colorBy81f0de09\" name=\"colorBy81f0de09\">\n                \n                <option value=\"relationship\" selected=\"\">relationship</option>\n                \n            </select>\n        </div>\n        <div class=\"form-group col-sm-2\">\n            <label for=\"maxEdges81f0de09\">Max Edges:</label>\n            <input class=\"form-control\" id=\"maxEdges81f0de09\" name=\"maxEdges81f0de09\" value=\"100\" type=\"number\">\n        </div>\n      \n        <div class=\"form-group\">\n            <label aria-hidden=\"true\" style=\"visibility:hidden\">label</label>\n            <button type=\"button\" class=\"btn btn-small btn-primary\" id=\"updateGraph81f0de09\">Update</button>\n        </div>\n    </form>\n</div><div id=\"error81f0de09\" class=\"pd_save graph-error is-viewer-good\"></div><svg id=\"svg81f0de09\" class=\"pd_save graph-svg\"></svg>", 
                        "text/plain": "<IPython.core.display.HTML object>"
                    }, 
                    "metadata": {}
                }
            ], 
            "source": "vertices = sqlContext.createDataFrame([\n  (\"a\", \"Alice\", 34),\n  (\"b\", \"Bob\", 36),\n  (\"c\", \"Charlie\", 30),\n  (\"d\", \"David\", 29),\n  (\"e\", \"Esther\", 32),\n  (\"f\", \"Fanny\", 36),\n  (\"g\", \"Gabby\", 60)], [\"id\", \"name\", \"age\"])\n\nedges = sqlContext.createDataFrame([\n  (\"a\", \"b\", \"friend\"),\n  (\"b\", \"c\", \"follow\"),\n  (\"c\", \"b\", \"follow\"),\n  (\"f\", \"c\", \"follow\"),\n  (\"e\", \"f\", \"follow\"),\n  (\"e\", \"d\", \"friend\"),\n  (\"d\", \"a\", \"friend\"),\n  (\"d\", \"e\", \"friend\"),\n  (\"a\", \"e\", \"friend\")\n], [\"src\", \"dst\", \"relationship\"])\n\ntoy_g = GraphFrame(vertices, edges)\ndisplay(toy_g)"
        }, 
        {
            "source": "# Que podemos saber de este grafo?", 
            "cell_type": "markdown", 
            "metadata": {}
        }, 
        {
            "source": "## Pattern matching", 
            "cell_type": "markdown", 
            "metadata": {}
        }, 
        {
            "source": "De una manera muy similar a Neo4j podemos hacer queries sobre el grafo. En GraphFrames queries son llamadas motifs.", 
            "cell_type": "markdown", 
            "metadata": {}
        }, 
        {
            "execution_count": 112, 
            "cell_type": "code", 
            "metadata": {}, 
            "outputs": [], 
            "source": "#Ejemplos de pattern matching"
        }, 
        {
            "source": "Por ejemplo, encontremos todos los nodos que tienen relaciones bilaterales.", 
            "cell_type": "markdown", 
            "metadata": {}
        }, 
        {
            "execution_count": 113, 
            "cell_type": "code", 
            "metadata": {}, 
            "outputs": [
                {
                    "output_type": "stream", 
                    "name": "stdout", 
                    "text": "+--------------------+--------------------+--------------------+--------------------+\n|                   a|                   e|                   b|                  e2|\n+--------------------+--------------------+--------------------+--------------------+\n|[AFG,Afghanistan,...|[AFG,AUS,Horticul...|[AUS,Australia,Oc...|[AUS,AFG,Other ag...|\n|[AFG,Afghanistan,...|[AFG,AUS,Horticul...|[AUS,Australia,Oc...|[AUS,AFG,Meat,583...|\n|[AFG,Afghanistan,...|[AFG,AUS,Oilseeds...|[AUS,Australia,Oc...|[AUS,AFG,Other ag...|\n|[AFG,Afghanistan,...|[AFG,AUS,Oilseeds...|[AUS,Australia,Oc...|[AUS,AFG,Meat,583...|\n|[AFG,Afghanistan,...|[AFG,AUS,Stimulan...|[AUS,Australia,Oc...|[AUS,AFG,Other ag...|\n|[AFG,Afghanistan,...|[AFG,AUS,Stimulan...|[AUS,Australia,Oc...|[AUS,AFG,Meat,583...|\n|[AFG,Afghanistan,...|[AFG,BHR,Dairy, e...|[BHR,Bahrain,Midd...|[BHR,AFG,Dairy, e...|\n|[AFG,Afghanistan,...|[AFG,BHR,Horticul...|[BHR,Bahrain,Midd...|[BHR,AFG,Dairy, e...|\n|[AFG,Afghanistan,...|[AFG,BHR,Pulses,1...|[BHR,Bahrain,Midd...|[BHR,AFG,Dairy, e...|\n|[AFG,Afghanistan,...|[AFG,BHR,Stimulan...|[BHR,Bahrain,Midd...|[BHR,AFG,Dairy, e...|\n+--------------------+--------------------+--------------------+--------------------+\nonly showing top 10 rows\n\n"
                }
            ], 
            "source": "motifs = g.find(\"(a)-[e]->(b); (b)-[e2]->(a)\")\n#display(motifs) #display con motif tiene problemas en bluemix, por eso usamos show, o take, o head.\nmotifs.show(10)"
        }, 
        {
            "source": "Note que nodos en a y b se encuentre repetidos ya que un registro aparece tantas veces como haya relaciones `e` y `e2` que satisfagan la condicion. Puede listar los paises mejor eliminando duplicados.", 
            "cell_type": "markdown", 
            "metadata": {}
        }, 
        {
            "execution_count": 114, 
            "cell_type": "code", 
            "metadata": {}, 
            "outputs": [
                {
                    "execution_count": 114, 
                    "metadata": {}, 
                    "data": {
                        "text/plain": "735102"
                    }, 
                    "output_type": "execute_result"
                }
            ], 
            "source": "motifs.count() #con combinaciones de paises repetidos"
        }, 
        {
            "execution_count": 115, 
            "cell_type": "code", 
            "metadata": {
                "pixiedust": {
                    "displayParams": {
                        "handlerId": "tableView"
                    }
                }
            }, 
            "outputs": [
                {
                    "execution_count": 115, 
                    "metadata": {}, 
                    "data": {
                        "text/plain": "14651"
                    }, 
                    "output_type": "execute_result"
                }
            ], 
            "source": "bilaterals = motifs.selectExpr(\"a.name as aName\",\"b.name as bName\").dropDuplicates().sort(['aName', 'bName']) #solo seleccionamos los nombres con selectExpr\n#display(bilaterals)\nbilaterals.count() #eliminamos duplicados"
        }, 
        {
            "execution_count": 116, 
            "cell_type": "code", 
            "metadata": {}, 
            "outputs": [
                {
                    "output_type": "stream", 
                    "name": "stdout", 
                    "text": "+-----------+----------+\n|      aName|     bName|\n+-----------+----------+\n|Afghanistan| Australia|\n|Afghanistan|   Bahrain|\n|Afghanistan|Bangladesh|\n|Afghanistan|   Belgium|\n|Afghanistan|    Brazil|\n|Afghanistan|  Bulgaria|\n|Afghanistan|    Canada|\n|Afghanistan|     China|\n|Afghanistan|Czech Rep.|\n|Afghanistan|   Denmark|\n|Afghanistan|     Egypt|\n|Afghanistan|   Finland|\n|Afghanistan|    France|\n|Afghanistan|   Germany|\n|Afghanistan|   Hungary|\n|Afghanistan|     India|\n|Afghanistan| Indonesia|\n|Afghanistan|      Iran|\n|Afghanistan|     Italy|\n|Afghanistan|     Japan|\n+-----------+----------+\nonly showing top 20 rows\n\n"
                }
            ], 
            "source": "bilaterals.show(20)"
        }, 
        {
            "source": "Seleccionamos el grafo que corresponde a nodos de paises latinoamericanos, codificado en la columna `region` del nodo como `South America`.", 
            "cell_type": "markdown", 
            "metadata": {}
        }, 
        {
            "execution_count": 117, 
            "cell_type": "code", 
            "metadata": {}, 
            "outputs": [], 
            "source": "#paths = g.find(\"(a)-[e]->(b)\")\\\n#  .filter(\"a.region = 'South America' and b.region = 'South America'\")\\\n#  .filter(\"e.resource = 'Pearls and gemstones'\")\n  \n\npaths = g.find(\"(a)-[e]->(b)\")\\\n  .filter(\"a.region = 'South America' and b.region = 'South America'\")"
        }, 
        {
            "execution_count": 118, 
            "cell_type": "code", 
            "metadata": {
                "pixiedust": {
                    "displayParams": {
                        "handlerId": "tableView"
                    }
                }
            }, 
            "outputs": [
                {
                    "output_type": "stream", 
                    "name": "stdout", 
                    "text": "+--------------------+--------------------+--------------------+\n|                   a|                   e|                   b|\n+--------------------+--------------------+--------------------+\n|[ARG,Argentina,So...|[ARG,ARG,Cereals,...|[ARG,Argentina,So...|\n|[ARG,Argentina,So...|[ARG,ARG,Dairy, e...|[ARG,Argentina,So...|\n|[ARG,Argentina,So...|[ARG,ARG,Fish and...|[ARG,Argentina,So...|\n|[ARG,Argentina,So...|[ARG,ARG,Horticul...|[ARG,Argentina,So...|\n|[ARG,Argentina,So...|[ARG,ARG,Live ani...|[ARG,Argentina,So...|\n|[ARG,Argentina,So...|[ARG,ARG,Meat,536...|[ARG,Argentina,So...|\n|[ARG,Argentina,So...|[ARG,ARG,Oilseeds...|[ARG,Argentina,So...|\n|[ARG,Argentina,So...|[ARG,ARG,Other ag...|[ARG,Argentina,So...|\n|[ARG,Argentina,So...|[ARG,ARG,Pulses,3...|[ARG,Argentina,So...|\n|[ARG,Argentina,So...|[ARG,ARG,Roots an...|[ARG,Argentina,So...|\n+--------------------+--------------------+--------------------+\nonly showing top 10 rows\n\n"
                }
            ], 
            "source": "paths.show(10)"
        }, 
        {
            "execution_count": 119, 
            "cell_type": "code", 
            "metadata": {}, 
            "outputs": [], 
            "source": "latam_edges = paths \\\n    .selectExpr(\"e.src as src\", \"e.dst as dst\", \"e.resource as resource\")"
        }, 
        {
            "execution_count": 120, 
            "cell_type": "code", 
            "metadata": {}, 
            "outputs": [], 
            "source": "latam_vertices = g.vertices.filter(\"region = 'South America'\")"
        }, 
        {
            "execution_count": 121, 
            "cell_type": "code", 
            "metadata": {}, 
            "outputs": [], 
            "source": "latam_g = GraphFrame(latam_vertices, latam_edges)"
        }, 
        {
            "execution_count": 122, 
            "cell_type": "code", 
            "metadata": {}, 
            "outputs": [
                {
                    "execution_count": 122, 
                    "metadata": {}, 
                    "data": {
                        "text/plain": "13"
                    }, 
                    "output_type": "execute_result"
                }
            ], 
            "source": "latam_g.vertices.count()"
        }, 
        {
            "execution_count": 123, 
            "cell_type": "code", 
            "metadata": {}, 
            "outputs": [
                {
                    "execution_count": 123, 
                    "metadata": {}, 
                    "data": {
                        "text/plain": "921"
                    }, 
                    "output_type": "execute_result"
                }
            ], 
            "source": "latam_g.edges.count()"
        }, 
        {
            "execution_count": 124, 
            "cell_type": "code", 
            "metadata": {
                "pixiedust": {
                    "displayParams": {
                        "handlerId": "graphDirected"
                    }
                }, 
                "scrolled": true
            }, 
            "outputs": [], 
            "source": "display(latam_g)"
        }, 
        {
            "source": "Otro mas, vamos a quedarnos con paises que tengan movimientos con peso mayor a la media en carne", 
            "cell_type": "markdown", 
            "metadata": {}
        }, 
        {
            "execution_count": 125, 
            "cell_type": "code", 
            "metadata": {}, 
            "outputs": [], 
            "source": "media_peso = 20000"
        }, 
        {
            "execution_count": 126, 
            "cell_type": "code", 
            "metadata": {}, 
            "outputs": [], 
            "source": "big_edges = g.edges.filter(col(\"weight\") >= media_peso).filter(col(\"resource\")== \"Meat\")"
        }, 
        {
            "execution_count": 127, 
            "cell_type": "code", 
            "metadata": {}, 
            "outputs": [
                {
                    "execution_count": 127, 
                    "metadata": {}, 
                    "data": {
                        "text/plain": "323"
                    }, 
                    "output_type": "execute_result"
                }
            ], 
            "source": "big_edges.count()"
        }, 
        {
            "execution_count": 128, 
            "cell_type": "code", 
            "metadata": {}, 
            "outputs": [], 
            "source": "big_g = GraphFrame(g.vertices, e = big_edges)"
        }, 
        {
            "execution_count": null, 
            "cell_type": "code", 
            "metadata": {
                "pixiedust": {
                    "displayParams": {
                        "handlerId": "graphDirected"
                    }
                }
            }, 
            "outputs": [], 
            "source": "display(big_g)"
        }, 
        {
            "source": "En capacidades de pattern matching GraphFrames y GraphX resulta mas complicado y menos intuitivo que Neo4j, especialmente porque ver resultados como un grafo requiere construir otro. Sin embargo, el core de GraphFrames y GraphX es procesamiento y algoritmos avanzados sobre grafos a gran escala.", 
            "cell_type": "markdown", 
            "metadata": {}
        }, 
        {
            "source": "## Degree distribution", 
            "cell_type": "markdown", 
            "metadata": {}
        }, 
        {
            "source": "Grados de entrada. Podemos interpretarlo como que tanto importan los paises", 
            "cell_type": "markdown", 
            "metadata": {}
        }, 
        {
            "execution_count": null, 
            "cell_type": "code", 
            "metadata": {
                "pixiedust": {
                    "displayParams": {
                        "handlerId": "tableView"
                    }
                }
            }, 
            "outputs": [], 
            "source": "display(g.inDegrees.sort(desc(\"inDegree\")))"
        }, 
        {
            "source": "Grados de salida, Interpretamos como que tanto exportan los paises", 
            "cell_type": "markdown", 
            "metadata": {}
        }, 
        {
            "execution_count": null, 
            "cell_type": "code", 
            "metadata": {
                "pixiedust": {
                    "displayParams": {
                        "handlerId": "tableView"
                    }
                }
            }, 
            "outputs": [], 
            "source": "display(g.outDegrees.sort(desc(\"outDegree\")))"
        }, 
        {
            "source": "Claro, tambien tenemos la distribucion global.", 
            "cell_type": "markdown", 
            "metadata": {}
        }, 
        {
            "execution_count": null, 
            "cell_type": "code", 
            "metadata": {
                "pixiedust": {
                    "displayParams": {
                        "handlerId": "tableView"
                    }
                }
            }, 
            "outputs": [], 
            "source": "display(g.degrees.sort(desc(\"degree\")))"
        }, 
        {
            "source": "Todos estos resultados son simplemente tablas (DataFrames). Podemos graficarlos.", 
            "cell_type": "markdown", 
            "metadata": {}
        }, 
        {
            "execution_count": 133, 
            "cell_type": "code", 
            "metadata": {}, 
            "outputs": [], 
            "source": "degree_dist = g.degrees.toPandas()\\\n    .sort_values(['degree'], ascending = False).reset_index(drop=True)"
        }, 
        {
            "execution_count": 134, 
            "cell_type": "code", 
            "metadata": {}, 
            "outputs": [
                {
                    "output_type": "stream", 
                    "name": "stderr", 
                    "text": "/usr/local/src/conda3_runtime/home/envs/DSX-Python35-Spark/lib/python3.5/site-packages/seaborn/categorical.py:1460: FutureWarning: remove_na is deprecated and is a private function. Do not use.\n  stat_data = remove_na(group_data)\n"
                }, 
                {
                    "output_type": "display_data", 
                    "data": {
                        "image/png": "[encoded data removed]", 
                        "text/plain": "<matplotlib.figure.Figure at 0x7ff150ea67b8>"
                    }, 
                    "metadata": {}
                }
            ], 
            "source": "plt.figure(figsize=(8,12))\nsns.barplot(x = 'degree', y= 'id', data = degree_dist.head(30), color='xkcd:sea blue')\nplt.tight_layout()\nplt.show()\n"
        }, 
        {
            "source": "## BFS", 
            "cell_type": "markdown", 
            "metadata": {}
        }, 
        {
            "source": "Breadth First Search es un tipo de busqueda en grafos que parte de un nodo inicial y busca el camino mas corto hacia un nodo que cumpla cierta condicion. En `toy_g` por ejemplo, buscamos el camino mas corto desde `'David'` a nodos que tengan mas de 30 anhos.", 
            "cell_type": "markdown", 
            "metadata": {}
        }, 
        {
            "execution_count": 153, 
            "cell_type": "code", 
            "metadata": {}, 
            "outputs": [
                {
                    "output_type": "stream", 
                    "name": "stdout", 
                    "text": "+------------+------------+-------------+\n|        from|          e0|           to|\n+------------+------------+-------------+\n|[d,David,29]|[d,e,friend]|[e,Esther,32]|\n|[d,David,29]|[d,a,friend]| [a,Alice,34]|\n+------------+------------+-------------+\n\n"
                }
            ], 
            "source": "paths = toy_g.bfs(\"name = 'David'\", \"age > 30\")\n\npaths.show()"
        }, 
        {
            "source": "En el dataset del mundo, siendo colombia queremos ver que posibles caminos de exportacion llevan a paises del sureste de asia, `Southeast Asia`.", 
            "cell_type": "markdown", 
            "metadata": {}
        }, 
        {
            "execution_count": 154, 
            "cell_type": "code", 
            "metadata": {
                "pixiedust": {
                    "displayParams": {
                        "handlerId": "tableView"
                    }
                }
            }, 
            "outputs": [
                {
                    "execution_count": 154, 
                    "metadata": {}, 
                    "data": {
                        "text/plain": "223"
                    }, 
                    "output_type": "execute_result"
                }
            ], 
            "source": "col_paths = g.bfs(\n  fromExpr = \"name = 'Colombia'\", #expresion que define el/los nodos de salida\n  toExpr = \"region = 'Europe'\", #Expresion que define los nodos de llegada\n  #edgeFilter = \"resource = 'Cereals'\", #un filtro para los ejes\n  maxPathLength = 4) #maxima longitud del camino\n\ncol_paths.count()"
        }, 
        {
            "execution_count": 155, 
            "cell_type": "code", 
            "metadata": {}, 
            "outputs": [
                {
                    "execution_count": 155, 
                    "metadata": {}, 
                    "data": {
                        "text/plain": "[Row(e0=Row(src='COL', dst='ALB', resource='Horticulture', value='1794.27132', weight='2517.43357')),\n Row(e0=Row(src='COL', dst='ALB', resource='Stimulants, tobacco, spices', value='184.338613', weight='56.6779464')),\n Row(e0=Row(src='COL', dst='AUT', resource='Fish and aquatic resources', value='8.883', weight='0.79')),\n Row(e0=Row(src='COL', dst='AUT', resource='Horticulture', value='479.329', weight='76.919')),\n Row(e0=Row(src='COL', dst='AUT', resource='Live animals', value='0.2', weight='0.033'))]"
                    }, 
                    "output_type": "execute_result"
                }
            ], 
            "source": "col_paths.select(\"e0\").take(5)"
        }, 
        {
            "source": "## Caminos mas cortos", 
            "cell_type": "markdown", 
            "metadata": {}
        }, 
        {
            "source": "Podemos listar los caminos mas cortos a ciertos puntos, especificamos los nodos objetivo con el `id`", 
            "cell_type": "markdown", 
            "metadata": {}
        }, 
        {
            "execution_count": 30, 
            "cell_type": "code", 
            "metadata": {
                "pixiedust": {
                    "displayParams": {
                        "handlerId": "tableView"
                    }
                }
            }, 
            "outputs": [
                {
                    "output_type": "display_data", 
                    "data": {
                        "text/html": "<style type=\"text/css\">.pd_warning{display:none;}</style><div class=\"pd_warning\"><em>Hey, there's something awesome here! To see it, open this notebook outside GitHub, in a viewer like Jupyter</em></div>\n        <div class=\"pd_save is-viewer-good\" style=\"padding-right:10px;text-align: center;line-height:initial !important;font-size: xx-large;font-weight: 500;color: coral;\">\n            \n        </div>\n    <div id=\"chartFiguref397f5a4\" class=\"pd_save is-viewer-good\" style=\"overflow-x:auto\">\n            <style type=\"text/css\" class=\"pd_save\">\n    .df-table-wrapper .panel-heading {\n      border-radius: 0;\n      padding: 0px;\n    }\n    .df-table-wrapper .panel-heading:hover {\n      border-color: #008571;\n    }\n    .df-table-wrapper .panel-title a {\n      background-color: #f9f9fb;\n      color: #333333;\n      display: block;\n      outline: none;\n      padding: 10px 15px;\n      text-decoration: none;\n    }\n    .df-table-wrapper .panel-title a:hover {\n      background-color: #337ab7;\n      border-color: #2e6da4;\n      color: #ffffff;\n      display: block;\n      padding: 10px 15px;\n      text-decoration: none;\n    }\n    .df-table-wrapper {\n      font-size: small;\n      font-weight: 300;\n      letter-spacing: 0.5px;\n      line-height: normal;\n      height: inherit;\n      overflow: auto;\n    }\n    .df-table-search {\n      margin: 0 0 20px 0;\n    }\n    .df-table-search-count {\n      display: inline-block;\n      margin: 0 0 20px 0;\n    }\n    .df-table-container {\n      max-height: 50vh;\n      max-width: 100%;\n      overflow-x: auto;\n      position: relative;\n    }\n    .df-table-wrapper table {\n      border: 0 none #ffffff;\n      border-collapse: collapse;\n      margin: 0;\n      min-width: 100%;\n      padding: 0;\n      table-layout: fixed;\n      height: inherit;\n      overflow: auto;\n    }\n    .df-table-wrapper tr.hidden {\n      display: none;\n    }\n    .df-table-wrapper tr:nth-child(even) {\n      background-color: #f9f9fb;\n    }\n    .df-table-wrapper tr.even {\n      background-color: #f9f9fb;\n    }\n    .df-table-wrapper tr.odd {\n      background-color: #ffffff;\n    }\n    .df-table-wrapper td + td {\n      border-left: 1px solid #e0e0e0;\n    }\n  \n    .df-table-wrapper thead,\n    .fixed-header {\n      font-weight: 600;\n    }\n    .df-table-wrapper tr,\n    .fixed-row {\n      border: 0 none #ffffff;\n      margin: 0;\n      padding: 0;\n    }\n    .df-table-wrapper th,\n    .df-table-wrapper td,\n    .fixed-cell {\n      border: 0 none #ffffff;\n      margin: 0;\n      min-width: 50px;\n      padding: 5px 20px 5px 10px;\n      text-align: left;\n      word-wrap: break-word;\n    }\n    .df-table-wrapper th {\n      padding-bottom: 0;\n      padding-top: 0;\n    }\n    .df-table-wrapper th div {\n      max-height: 1px;\n      visibility: hidden;\n    }\n  \n    .df-schema-field {\n      margin-left: 10px;\n    }\n  \n    .fixed-header-container {\n      overflow: hidden;\n      position: relative;\n    }\n    .fixed-header {\n      border-bottom: 2px solid #000;\n      display: table;\n      position: relative;\n    }\n    .fixed-row {\n      display: table-row;\n    }\n    .fixed-cell {\n      display: table-cell;\n    }\n  </style>\n  \n  \n  <div class=\"df-table-wrapper df-table-wrapper-f397f5a4 panel-group pd_save\">\n    <!-- dataframe schema -->\n    \n    <div class=\"panel panel-default\">\n      <div class=\"panel-heading\">\n        <h4 class=\"panel-title\" style=\"margin: 0px;\">\n          <a data-toggle=\"collapse\" href=\"#df-schema-f397f5a4\" data-parent=\"#df-table-wrapper-f397f5a4\">Schema</a>\n        </h4>\n      </div>\n      <div id=\"df-schema-f397f5a4\" class=\"panel-collapse collapse\">\n        <div class=\"panel-body\" style=\"font-family: monospace;\">\n          <div class=\"df-schema-fields\">\n            <div>Field types:</div>\n            \n              <div class=\"df-schema-field\"><strong>id: </strong> object</div>\n            \n              <div class=\"df-schema-field\"><strong>name: </strong> object</div>\n            \n              <div class=\"df-schema-field\"><strong>age: </strong> int64</div>\n            \n              <div class=\"df-schema-field\"><strong>distances: </strong> object</div>\n            \n          </div>\n        </div>\n      </div>\n    </div>\n    \n    <!-- dataframe table -->\n    <div class=\"panel panel-default\">\n      \n      <div class=\"panel-heading\">\n        <h4 class=\"panel-title\" style=\"margin: 0px;\">\n          <a data-toggle=\"collapse\" href=\"#df-table-f397f5a4\" data-parent=\"#df-table-wrapper-f397f5a4\"> Table</a>\n        </h4>\n      </div>\n      \n      <div id=\"df-table-f397f5a4\" class=\"panel-collapse collapse in\">\n        <div class=\"panel-body\">\n          \n          <input class=\"df-table-search form-control input-sm\" placeholder=\"Search table\" type=\"text\">\n          \n          <div>\n            \n            <span class=\"df-table-search-count\">Showing 7 of 7 rows</span>\n            \n          </div>\n          <!-- fixed header for when dataframe table scrolls -->\n          <div class=\"fixed-header-container\">\n            <div class=\"fixed-header\" style=\"width: 891px;\">\n              <div class=\"fixed-row\">\n                \n                <div class=\"fixed-cell\" style=\"width: 143px;\">id</div>\n                \n                <div class=\"fixed-cell\" style=\"width: 214px;\">name</div>\n                \n                <div class=\"fixed-cell\" style=\"width: 150px;\">age</div>\n                \n                <div class=\"fixed-cell\" style=\"width: 384px;\">distances</div>\n                \n              </div>\n            </div>\n          </div>\n          <div class=\"df-table-container\">\n            <table class=\"df-table\">\n              <thead>\n                <tr>\n                  \n                  <th><div>id</div></th>\n                  \n                  <th><div>name</div></th>\n                  \n                  <th><div>age</div></th>\n                  \n                  <th><div>distances</div></th>\n                  \n                </tr>\n              </thead>\n              <tbody>\n                \n                <tr>\n                  \n                  <td>g</td>\n                  \n                  <td>Gabby</td>\n                  \n                  <td>60</td>\n                  \n                  <td>{}</td>\n                  \n                </tr>\n                \n                <tr>\n                  \n                  <td>b</td>\n                  \n                  <td>Bob</td>\n                  \n                  <td>36</td>\n                  \n                  <td>{'b': 0}</td>\n                  \n                </tr>\n                \n                <tr>\n                  \n                  <td>e</td>\n                  \n                  <td>Esther</td>\n                  \n                  <td>32</td>\n                  \n                  <td>{'a': 2, 'b': 3, 'd': 1}</td>\n                  \n                </tr>\n                \n                <tr>\n                  \n                  <td>a</td>\n                  \n                  <td>Alice</td>\n                  \n                  <td>34</td>\n                  \n                  <td>{'a': 0, 'b': 1, 'd': 2}</td>\n                  \n                </tr>\n                \n                <tr>\n                  \n                  <td>f</td>\n                  \n                  <td>Fanny</td>\n                  \n                  <td>36</td>\n                  \n                  <td>{'b': 2}</td>\n                  \n                </tr>\n                \n                <tr>\n                  \n                  <td>d</td>\n                  \n                  <td>David</td>\n                  \n                  <td>29</td>\n                  \n                  <td>{'a': 1, 'b': 2, 'd': 0}</td>\n                  \n                </tr>\n                \n                <tr>\n                  \n                  <td>c</td>\n                  \n                  <td>Charlie</td>\n                  \n                  <td>30</td>\n                  \n                  <td>{'b': 1}</td>\n                  \n                </tr>\n                \n              </tbody>\n            </table>\n          </div>\n        </div>\n      </div>\n    </div>\n  </div>\n  \n  <script class=\"pd_save\">\n    $(function() {\n      var tableWrapper = $('.df-table-wrapper-f397f5a4');\n      var fixedHeader = $('.fixed-header', tableWrapper);\n      var tableContainer = $('.df-table-container', tableWrapper);\n      var table = $('.df-table', tableContainer);\n      var rows = $('tbody > tr', table);\n      var total = 7;\n  \n      fixedHeader\n        .css('width', table.width())\n        .find('.fixed-cell')\n        .each(function(i, e) {\n          $(this).css('width', $('.df-table-wrapper-f397f5a4 th:nth-child(' + (i+1) + ')').css('width'));\n        });\n  \n      tableContainer.scroll(function() {\n        fixedHeader.css({ left: table.position().left });\n      });\n  \n      rows.on(\"click\", function(e){\n          var txt = e.delegateTarget.innerText;\n          var splits = txt.split(\"\\t\");\n          var len = splits.length;\n          var hdrs = $(fixedHeader).find(\".fixed-cell\");\n          // Add all cells in the selected row as a map to be consumed by the target as needed\n          var payload = {type:\"select\", targetDivId: \"\" };\n          for (var i = 0; i < len; i++) {\n            payload[hdrs[i].innerHTML] = splits[i];\n          }\n  \n          //simple selection highlighting, client adds \"selected\" class\n          $(this).addClass(\"selected\").siblings().removeClass(\"selected\");\n          $(document).trigger('pd_event', payload);\n      });\n  \n      $('.df-table-search', tableWrapper).keyup(function() {\n        var val = '^(?=.*\\\\b' + $.trim($(this).val()).split(/\\s+/).join('\\\\b)(?=.*\\\\b') + ').*$';\n        var reg = RegExp(val, 'i');\n        var index = 0;\n        \n        rows.each(function(i, e) {\n          if (!reg.test($(this).text().replace(/\\s+/g, ' '))) {\n            $(this).attr('class', 'hidden');\n          }\n          else {\n            $(this).attr('class', (++index % 2 == 0 ? 'even' : 'odd'));\n          }\n        });\n        $('.df-table-search-count', tableWrapper).html('Showing ' + index + ' of ' + total + ' rows');\n      });\n    });\n  \n    $(\".df-table-wrapper td:contains('http://')\").each(function(){var tc = this.textContent; $(this).wrapInner(\"<a target='_blank' href='\" + tc + \"'></a>\");});\n    $(\".df-table-wrapper td:contains('https://')\").each(function(){var tc = this.textContent; $(this).wrapInner(\"<a target='_blank' href='\" + tc + \"'></a>\");});\n  </script>\n  \n        </div>", 
                        "text/plain": "<IPython.core.display.HTML object>"
                    }, 
                    "metadata": {}
                }
            ], 
            "source": "results = toy_g.shortestPaths(landmarks=[\"a\", 'b', \"d\"])\ndisplay(results)"
        }, 
        {
            "source": "## Pagerank", 
            "cell_type": "markdown", 
            "metadata": {}
        }, 
        {
            "source": "Este fue popularizado por Google. Es una medida de la importancia de los nodos", 
            "cell_type": "markdown", 
            "metadata": {}
        }, 
        {
            "execution_count": 35, 
            "cell_type": "code", 
            "metadata": {
                "pixiedust": {
                    "displayParams": {
                        "handlerId": "graphDirected"
                    }
                }
            }, 
            "outputs": [
                {
                    "output_type": "stream", 
                    "name": "stdout", 
                    "text": "+---+-------+---+-------------------+\n| id|   name|age|           pagerank|\n+---+-------+---+-------------------+\n|  g|  Gabby| 60|               0.15|\n|  b|    Bob| 36| 1.1681910439453123|\n|  e| Esther| 32| 0.3962066088867187|\n|  a|  Alice| 34|0.27990066064453123|\n|  f|  Fanny| 36|  0.313968087890625|\n|  d|  David| 29|  0.313968087890625|\n|  c|Charlie| 30| 1.2648684169921873|\n+---+-------+---+-------------------+\n\n"
                }
            ], 
            "source": "result = toy_g.pageRank(resetProbability=0.15, maxIter=5)\nresult.vertices.show() #devuelve otro graphframe donde los nodos tienen un atributo pageRank y las relacione sun atributo peso"
        }, 
        {
            "source": "En vez de maximo de iteraciones, podemos detener el algoritmo cuando el cambio en score no supera `tol`", 
            "cell_type": "markdown", 
            "metadata": {}
        }, 
        {
            "execution_count": null, 
            "cell_type": "code", 
            "metadata": {}, 
            "outputs": [], 
            "source": "rank = latam_g.pageRank(resetProbability=0.15, tol=0.05)"
        }, 
        {
            "execution_count": null, 
            "cell_type": "code", 
            "metadata": {
                "pixiedust": {
                    "displayParams": {
                        "handlerId": "tableView"
                    }
                }
            }, 
            "outputs": [], 
            "source": "display(rank.vertices.sort(desc(\"pagerank\")))"
        }, 
        {
            "source": "## Comunidades", 
            "cell_type": "markdown", 
            "metadata": {}
        }, 
        {
            "source": "Label propagatation es un algoritmo que permite detectar comunidades en los grafos.", 
            "cell_type": "markdown", 
            "metadata": {}
        }, 
        {
            "execution_count": 157, 
            "cell_type": "code", 
            "metadata": {
                "pixiedust": {
                    "displayParams": {
                        "handlerId": "tableView"
                    }
                }
            }, 
            "outputs": [
                {
                    "output_type": "display_data", 
                    "data": {
                        "text/html": "<style type=\"text/css\">.pd_warning{display:none;}</style><div class=\"pd_warning\"><em>Hey, there's something awesome here! To see it, open this notebook outside GitHub, in a viewer like Jupyter</em></div>\n        <div class=\"pd_save is-viewer-good\" style=\"padding-right:10px;text-align: center;line-height:initial !important;font-size: xx-large;font-weight: 500;color: coral;\">\n            \n        </div>\n    <div id=\"chartFigure7afa4519\" class=\"pd_save is-viewer-good\" style=\"overflow-x:auto\">\n            <style type=\"text/css\" class=\"pd_save\">\n    .df-table-wrapper .panel-heading {\n      border-radius: 0;\n      padding: 0px;\n    }\n    .df-table-wrapper .panel-heading:hover {\n      border-color: #008571;\n    }\n    .df-table-wrapper .panel-title a {\n      background-color: #f9f9fb;\n      color: #333333;\n      display: block;\n      outline: none;\n      padding: 10px 15px;\n      text-decoration: none;\n    }\n    .df-table-wrapper .panel-title a:hover {\n      background-color: #337ab7;\n      border-color: #2e6da4;\n      color: #ffffff;\n      display: block;\n      padding: 10px 15px;\n      text-decoration: none;\n    }\n    .df-table-wrapper {\n      font-size: small;\n      font-weight: 300;\n      letter-spacing: 0.5px;\n      line-height: normal;\n      height: inherit;\n      overflow: auto;\n    }\n    .df-table-search {\n      margin: 0 0 20px 0;\n    }\n    .df-table-search-count {\n      display: inline-block;\n      margin: 0 0 20px 0;\n    }\n    .df-table-container {\n      max-height: 50vh;\n      max-width: 100%;\n      overflow-x: auto;\n      position: relative;\n    }\n    .df-table-wrapper table {\n      border: 0 none #ffffff;\n      border-collapse: collapse;\n      margin: 0;\n      min-width: 100%;\n      padding: 0;\n      table-layout: fixed;\n      height: inherit;\n      overflow: auto;\n    }\n    .df-table-wrapper tr.hidden {\n      display: none;\n    }\n    .df-table-wrapper tr:nth-child(even) {\n      background-color: #f9f9fb;\n    }\n    .df-table-wrapper tr.even {\n      background-color: #f9f9fb;\n    }\n    .df-table-wrapper tr.odd {\n      background-color: #ffffff;\n    }\n    .df-table-wrapper td + td {\n      border-left: 1px solid #e0e0e0;\n    }\n  \n    .df-table-wrapper thead,\n    .fixed-header {\n      font-weight: 600;\n    }\n    .df-table-wrapper tr,\n    .fixed-row {\n      border: 0 none #ffffff;\n      margin: 0;\n      padding: 0;\n    }\n    .df-table-wrapper th,\n    .df-table-wrapper td,\n    .fixed-cell {\n      border: 0 none #ffffff;\n      margin: 0;\n      min-width: 50px;\n      padding: 5px 20px 5px 10px;\n      text-align: left;\n      word-wrap: break-word;\n    }\n    .df-table-wrapper th {\n      padding-bottom: 0;\n      padding-top: 0;\n    }\n    .df-table-wrapper th div {\n      max-height: 1px;\n      visibility: hidden;\n    }\n  \n    .df-schema-field {\n      margin-left: 10px;\n    }\n  \n    .fixed-header-container {\n      overflow: hidden;\n      position: relative;\n    }\n    .fixed-header {\n      border-bottom: 2px solid #000;\n      display: table;\n      position: relative;\n    }\n    .fixed-row {\n      display: table-row;\n    }\n    .fixed-cell {\n      display: table-cell;\n    }\n  </style>\n  \n  \n  <div class=\"df-table-wrapper df-table-wrapper-7afa4519 panel-group pd_save\">\n    <!-- dataframe schema -->\n    \n    <div class=\"panel panel-default\">\n      <div class=\"panel-heading\">\n        <h4 class=\"panel-title\" style=\"margin: 0px;\">\n          <a data-toggle=\"collapse\" href=\"#df-schema-7afa4519\" data-parent=\"#df-table-wrapper-7afa4519\">Schema</a>\n        </h4>\n      </div>\n      <div id=\"df-schema-7afa4519\" class=\"panel-collapse collapse\">\n        <div class=\"panel-body\" style=\"font-family: monospace;\">\n          <div class=\"df-schema-fields\">\n            <div>Field types:</div>\n            \n              <div class=\"df-schema-field\"><strong>id: </strong> object</div>\n            \n              <div class=\"df-schema-field\"><strong>name: </strong> object</div>\n            \n              <div class=\"df-schema-field\"><strong>age: </strong> int64</div>\n            \n              <div class=\"df-schema-field\"><strong>label: </strong> int64</div>\n            \n          </div>\n        </div>\n      </div>\n    </div>\n    \n    <!-- dataframe table -->\n    <div class=\"panel panel-default\">\n      \n      <div class=\"panel-heading\">\n        <h4 class=\"panel-title\" style=\"margin: 0px;\">\n          <a data-toggle=\"collapse\" href=\"#df-table-7afa4519\" data-parent=\"#df-table-wrapper-7afa4519\"> Table</a>\n        </h4>\n      </div>\n      \n      <div id=\"df-table-7afa4519\" class=\"panel-collapse collapse in\">\n        <div class=\"panel-body\">\n          \n          <input class=\"df-table-search form-control input-sm\" placeholder=\"Search table\" type=\"text\">\n          \n          <div>\n            \n            <span class=\"df-table-search-count\">Showing 7 of 7 rows</span>\n            \n          </div>\n          <!-- fixed header for when dataframe table scrolls -->\n          <div class=\"fixed-header-container\">\n            <div class=\"fixed-header\" style=\"width: 891px;\">\n              <div class=\"fixed-row\">\n                \n                <div class=\"fixed-cell\" style=\"width: 146px;\">id</div>\n                \n                <div class=\"fixed-cell\" style=\"width: 218px;\">name</div>\n                \n                <div class=\"fixed-cell\" style=\"width: 154px;\">age</div>\n                \n                <div class=\"fixed-cell\" style=\"width: 373px;\">label</div>\n                \n              </div>\n            </div>\n          </div>\n          <div class=\"df-table-container\">\n            <table class=\"df-table\">\n              <thead>\n                <tr>\n                  \n                  <th><div>id</div></th>\n                  \n                  <th><div>name</div></th>\n                  \n                  <th><div>age</div></th>\n                  \n                  <th><div>label</div></th>\n                  \n                </tr>\n              </thead>\n              <tbody>\n                \n                <tr>\n                  \n                  <td>g</td>\n                  \n                  <td>Gabby</td>\n                  \n                  <td>60</td>\n                  \n                  <td>146028888064</td>\n                  \n                </tr>\n                \n                <tr>\n                  \n                  <td>b</td>\n                  \n                  <td>Bob</td>\n                  \n                  <td>36</td>\n                  \n                  <td>1047972020224</td>\n                  \n                </tr>\n                \n                <tr>\n                  \n                  <td>e</td>\n                  \n                  <td>Esther</td>\n                  \n                  <td>32</td>\n                  \n                  <td>807453851648</td>\n                  \n                </tr>\n                \n                <tr>\n                  \n                  <td>a</td>\n                  \n                  <td>Alice</td>\n                  \n                  <td>34</td>\n                  \n                  <td>1382979469312</td>\n                  \n                </tr>\n                \n                <tr>\n                  \n                  <td>f</td>\n                  \n                  <td>Fanny</td>\n                  \n                  <td>36</td>\n                  \n                  <td>1047972020224</td>\n                  \n                </tr>\n                \n                <tr>\n                  \n                  <td>d</td>\n                  \n                  <td>David</td>\n                  \n                  <td>29</td>\n                  \n                  <td>670014898176</td>\n                  \n                </tr>\n                \n                <tr>\n                  \n                  <td>c</td>\n                  \n                  <td>Charlie</td>\n                  \n                  <td>30</td>\n                  \n                  <td>1382979469312</td>\n                  \n                </tr>\n                \n              </tbody>\n            </table>\n          </div>\n        </div>\n      </div>\n    </div>\n  </div>\n  \n  <script class=\"pd_save\">\n    $(function() {\n      var tableWrapper = $('.df-table-wrapper-7afa4519');\n      var fixedHeader = $('.fixed-header', tableWrapper);\n      var tableContainer = $('.df-table-container', tableWrapper);\n      var table = $('.df-table', tableContainer);\n      var rows = $('tbody > tr', table);\n      var total = 7;\n  \n      fixedHeader\n        .css('width', table.width())\n        .find('.fixed-cell')\n        .each(function(i, e) {\n          $(this).css('width', $('.df-table-wrapper-7afa4519 th:nth-child(' + (i+1) + ')').css('width'));\n        });\n  \n      tableContainer.scroll(function() {\n        fixedHeader.css({ left: table.position().left });\n      });\n  \n      rows.on(\"click\", function(e){\n          var txt = e.delegateTarget.innerText;\n          var splits = txt.split(\"\\t\");\n          var len = splits.length;\n          var hdrs = $(fixedHeader).find(\".fixed-cell\");\n          // Add all cells in the selected row as a map to be consumed by the target as needed\n          var payload = {type:\"select\", targetDivId: \"\" };\n          for (var i = 0; i < len; i++) {\n            payload[hdrs[i].innerHTML] = splits[i];\n          }\n  \n          //simple selection highlighting, client adds \"selected\" class\n          $(this).addClass(\"selected\").siblings().removeClass(\"selected\");\n          $(document).trigger('pd_event', payload);\n      });\n  \n      $('.df-table-search', tableWrapper).keyup(function() {\n        var val = '^(?=.*\\\\b' + $.trim($(this).val()).split(/\\s+/).join('\\\\b)(?=.*\\\\b') + ').*$';\n        var reg = RegExp(val, 'i');\n        var index = 0;\n        \n        rows.each(function(i, e) {\n          if (!reg.test($(this).text().replace(/\\s+/g, ' '))) {\n            $(this).attr('class', 'hidden');\n          }\n          else {\n            $(this).attr('class', (++index % 2 == 0 ? 'even' : 'odd'));\n          }\n        });\n        $('.df-table-search-count', tableWrapper).html('Showing ' + index + ' of ' + total + ' rows');\n      });\n    });\n  \n    $(\".df-table-wrapper td:contains('http://')\").each(function(){var tc = this.textContent; $(this).wrapInner(\"<a target='_blank' href='\" + tc + \"'></a>\");});\n    $(\".df-table-wrapper td:contains('https://')\").each(function(){var tc = this.textContent; $(this).wrapInner(\"<a target='_blank' href='\" + tc + \"'></a>\");});\n  </script>\n  \n        </div>", 
                        "text/plain": "<IPython.core.display.HTML object>"
                    }, 
                    "metadata": {}
                }
            ], 
            "source": "comunidades = toy_g.labelPropagation(maxIter=5)\ndisplay(comunidades)"
        }, 
        {
            "source": "Las aplicamos sobre el grafo `big_g`. **Toma tiempo**", 
            "cell_type": "markdown", 
            "metadata": {}
        }, 
        {
            "execution_count": 141, 
            "cell_type": "code", 
            "metadata": {
                "pixiedust": {
                    "displayParams": {
                        "handlerId": "tableView"
                    }
                }, 
                "scrolled": true
            }, 
            "outputs": [], 
            "source": "comunidades = big_g.labelPropagation(maxIter=5)"
        }, 
        {
            "execution_count": 142, 
            "cell_type": "code", 
            "metadata": {
                "pixiedust": {
                    "displayParams": {
                        "handlerId": "tableView"
                    }
                }
            }, 
            "outputs": [], 
            "source": "display(comunidades.groupby('label').count().sort(desc('count')))"
        }, 
        {
            "source": "## Componentes fuertemente conectados", 
            "cell_type": "markdown", 
            "metadata": {}
        }, 
        {
            "source": "Un componente conectado es un grupo de nodos para los cuales existe un camino entre cualquier dos nodos del grupo.", 
            "cell_type": "markdown", 
            "metadata": {}
        }, 
        {
            "execution_count": null, 
            "cell_type": "code", 
            "metadata": {}, 
            "outputs": [], 
            "source": "componentes = toy_g.stronglyConnectedComponents(maxIter=5)\ndisplay(componentes)"
        }, 
        {
            "source": "En un grafo grande tiende a tomar **mucho tiempo**", 
            "cell_type": "markdown", 
            "metadata": {}
        }, 
        {
            "execution_count": null, 
            "cell_type": "code", 
            "metadata": {
                "pixiedust": {
                    "displayParams": {
                        "handlerId": "tableView"
                    }
                }
            }, 
            "outputs": [], 
            "source": "componentes = big_g.stronglyConnectedComponents(maxIter=5)\ndisplay(componentes.select(\"id\", \"component\"))"
        }, 
        {
            "execution_count": null, 
            "cell_type": "code", 
            "metadata": {
                "pixiedust": {
                    "displayParams": {
                        "handlerId": "tableView"
                    }
                }
            }, 
            "outputs": [], 
            "source": "componentes.select(\"id\", \"component\").groupby(\"component\").count().sort(desc(\"count\")).show()"
        }, 
        {
            "execution_count": null, 
            "cell_type": "code", 
            "metadata": {}, 
            "outputs": [], 
            "source": "#componentes.filter(col('component') == \"489626271744\" ).show()"
        }
    ], 
    "metadata": {
        "kernelspec": {
            "display_name": "Python 3.5 with Spark 2.1", 
            "name": "python3-spark21", 
            "language": "python"
        }, 
        "language_info": {
            "mimetype": "text/x-python", 
            "nbconvert_exporter": "python", 
            "version": "3.5.4", 
            "name": "python", 
            "file_extension": ".py", 
            "pygments_lexer": "ipython3", 
            "codemirror_mode": {
                "version": 3, 
                "name": "ipython"
            }
        }
    }, 
    "nbformat": 4
}