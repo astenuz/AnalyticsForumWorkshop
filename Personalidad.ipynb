{
    "nbformat_minor": 2, 
    "cells": [
        {
            "execution_count": 2, 
            "cell_type": "code", 
            "metadata": {}, 
            "outputs": [], 
            "source": "#!pip install tweepy\n#!pip install --upgrade watson-developer-cloud"
        }, 
        {
            "source": "# Personality Insights", 
            "cell_type": "markdown", 
            "metadata": {}
        }, 
        {
            "source": "https://console.bluemix.net/docs/services/personality-insights/models.html#models", 
            "cell_type": "markdown", 
            "metadata": {}
        }, 
        {
            "source": "## Librerias", 
            "cell_type": "markdown", 
            "metadata": {}
        }, 
        {
            "execution_count": 3, 
            "cell_type": "code", 
            "metadata": {}, 
            "outputs": [], 
            "source": "import re\nimport tweepy\nimport json\nimport pprint\nimport math\nfrom tweepy import OAuthHandler\nfrom watson_developer_cloud import PersonalityInsightsV3\nimport pandas as pd\nfrom functools import reduce\n#from textblob import TextBlob"
        }, 
        {
            "source": "## Extraccion de tweets", 
            "cell_type": "markdown", 
            "metadata": {}
        }, 
        {
            "source": "Usaremos los tweets para formar el corpus de prueba que enviaremos al API.", 
            "cell_type": "markdown", 
            "metadata": {}
        }, 
        {
            "execution_count": 4, 
            "cell_type": "code", 
            "metadata": {}, 
            "outputs": [], 
            "source": "#coloque aqui Credenciales Twitter"
        }, 
        {
            "execution_count": 5, 
            "cell_type": "code", 
            "metadata": {}, 
            "outputs": [], 
            "source": "# The code was removed by DSX for sharing."
        }, 
        {
            "execution_count": 6, 
            "cell_type": "code", 
            "metadata": {}, 
            "outputs": [], 
            "source": "class TwitterClient(object):\n    '''\n    Generic Twitter Class for sentiment analysis.\n    '''\n    def __init__(self):\n        '''\n        Class constructor or initialization method.\n        '''\n        # attempt authentication\n        try:\n            # create OAuthHandler object\n            self.auth = OAuthHandler(consumer_key, consumer_secret)\n            # set access token and secret\n            self.auth.set_access_token(access_token, access_token_secret)\n            # create tweepy API object to fetch tweets\n            self.api = tweepy.API(self.auth)\n        except:\n            print(\"Error: Authentication Failed\")\n \n    def clean_tweet(self, tweet):\n        '''\n        Utility function to clean tweet text by removing links, special characters\n        using simple regex statements.\n        '''\n        return ' '.join(re.sub(\"(@[A-Za-z0-9]+)|([^0-9A-Za-z \\t])|(\\w+:\\/\\/\\S+)\", \" \", tweet).split())  \n    \n    def parse_tweets(self, fetched_tweets):\n        tweets = []\n        \n        for tweet in fetched_tweets:\n                # empty dictionary to store required params of a tweet\n                parsed_tweet = {}\n \n                # saving text of tweet\n                parsed_tweet['content'] = tweet.text\n                #parsed_tweet['clean_text'] = self.clean_tweet(tweet.text)\n                parsed_tweet['contenttype'] = 'text/plain' \n                parsed_tweet['language'] = tweet.lang\n                parsed_tweet['id'] = tweet.id_str\n                parsed_tweet['created'] = math.floor(tweet.created_at.timestamp())\n                \n                #parsed_tweet = tweet\n                \n                # appending parsed tweet to tweets list\n                if tweet.retweet_count > 0:\n                    # if tweet has retweets, ensure that it is appended only once\n                    if parsed_tweet not in tweets:\n                        tweets.append(parsed_tweet)\n                else:\n                    tweets.append(parsed_tweet)\n                    \n        return tweets\n        \n    def get_raw_tweets(self,query,count=10):        \n        try:\n            # call twitter api to fetch tweets\n            fetched_tweets = self.api.search(q = query, count = count)\n \n            # parsing tweets one by one\n            tweets = self.parse_tweets(fetched_tweets)\n \n            # return parsed tweets\n            return tweets\n \n        except tweepy.TweepError as e:\n            # print error (if any)\n            print(\"Error : \" + str(e))\n            \n    def get_user_tweets(self, userid, count):\n        tweets=[]\n        \n        try:\n            # call twitter api to fetch tweets\n            fetched_tweets = self.api.user_timeline(id=userid,count=200)\n \n            # parsing tweets one by one\n            tweets = self.parse_tweets(fetched_tweets)\n            return tweets\n \n        except tweepy.TweepError as e:\n            # print error (if any)\n            print(\"Error : \" + str(e))"
        }, 
        {
            "source": "Teniendo los metodos, podemos extraer los tweets para un id de usuario particular", 
            "cell_type": "markdown", 
            "metadata": {}
        }, 
        {
            "execution_count": 7, 
            "cell_type": "code", 
            "metadata": {
                "scrolled": true
            }, 
            "outputs": [
                {
                    "execution_count": 7, 
                    "metadata": {}, 
                    "data": {
                        "text/plain": "[{'content': 'RT @traslaperla: Inscr\u00edbete! Programa Impulso es un programa de la organizaci\u00f3n UWC, que convoca a 40 j\u00f3venes colombianos de varias regione\u2026',\n  'contenttype': 'text/plain',\n  'created': 1520547576,\n  'id': '971782494222802946',\n  'language': 'es'},\n {'content': 'RT @Tigo_Bolivia: Ll\u00e9nate de energ\u00eda y optimismo \ud83d\ude0a \ud83c\udfb6 con el colorido video de @carlosvives y @MelendiOficial #ElArrepentido \ud83c\udfa7 \\nEntra a http\u2026',\n  'contenttype': 'text/plain',\n  'created': 1520526993,\n  'id': '971696162737655808',\n  'language': 'es'}]"
                    }, 
                    "output_type": "execute_result"
                }
            ], 
            "source": "# creating object of TwitterClient ClassBogota\napi = TwitterClient()\n# calling function to get tweets\ntweets = api.get_user_tweets('carlosvives',count=1000)\n\ntweets[1:3] #mostramos los primeros 3"
        }, 
        {
            "source": "Debemos poner los tweet en un formato especifico para enviarlos a watson", 
            "cell_type": "markdown", 
            "metadata": {}
        }, 
        {
            "execution_count": 8, 
            "cell_type": "code", 
            "metadata": {}, 
            "outputs": [], 
            "source": "body = {\"contentItems\" : tweets}"
        }, 
        {
            "source": "## Calculamos el perfil", 
            "cell_type": "markdown", 
            "metadata": {}
        }, 
        {
            "source": "Ahora que tenemos los tweet procesados, podemos usar la API de Personality Insights. Primero creamos el objeto que permite enviar peticiones.", 
            "cell_type": "markdown", 
            "metadata": {}
        }, 
        {
            "execution_count": 9, 
            "cell_type": "code", 
            "metadata": {}, 
            "outputs": [], 
            "source": "#coloque aqui Credenciales NLU"
        }, 
        {
            "execution_count": 10, 
            "cell_type": "code", 
            "metadata": {}, 
            "outputs": [], 
            "source": "# The code was removed by DSX for sharing."
        }, 
        {
            "execution_count": 11, 
            "cell_type": "code", 
            "metadata": {}, 
            "outputs": [], 
            "source": "personality_insights = PersonalityInsightsV3(\n    version='2016-10-20',\n    username = nlu_username,\npassword = nlu_password)"
        }, 
        {
            "source": "La funcion `profile` devuelve el perfil en formato json", 
            "cell_type": "markdown", 
            "metadata": {}
        }, 
        {
            "execution_count": 12, 
            "cell_type": "code", 
            "metadata": {}, 
            "outputs": [], 
            "source": "profile = personality_insights.profile(\n    body, \n    content_type='application/json',\n    accept_language = 'es')"
        }, 
        {
            "execution_count": 13, 
            "cell_type": "code", 
            "metadata": {}, 
            "outputs": [], 
            "source": "pp = pprint.PrettyPrinter(indent=4)"
        }, 
        {
            "execution_count": 14, 
            "cell_type": "code", 
            "metadata": {}, 
            "outputs": [
                {
                    "output_type": "stream", 
                    "name": "stdout", 
                    "text": "{   'behavior': [   {   'category': 'behavior',\n                        'name': 'Domingo',\n                        'percentage': 1.0,\n                        'trait_id': 'behavior_sunday'},\n                    {   'category': 'behavior',\n                        'name': 'Lunes',\n                        'percentage': 0.0,\n                        'trait_id': 'behavior_monday'},\n                    {   'category': 'behavior',\n                        'name': 'Martes',\n                        'percentage': 0.0,\n                        'trait_id': 'behavior_tuesday'},\n                    {   'category': 'behavior',\n                        'name': 'Mi\u00e9rcoles',\n                        'percentage': 0.0,\n                        'trait_id': 'behavior_wednesday'},\n                    {   'category': 'behavior',\n                        'name': 'Jueves',\n                        'percentage': 0.0,\n                        'trait_id': 'behavior_thursday'},\n                    {   'category': 'behavior',\n                        'name': 'Viernes',\n                        'percentage': 0.0,\n                        'trait_id': 'behavior_friday'},\n                    {   'category': 'behavior',\n                        'name': 'S\u00e1bado',\n                        'percentage': 0.0,\n                        'trait_id': 'behavior_saturday'},\n                    {   'category': 'behavior',\n                        'name': '0:00 am',\n                        'percentage': 0.0,\n                        'trait_id': 'behavior_0000'},\n                    {   'category': 'behavior',\n                        'name': '1:00 am',\n                        'percentage': 0.0,\n                        'trait_id': 'behavior_0100'},\n                    {   'category': 'behavior',\n                        'name': '2:00 am',\n                        'percentage': 0.0,\n                        'trait_id': 'behavior_0200'},\n                    {   'category': 'behavior',\n                        'name': '3:00 am',\n                        'percentage': 0.0,\n                        'trait_id': 'behavior_0300'},\n                    {   'category': 'behavior',\n                        'name': '4:00 am',\n                        'percentage': 0.0,\n                        'trait_id': 'behavior_0400'},\n                    {   'category': 'behavior',\n                        'name': '5:00 am',\n                        'percentage': 0.0,\n                        'trait_id': 'behavior_0500'},\n                    {   'category': 'behavior',\n                        'name': '6:00 am',\n                        'percentage': 0.0,\n                        'trait_id': 'behavior_0600'},\n                    {   'category': 'behavior',\n                        'name': '7:00 am',\n                        'percentage': 0.0,\n                        'trait_id': 'behavior_0700'},\n                    {   'category': 'behavior',\n                        'name': '8:00 am',\n                        'percentage': 0.0,\n                        'trait_id': 'behavior_0800'},\n                    {   'category': 'behavior',\n                        'name': '9:00 am',\n                        'percentage': 0.0,\n                        'trait_id': 'behavior_0900'},\n                    {   'category': 'behavior',\n                        'name': '10:00 am',\n                        'percentage': 0.0,\n                        'trait_id': 'behavior_1000'},\n                    {   'category': 'behavior',\n                        'name': '11:00 am',\n                        'percentage': 0.0,\n                        'trait_id': 'behavior_1100'},\n                    {   'category': 'behavior',\n                        'name': '12:00 pm',\n                        'percentage': 0.0,\n                        'trait_id': 'behavior_1200'},\n                    {   'category': 'behavior',\n                        'name': '1:00 pm',\n                        'percentage': 0.155,\n                        'trait_id': 'behavior_1300'},\n                    {   'category': 'behavior',\n                        'name': '2:00 pm',\n                        'percentage': 0.845,\n                        'trait_id': 'behavior_1400'},\n                    {   'category': 'behavior',\n                        'name': '3:00 pm',\n                        'percentage': 0.0,\n                        'trait_id': 'behavior_1500'},\n                    {   'category': 'behavior',\n                        'name': '4:00 pm',\n                        'percentage': 0.0,\n                        'trait_id': 'behavior_1600'},\n                    {   'category': 'behavior',\n                        'name': '5:00 pm',\n                        'percentage': 0.0,\n                        'trait_id': 'behavior_1700'},\n                    {   'category': 'behavior',\n                        'name': '6:00 pm',\n                        'percentage': 0.0,\n                        'trait_id': 'behavior_1800'},\n                    {   'category': 'behavior',\n                        'name': '7:00 pm',\n                        'percentage': 0.0,\n                        'trait_id': 'behavior_1900'},\n                    {   'category': 'behavior',\n                        'name': '8:00 pm',\n                        'percentage': 0.0,\n                        'trait_id': 'behavior_2000'},\n                    {   'category': 'behavior',\n                        'name': '9:00 pm',\n                        'percentage': 0.0,\n                        'trait_id': 'behavior_2100'},\n                    {   'category': 'behavior',\n                        'name': '10:00 pm',\n                        'percentage': 0.0,\n                        'trait_id': 'behavior_2200'},\n                    {   'category': 'behavior',\n                        'name': '11:00 pm',\n                        'percentage': 0.0,\n                        'trait_id': 'behavior_2300'}],\n    'needs': [   {   'category': 'needs',\n                     'name': 'Desaf\u00edo',\n                     'percentile': 0.5443924943972401,\n                     'trait_id': 'need_challenge'},\n                 {   'category': 'needs',\n                     'name': 'Familiaridad',\n                     'percentile': 0.9396340904643132,\n                     'trait_id': 'need_closeness'},\n                 {   'category': 'needs',\n                     'name': 'Curiosidad',\n                     'percentile': 0.23043698016249609,\n                     'trait_id': 'need_curiosity'},\n                 {   'category': 'needs',\n                     'name': 'Entusiasmo',\n                     'percentile': 0.38797756819797613,\n                     'trait_id': 'need_excitement'},\n                 {   'category': 'needs',\n                     'name': 'Armon\u00eda',\n                     'percentile': 0.885194882200685,\n                     'trait_id': 'need_harmony'},\n                 {   'category': 'needs',\n                     'name': 'Ideal',\n                     'percentile': 0.08904416244034447,\n                     'trait_id': 'need_ideal'},\n                 {   'category': 'needs',\n                     'name': 'Libertad',\n                     'percentile': 0.7179400282407976,\n                     'trait_id': 'need_liberty'},\n                 {   'category': 'needs',\n                     'name': 'Amor',\n                     'percentile': 0.5553479628039237,\n                     'trait_id': 'need_love'},\n                 {   'category': 'needs',\n                     'name': 'Practicidad',\n                     'percentile': 0.6364748830789002,\n                     'trait_id': 'need_practicality'},\n                 {   'category': 'needs',\n                     'name': 'Autoexpresi\u00f3n',\n                     'percentile': 0.012392580867581438,\n                     'trait_id': 'need_self_expression'},\n                 {   'category': 'needs',\n                     'name': 'Estabilidad',\n                     'percentile': 0.7953503277041685,\n                     'trait_id': 'need_stability'},\n                 {   'category': 'needs',\n                     'name': 'Estructura',\n                     'percentile': 0.5602709919782288,\n                     'trait_id': 'need_structure'}],\n    'personality': [   {   'category': 'personality',\n                           'children': [   {   'category': 'personality',\n                                               'name': 'Audacia',\n                                               'percentile': 0.9642925606635175,\n                                               'trait_id': 'facet_adventurousness'},\n                                           {   'category': 'personality',\n                                               'name': 'Intereses art\u00edsticos',\n                                               'percentile': 0.9682988860060783,\n                                               'trait_id': 'facet_artistic_interests'},\n                                           {   'category': 'personality',\n                                               'name': 'Emocionalidad',\n                                               'percentile': 0.9595058404895789,\n                                               'trait_id': 'facet_emotionality'},\n                                           {   'category': 'personality',\n                                               'name': 'Imaginaci\u00f3n',\n                                               'percentile': 0.6820837240573375,\n                                               'trait_id': 'facet_imagination'},\n                                           {   'category': 'personality',\n                                               'name': 'Intelecto',\n                                               'percentile': 0.8721696949767137,\n                                               'trait_id': 'facet_intellect'},\n                                           {   'category': 'personality',\n                                               'name': 'Desaf\u00edo a la autoridad',\n                                               'percentile': 0.4571528850044142,\n                                               'trait_id': 'facet_liberalism'}],\n                           'name': 'Apertura a experiencias',\n                           'percentile': 0.9811874635267813,\n                           'trait_id': 'big5_openness'},\n                       {   'category': 'personality',\n                           'children': [   {   'category': 'personality',\n                                               'name': 'Necesidad de \u00e9xito',\n                                               'percentile': 0.9925107587673614,\n                                               'trait_id': 'facet_achievement_striving'},\n                                           {   'category': 'personality',\n                                               'name': 'Cautela',\n                                               'percentile': 0.8166877543613204,\n                                               'trait_id': 'facet_cautiousness'},\n                                           {   'category': 'personality',\n                                               'name': 'Obediencia',\n                                               'percentile': 0.8577910051520762,\n                                               'trait_id': 'facet_dutifulness'},\n                                           {   'category': 'personality',\n                                               'name': 'Disciplina',\n                                               'percentile': 0.7926749143925089,\n                                               'trait_id': 'facet_orderliness'},\n                                           {   'category': 'personality',\n                                               'name': 'Autodisciplina',\n                                               'percentile': 0.9013762117578972,\n                                               'trait_id': 'facet_self_discipline'},\n                                           {   'category': 'personality',\n                                               'name': 'Autoeficacia',\n                                               'percentile': 0.7351255624326899,\n                                               'trait_id': 'facet_self_efficacy'}],\n                           'name': 'Responsabilidad',\n                           'percentile': 0.981382939081159,\n                           'trait_id': 'big5_conscientiousness'},\n                       {   'category': 'personality',\n                           'children': [   {   'category': 'personality',\n                                               'name': 'Nivel de actividad',\n                                               'percentile': 0.811238479854092,\n                                               'trait_id': 'facet_activity_level'},\n                                           {   'category': 'personality',\n                                               'name': 'Seguridad en uno mismo',\n                                               'percentile': 0.7700478888504894,\n                                               'trait_id': 'facet_assertiveness'},\n                                           {   'category': 'personality',\n                                               'name': 'Alegr\u00eda',\n                                               'percentile': 0.39795321008229534,\n                                               'trait_id': 'facet_cheerfulness'},\n                                           {   'category': 'personality',\n                                               'name': 'B\u00fasqueda de emociones',\n                                               'percentile': 0.5440935758191773,\n                                               'trait_id': 'facet_excitement_seeking'},\n                                           {   'category': 'personality',\n                                               'name': 'Simpat\u00eda',\n                                               'percentile': 0.9056728872676113,\n                                               'trait_id': 'facet_friendliness'},\n                                           {   'category': 'personality',\n                                               'name': 'Sociabilidad',\n                                               'percentile': 0.743490753036703,\n                                               'trait_id': 'facet_gregariousness'}],\n                           'name': 'Extroversi\u00f3n',\n                           'percentile': 0.8264900430841786,\n                           'trait_id': 'big5_extraversion'},\n                       {   'category': 'personality',\n                           'children': [   {   'category': 'personality',\n                                               'name': 'Altruismo',\n                                               'percentile': 0.9932712230071445,\n                                               'trait_id': 'facet_altruism'},\n                                           {   'category': 'personality',\n                                               'name': 'Cooperaci\u00f3n',\n                                               'percentile': 0.9596575404714747,\n                                               'trait_id': 'facet_cooperation'},\n                                           {   'category': 'personality',\n                                               'name': 'Modestia',\n                                               'percentile': 0.265852249619164,\n                                               'trait_id': 'facet_modesty'},\n                                           {   'category': 'personality',\n                                               'name': 'Intransigencia',\n                                               'percentile': 0.9891431453300502,\n                                               'trait_id': 'facet_morality'},\n                                           {   'category': 'personality',\n                                               'name': 'Compasi\u00f3n',\n                                               'percentile': 0.9905175302118161,\n                                               'trait_id': 'facet_sympathy'},\n                                           {   'category': 'personality',\n                                               'name': 'Confianza',\n                                               'percentile': 0.83574055436943,\n                                               'trait_id': 'facet_trust'}],\n                           'name': 'Amabilidad',\n                           'percentile': 0.9951541354957976,\n                           'trait_id': 'big5_agreeableness'},\n                       {   'category': 'personality',\n                           'children': [   {   'category': 'personality',\n                                               'name': 'Vehemencia',\n                                               'percentile': 0.25401607550084215,\n                                               'trait_id': 'facet_anger'},\n                                           {   'category': 'personality',\n                                               'name': 'Tendencia a la '\n                                                       'preocupaci\u00f3n',\n                                               'percentile': 0.04529962730824172,\n                                               'trait_id': 'facet_anxiety'},\n                                           {   'category': 'personality',\n                                               'name': 'Melancol\u00eda',\n                                               'percentile': 0.024971792937415527,\n                                               'trait_id': 'facet_depression'},\n                                           {   'category': 'personality',\n                                               'name': 'Desmesura',\n                                               'percentile': 0.3536906288236492,\n                                               'trait_id': 'facet_immoderation'},\n                                           {   'category': 'personality',\n                                               'name': 'Timidez',\n                                               'percentile': 0.12386506840311279,\n                                               'trait_id': 'facet_self_consciousness'},\n                                           {   'category': 'personality',\n                                               'name': 'Susceptibilidad a la '\n                                                       'tensi\u00f3n',\n                                               'percentile': 0.6005698900809051,\n                                               'trait_id': 'facet_vulnerability'}],\n                           'name': 'Rango emocional',\n                           'percentile': 0.5364704307319784,\n                           'trait_id': 'big5_neuroticism'}],\n    'processed_language': 'es',\n    'values': [   {   'category': 'values',\n                      'name': 'Conservaci\u00f3n',\n                      'percentile': 0.9644072961775209,\n                      'trait_id': 'value_conservation'},\n                  {   'category': 'values',\n                      'name': 'Apertura al cambio',\n                      'percentile': 0.4673503799861973,\n                      'trait_id': 'value_openness_to_change'},\n                  {   'category': 'values',\n                      'name': 'Hedonismo',\n                      'percentile': 0.2187822810957611,\n                      'trait_id': 'value_hedonism'},\n                  {   'category': 'values',\n                      'name': 'Superaci\u00f3n personal',\n                      'percentile': 0.11357384296814682,\n                      'trait_id': 'value_self_enhancement'},\n                  {   'category': 'values',\n                      'name': 'Autotranscendencia',\n                      'percentile': 0.3672611272070295,\n                      'trait_id': 'value_self_transcendence'}],\n    'warnings': [],\n    'word_count': 3261}\n"
                }
            ], 
            "source": "pp.pprint(profile)"
        }, 
        {
            "source": "Encontramos\n* Necesidades (needs)\n* Personalidad (personality). Calculada como el Big5\n* Valores\n* Tendencias de consumo", 
            "cell_type": "markdown", 
            "metadata": {}
        }, 
        {
            "source": "## Como Interpretar los score?", 
            "cell_type": "markdown", 
            "metadata": {}
        }, 
        {
            "source": "## Que hacer con el perfil?", 
            "cell_type": "markdown", 
            "metadata": {}
        }, 
        {
            "source": "Graficas por supuesto", 
            "cell_type": "markdown", 
            "metadata": {}
        }, 
        {
            "execution_count": 15, 
            "cell_type": "code", 
            "metadata": {}, 
            "outputs": [], 
            "source": "big5 = pd.DataFrame(list(map( lambda x: {'percentil':x['percentile'], 'nombre': x['name']}, profile['personality'])))\nvalues = pd.DataFrame(list(map( lambda x: {'percentil':x['percentile'], 'nombre': x['name']}, profile['values'])))\nneeds = pd.DataFrame(list(map( lambda x: {'percentil':x['percentile'], 'nombre': x['name']}, profile['needs'])))"
        }, 
        {
            "execution_count": 16, 
            "cell_type": "code", 
            "metadata": {}, 
            "outputs": [
                {
                    "execution_count": 16, 
                    "metadata": {}, 
                    "data": {
                        "text/html": "<div>\n<style scoped>\n    .dataframe tbody tr th:only-of-type {\n        vertical-align: middle;\n    }\n\n    .dataframe tbody tr th {\n        vertical-align: top;\n    }\n\n    .dataframe thead th {\n        text-align: right;\n    }\n</style>\n<table border=\"1\" class=\"dataframe\">\n  <thead>\n    <tr style=\"text-align: right;\">\n      <th></th>\n      <th>nombre</th>\n      <th>percentil</th>\n    </tr>\n  </thead>\n  <tbody>\n    <tr>\n      <th>3</th>\n      <td>Amabilidad</td>\n      <td>0.995154</td>\n    </tr>\n    <tr>\n      <th>1</th>\n      <td>Responsabilidad</td>\n      <td>0.981383</td>\n    </tr>\n    <tr>\n      <th>0</th>\n      <td>Apertura a experiencias</td>\n      <td>0.981187</td>\n    </tr>\n    <tr>\n      <th>2</th>\n      <td>Extroversi\u00f3n</td>\n      <td>0.826490</td>\n    </tr>\n    <tr>\n      <th>4</th>\n      <td>Rango emocional</td>\n      <td>0.536470</td>\n    </tr>\n  </tbody>\n</table>\n</div>", 
                        "text/plain": "                    nombre  percentil\n3               Amabilidad   0.995154\n1          Responsabilidad   0.981383\n0  Apertura a experiencias   0.981187\n2             Extroversi\u00f3n   0.826490\n4          Rango emocional   0.536470"
                    }, 
                    "output_type": "execute_result"
                }
            ], 
            "source": "big5.sort_values('percentil', ascending = False)"
        }, 
        {
            "execution_count": 17, 
            "cell_type": "code", 
            "metadata": {}, 
            "outputs": [
                {
                    "execution_count": 17, 
                    "metadata": {}, 
                    "data": {
                        "text/html": "<div>\n<style scoped>\n    .dataframe tbody tr th:only-of-type {\n        vertical-align: middle;\n    }\n\n    .dataframe tbody tr th {\n        vertical-align: top;\n    }\n\n    .dataframe thead th {\n        text-align: right;\n    }\n</style>\n<table border=\"1\" class=\"dataframe\">\n  <thead>\n    <tr style=\"text-align: right;\">\n      <th></th>\n      <th>nombre</th>\n      <th>percentil</th>\n    </tr>\n  </thead>\n  <tbody>\n    <tr>\n      <th>0</th>\n      <td>Conservaci\u00f3n</td>\n      <td>0.964407</td>\n    </tr>\n    <tr>\n      <th>1</th>\n      <td>Apertura al cambio</td>\n      <td>0.467350</td>\n    </tr>\n    <tr>\n      <th>2</th>\n      <td>Hedonismo</td>\n      <td>0.218782</td>\n    </tr>\n    <tr>\n      <th>3</th>\n      <td>Superaci\u00f3n personal</td>\n      <td>0.113574</td>\n    </tr>\n    <tr>\n      <th>4</th>\n      <td>Autotranscendencia</td>\n      <td>0.367261</td>\n    </tr>\n  </tbody>\n</table>\n</div>", 
                        "text/plain": "                nombre  percentil\n0         Conservaci\u00f3n   0.964407\n1   Apertura al cambio   0.467350\n2            Hedonismo   0.218782\n3  Superaci\u00f3n personal   0.113574\n4   Autotranscendencia   0.367261"
                    }, 
                    "output_type": "execute_result"
                }
            ], 
            "source": "values"
        }, 
        {
            "execution_count": 18, 
            "cell_type": "code", 
            "metadata": {}, 
            "outputs": [
                {
                    "execution_count": 18, 
                    "metadata": {}, 
                    "data": {
                        "text/html": "<div>\n<style scoped>\n    .dataframe tbody tr th:only-of-type {\n        vertical-align: middle;\n    }\n\n    .dataframe tbody tr th {\n        vertical-align: top;\n    }\n\n    .dataframe thead th {\n        text-align: right;\n    }\n</style>\n<table border=\"1\" class=\"dataframe\">\n  <thead>\n    <tr style=\"text-align: right;\">\n      <th></th>\n      <th>nombre</th>\n      <th>percentil</th>\n    </tr>\n  </thead>\n  <tbody>\n    <tr>\n      <th>0</th>\n      <td>Desaf\u00edo</td>\n      <td>0.544392</td>\n    </tr>\n    <tr>\n      <th>1</th>\n      <td>Familiaridad</td>\n      <td>0.939634</td>\n    </tr>\n    <tr>\n      <th>2</th>\n      <td>Curiosidad</td>\n      <td>0.230437</td>\n    </tr>\n    <tr>\n      <th>3</th>\n      <td>Entusiasmo</td>\n      <td>0.387978</td>\n    </tr>\n    <tr>\n      <th>4</th>\n      <td>Armon\u00eda</td>\n      <td>0.885195</td>\n    </tr>\n    <tr>\n      <th>5</th>\n      <td>Ideal</td>\n      <td>0.089044</td>\n    </tr>\n    <tr>\n      <th>6</th>\n      <td>Libertad</td>\n      <td>0.717940</td>\n    </tr>\n    <tr>\n      <th>7</th>\n      <td>Amor</td>\n      <td>0.555348</td>\n    </tr>\n    <tr>\n      <th>8</th>\n      <td>Practicidad</td>\n      <td>0.636475</td>\n    </tr>\n    <tr>\n      <th>9</th>\n      <td>Autoexpresi\u00f3n</td>\n      <td>0.012393</td>\n    </tr>\n    <tr>\n      <th>10</th>\n      <td>Estabilidad</td>\n      <td>0.795350</td>\n    </tr>\n    <tr>\n      <th>11</th>\n      <td>Estructura</td>\n      <td>0.560271</td>\n    </tr>\n  </tbody>\n</table>\n</div>", 
                        "text/plain": "           nombre  percentil\n0         Desaf\u00edo   0.544392\n1    Familiaridad   0.939634\n2      Curiosidad   0.230437\n3      Entusiasmo   0.387978\n4         Armon\u00eda   0.885195\n5           Ideal   0.089044\n6        Libertad   0.717940\n7            Amor   0.555348\n8     Practicidad   0.636475\n9   Autoexpresi\u00f3n   0.012393\n10    Estabilidad   0.795350\n11     Estructura   0.560271"
                    }, 
                    "output_type": "execute_result"
                }
            ], 
            "source": "needs"
        }, 
        {
            "source": "Podemos usar estas features para aumentar modelos convencionales de machine learning", 
            "cell_type": "markdown", 
            "metadata": {}
        }, 
        {
            "execution_count": 19, 
            "cell_type": "code", 
            "metadata": {}, 
            "outputs": [], 
            "source": "big5['user'] = 'carlosvives'\nbig5 = big5.pivot(index='user', columns='nombre', values='percentil')"
        }, 
        {
            "execution_count": 20, 
            "cell_type": "code", 
            "metadata": {}, 
            "outputs": [
                {
                    "execution_count": 20, 
                    "metadata": {}, 
                    "data": {
                        "text/html": "<div>\n<style scoped>\n    .dataframe tbody tr th:only-of-type {\n        vertical-align: middle;\n    }\n\n    .dataframe tbody tr th {\n        vertical-align: top;\n    }\n\n    .dataframe thead th {\n        text-align: right;\n    }\n</style>\n<table border=\"1\" class=\"dataframe\">\n  <thead>\n    <tr style=\"text-align: right;\">\n      <th>nombre</th>\n      <th>Amabilidad</th>\n      <th>Apertura a experiencias</th>\n      <th>Extroversi\u00f3n</th>\n      <th>Rango emocional</th>\n      <th>Responsabilidad</th>\n    </tr>\n    <tr>\n      <th>user</th>\n      <th></th>\n      <th></th>\n      <th></th>\n      <th></th>\n      <th></th>\n    </tr>\n  </thead>\n  <tbody>\n    <tr>\n      <th>carlosvives</th>\n      <td>0.995154</td>\n      <td>0.981187</td>\n      <td>0.82649</td>\n      <td>0.53647</td>\n      <td>0.981383</td>\n    </tr>\n  </tbody>\n</table>\n</div>", 
                        "text/plain": "nombre       Amabilidad  Apertura a experiencias  Extroversi\u00f3n  \\\nuser                                                             \ncarlosvives    0.995154                 0.981187       0.82649   \n\nnombre       Rango emocional  Responsabilidad  \nuser                                           \ncarlosvives          0.53647         0.981383  "
                    }, 
                    "output_type": "execute_result"
                }
            ], 
            "source": "big5"
        }, 
        {
            "source": "Escalemos esto a mas usuarios", 
            "cell_type": "markdown", 
            "metadata": {}
        }, 
        {
            "execution_count": 21, 
            "cell_type": "code", 
            "metadata": {}, 
            "outputs": [], 
            "source": "def get_profile(user):\n    print(user)\n    tweets = api.get_user_tweets(user, count=1000)\n    body = {\"contentItems\" : tweets}\n    profile = personality_insights.profile(\n        body, \n        content_type='application/json',\n        accept_language = 'es')\n    \n    profile['user'] = user\n    \n    return profile\n\n#aspect puede ser personality, needs, values\ndef aspect_table(profile, aspect):\n    data = pd.DataFrame(list(map( lambda x: {'percentil':x['percentile'], 'nombre': x['name']}, profile[aspect])))\n    data['user'] = profile['user']\n    return data\n\ndef all_aspects_table(profile):\n    big5 = aspect_table(profile, 'personality')\n    values = aspect_table(profile, 'values')\n    needs = aspect_table(profile, 'needs')\n    \n    all_aspects = big5.append(values, ignore_index=True)\n    all_aspects = all_aspects.append(needs, ignore_index=True)\n    \n    return all_aspects"
        }, 
        {
            "execution_count": 22, 
            "cell_type": "code", 
            "metadata": {}, 
            "outputs": [], 
            "source": "usuarios = ['jamesdrodriguez', 'FALCAO', 'juanes', 'SofiaVergara', 'JBALVIN', 'carlosvives', 'jessicacediel', 'LAAZCARATE', 'susoelpaspi', 'Cuadrado','lopezandres','ninagarcia','Soymarioruiz','D_Ospina1','CaroCruzO','juanjaramilloe','PLinero','SilvestreFDC','DanielSamperO','PirryTv','cejaspobladas','marianapajon']"
        }, 
        {
            "execution_count": 23, 
            "cell_type": "code", 
            "metadata": {}, 
            "outputs": [
                {
                    "output_type": "stream", 
                    "name": "stdout", 
                    "text": "jamesdrodriguez\nFALCAO\njuanes\nSofiaVergara\nJBALVIN\ncarlosvives\njessicacediel\nLAAZCARATE\nsusoelpaspi\nCuadrado\nlopezandres\nninagarcia\nSoymarioruiz\nD_Ospina1\nCaroCruzO\njuanjaramilloe\nPLinero\nSilvestreFDC\nDanielSamperO\nPirryTv\ncejaspobladas\nmarianapajon\n"
                }
            ], 
            "source": "perfiles = list(map(get_profile, usuarios))"
        }, 
        {
            "execution_count": 24, 
            "cell_type": "code", 
            "metadata": {}, 
            "outputs": [], 
            "source": "tablas_aspectos = list(map(all_aspects_table, perfiles))"
        }, 
        {
            "execution_count": 25, 
            "cell_type": "code", 
            "metadata": {}, 
            "outputs": [
                {
                    "execution_count": 25, 
                    "metadata": {}, 
                    "data": {
                        "text/html": "<div>\n<style scoped>\n    .dataframe tbody tr th:only-of-type {\n        vertical-align: middle;\n    }\n\n    .dataframe tbody tr th {\n        vertical-align: top;\n    }\n\n    .dataframe thead th {\n        text-align: right;\n    }\n</style>\n<table border=\"1\" class=\"dataframe\">\n  <thead>\n    <tr style=\"text-align: right;\">\n      <th></th>\n      <th>nombre</th>\n      <th>percentil</th>\n      <th>user</th>\n    </tr>\n  </thead>\n  <tbody>\n    <tr>\n      <th>0</th>\n      <td>Apertura a experiencias</td>\n      <td>0.355726</td>\n      <td>SofiaVergara</td>\n    </tr>\n    <tr>\n      <th>1</th>\n      <td>Responsabilidad</td>\n      <td>0.880040</td>\n      <td>SofiaVergara</td>\n    </tr>\n    <tr>\n      <th>2</th>\n      <td>Extroversi\u00f3n</td>\n      <td>0.671151</td>\n      <td>SofiaVergara</td>\n    </tr>\n    <tr>\n      <th>3</th>\n      <td>Amabilidad</td>\n      <td>0.938145</td>\n      <td>SofiaVergara</td>\n    </tr>\n    <tr>\n      <th>4</th>\n      <td>Rango emocional</td>\n      <td>0.412475</td>\n      <td>SofiaVergara</td>\n    </tr>\n    <tr>\n      <th>5</th>\n      <td>Conservaci\u00f3n</td>\n      <td>0.954362</td>\n      <td>SofiaVergara</td>\n    </tr>\n    <tr>\n      <th>6</th>\n      <td>Apertura al cambio</td>\n      <td>0.591331</td>\n      <td>SofiaVergara</td>\n    </tr>\n    <tr>\n      <th>7</th>\n      <td>Hedonismo</td>\n      <td>0.690690</td>\n      <td>SofiaVergara</td>\n    </tr>\n    <tr>\n      <th>8</th>\n      <td>Superaci\u00f3n personal</td>\n      <td>0.871115</td>\n      <td>SofiaVergara</td>\n    </tr>\n    <tr>\n      <th>9</th>\n      <td>Autotranscendencia</td>\n      <td>0.712553</td>\n      <td>SofiaVergara</td>\n    </tr>\n    <tr>\n      <th>10</th>\n      <td>Desaf\u00edo</td>\n      <td>0.844721</td>\n      <td>SofiaVergara</td>\n    </tr>\n    <tr>\n      <th>11</th>\n      <td>Familiaridad</td>\n      <td>0.886136</td>\n      <td>SofiaVergara</td>\n    </tr>\n    <tr>\n      <th>12</th>\n      <td>Curiosidad</td>\n      <td>0.676176</td>\n      <td>SofiaVergara</td>\n    </tr>\n    <tr>\n      <th>13</th>\n      <td>Entusiasmo</td>\n      <td>0.662446</td>\n      <td>SofiaVergara</td>\n    </tr>\n    <tr>\n      <th>14</th>\n      <td>Armon\u00eda</td>\n      <td>0.924281</td>\n      <td>SofiaVergara</td>\n    </tr>\n    <tr>\n      <th>15</th>\n      <td>Ideal</td>\n      <td>0.918594</td>\n      <td>SofiaVergara</td>\n    </tr>\n    <tr>\n      <th>16</th>\n      <td>Libertad</td>\n      <td>0.678128</td>\n      <td>SofiaVergara</td>\n    </tr>\n    <tr>\n      <th>17</th>\n      <td>Amor</td>\n      <td>0.834351</td>\n      <td>SofiaVergara</td>\n    </tr>\n    <tr>\n      <th>18</th>\n      <td>Practicidad</td>\n      <td>0.435866</td>\n      <td>SofiaVergara</td>\n    </tr>\n    <tr>\n      <th>19</th>\n      <td>Autoexpresi\u00f3n</td>\n      <td>0.798761</td>\n      <td>SofiaVergara</td>\n    </tr>\n    <tr>\n      <th>20</th>\n      <td>Estabilidad</td>\n      <td>0.949273</td>\n      <td>SofiaVergara</td>\n    </tr>\n    <tr>\n      <th>21</th>\n      <td>Estructura</td>\n      <td>0.800026</td>\n      <td>SofiaVergara</td>\n    </tr>\n  </tbody>\n</table>\n</div>", 
                        "text/plain": "                     nombre  percentil          user\n0   Apertura a experiencias   0.355726  SofiaVergara\n1           Responsabilidad   0.880040  SofiaVergara\n2              Extroversi\u00f3n   0.671151  SofiaVergara\n3                Amabilidad   0.938145  SofiaVergara\n4           Rango emocional   0.412475  SofiaVergara\n5              Conservaci\u00f3n   0.954362  SofiaVergara\n6        Apertura al cambio   0.591331  SofiaVergara\n7                 Hedonismo   0.690690  SofiaVergara\n8       Superaci\u00f3n personal   0.871115  SofiaVergara\n9        Autotranscendencia   0.712553  SofiaVergara\n10                  Desaf\u00edo   0.844721  SofiaVergara\n11             Familiaridad   0.886136  SofiaVergara\n12               Curiosidad   0.676176  SofiaVergara\n13               Entusiasmo   0.662446  SofiaVergara\n14                  Armon\u00eda   0.924281  SofiaVergara\n15                    Ideal   0.918594  SofiaVergara\n16                 Libertad   0.678128  SofiaVergara\n17                     Amor   0.834351  SofiaVergara\n18              Practicidad   0.435866  SofiaVergara\n19            Autoexpresi\u00f3n   0.798761  SofiaVergara\n20              Estabilidad   0.949273  SofiaVergara\n21               Estructura   0.800026  SofiaVergara"
                    }, 
                    "output_type": "execute_result"
                }
            ], 
            "source": "tablas_aspectos[3]"
        }, 
        {
            "execution_count": 26, 
            "cell_type": "code", 
            "metadata": {}, 
            "outputs": [], 
            "source": "aspectos_juntos = reduce(lambda acc, user_table: acc.append(user_table, ignore_index=True), tablas_aspectos)"
        }, 
        {
            "execution_count": 54, 
            "cell_type": "code", 
            "metadata": {}, 
            "outputs": [
                {
                    "execution_count": 54, 
                    "metadata": {}, 
                    "data": {
                        "text/html": "<div>\n<style scoped>\n    .dataframe tbody tr th:only-of-type {\n        vertical-align: middle;\n    }\n\n    .dataframe tbody tr th {\n        vertical-align: top;\n    }\n\n    .dataframe thead th {\n        text-align: right;\n    }\n</style>\n<table border=\"1\" class=\"dataframe\">\n  <thead>\n    <tr style=\"text-align: right;\">\n      <th>nombre</th>\n      <th>user</th>\n      <th>Amabilidad</th>\n      <th>Amor</th>\n      <th>Apertura a experiencias</th>\n      <th>Apertura al cambio</th>\n      <th>Armon\u00eda</th>\n      <th>Autoexpresi\u00f3n</th>\n      <th>Autotranscendencia</th>\n      <th>Conservaci\u00f3n</th>\n      <th>Curiosidad</th>\n      <th>...</th>\n      <th>Estructura</th>\n      <th>Extroversi\u00f3n</th>\n      <th>Familiaridad</th>\n      <th>Hedonismo</th>\n      <th>Ideal</th>\n      <th>Libertad</th>\n      <th>Practicidad</th>\n      <th>Rango emocional</th>\n      <th>Responsabilidad</th>\n      <th>Superaci\u00f3n personal</th>\n    </tr>\n  </thead>\n  <tbody>\n    <tr>\n      <th>0</th>\n      <td>CaroCruzO</td>\n      <td>0.646199</td>\n      <td>0.600030</td>\n      <td>0.476340</td>\n      <td>0.384629</td>\n      <td>0.815470</td>\n      <td>0.315014</td>\n      <td>0.636343</td>\n      <td>0.966581</td>\n      <td>0.876685</td>\n      <td>...</td>\n      <td>0.910267</td>\n      <td>0.302479</td>\n      <td>0.875006</td>\n      <td>0.562297</td>\n      <td>0.552993</td>\n      <td>0.325503</td>\n      <td>0.695605</td>\n      <td>0.632731</td>\n      <td>0.664874</td>\n      <td>0.817373</td>\n    </tr>\n    <tr>\n      <th>1</th>\n      <td>Cuadrado</td>\n      <td>0.995925</td>\n      <td>0.181823</td>\n      <td>0.978906</td>\n      <td>0.075634</td>\n      <td>0.232982</td>\n      <td>0.112928</td>\n      <td>0.733983</td>\n      <td>0.943744</td>\n      <td>0.162484</td>\n      <td>...</td>\n      <td>0.247685</td>\n      <td>0.604222</td>\n      <td>0.414035</td>\n      <td>0.220988</td>\n      <td>0.219244</td>\n      <td>0.243811</td>\n      <td>0.641920</td>\n      <td>0.186415</td>\n      <td>0.971403</td>\n      <td>0.033411</td>\n    </tr>\n    <tr>\n      <th>2</th>\n      <td>D_Ospina1</td>\n      <td>0.933331</td>\n      <td>0.181435</td>\n      <td>0.896155</td>\n      <td>0.419867</td>\n      <td>0.706706</td>\n      <td>0.060610</td>\n      <td>0.690733</td>\n      <td>0.904115</td>\n      <td>0.382440</td>\n      <td>...</td>\n      <td>0.473320</td>\n      <td>0.453246</td>\n      <td>0.822147</td>\n      <td>0.187914</td>\n      <td>0.777369</td>\n      <td>0.417290</td>\n      <td>0.674567</td>\n      <td>0.586806</td>\n      <td>0.967340</td>\n      <td>0.394283</td>\n    </tr>\n    <tr>\n      <th>3</th>\n      <td>DanielSamperO</td>\n      <td>0.956985</td>\n      <td>0.385414</td>\n      <td>0.976401</td>\n      <td>0.550063</td>\n      <td>0.951305</td>\n      <td>0.138986</td>\n      <td>0.482195</td>\n      <td>0.617189</td>\n      <td>0.247907</td>\n      <td>...</td>\n      <td>0.451923</td>\n      <td>0.364495</td>\n      <td>0.755580</td>\n      <td>0.270216</td>\n      <td>0.095495</td>\n      <td>0.735233</td>\n      <td>0.708998</td>\n      <td>0.246838</td>\n      <td>0.620999</td>\n      <td>0.350755</td>\n    </tr>\n    <tr>\n      <th>4</th>\n      <td>FALCAO</td>\n      <td>0.875843</td>\n      <td>0.310915</td>\n      <td>0.663571</td>\n      <td>0.167764</td>\n      <td>0.716880</td>\n      <td>0.063734</td>\n      <td>0.291397</td>\n      <td>0.866418</td>\n      <td>0.140027</td>\n      <td>...</td>\n      <td>0.681902</td>\n      <td>0.562049</td>\n      <td>0.622512</td>\n      <td>0.202463</td>\n      <td>0.401236</td>\n      <td>0.238992</td>\n      <td>0.631271</td>\n      <td>0.483484</td>\n      <td>0.949751</td>\n      <td>0.073218</td>\n    </tr>\n  </tbody>\n</table>\n<p>5 rows \u00d7 23 columns</p>\n</div>", 
                        "text/plain": "nombre           user  Amabilidad      Amor  Apertura a experiencias  \\\n0           CaroCruzO    0.646199  0.600030                 0.476340   \n1            Cuadrado    0.995925  0.181823                 0.978906   \n2           D_Ospina1    0.933331  0.181435                 0.896155   \n3       DanielSamperO    0.956985  0.385414                 0.976401   \n4              FALCAO    0.875843  0.310915                 0.663571   \n\nnombre  Apertura al cambio   Armon\u00eda  Autoexpresi\u00f3n  Autotranscendencia  \\\n0                 0.384629  0.815470       0.315014            0.636343   \n1                 0.075634  0.232982       0.112928            0.733983   \n2                 0.419867  0.706706       0.060610            0.690733   \n3                 0.550063  0.951305       0.138986            0.482195   \n4                 0.167764  0.716880       0.063734            0.291397   \n\nnombre  Conservaci\u00f3n  Curiosidad         ...           Estructura  \\\n0           0.966581    0.876685         ...             0.910267   \n1           0.943744    0.162484         ...             0.247685   \n2           0.904115    0.382440         ...             0.473320   \n3           0.617189    0.247907         ...             0.451923   \n4           0.866418    0.140027         ...             0.681902   \n\nnombre  Extroversi\u00f3n  Familiaridad  Hedonismo     Ideal  Libertad  \\\n0           0.302479      0.875006   0.562297  0.552993  0.325503   \n1           0.604222      0.414035   0.220988  0.219244  0.243811   \n2           0.453246      0.822147   0.187914  0.777369  0.417290   \n3           0.364495      0.755580   0.270216  0.095495  0.735233   \n4           0.562049      0.622512   0.202463  0.401236  0.238992   \n\nnombre  Practicidad  Rango emocional  Responsabilidad  Superaci\u00f3n personal  \n0          0.695605         0.632731         0.664874             0.817373  \n1          0.641920         0.186415         0.971403             0.033411  \n2          0.674567         0.586806         0.967340             0.394283  \n3          0.708998         0.246838         0.620999             0.350755  \n4          0.631271         0.483484         0.949751             0.073218  \n\n[5 rows x 23 columns]"
                    }, 
                    "output_type": "execute_result"
                }
            ], 
            "source": "data_for_model = aspectos_juntos.pivot(index='user', columns='nombre', values='percentil').reset_index()\ndata_for_model.head()"
        }, 
        {
            "source": "## Clustering", 
            "cell_type": "markdown", 
            "metadata": {}
        }, 
        {
            "execution_count": 48, 
            "cell_type": "code", 
            "metadata": {}, 
            "outputs": [], 
            "source": "from scipy.cluster.hierarchy import dendrogram, linkage\nfrom matplotlib import pyplot as plt\n\nZ = linkage(data_for_model.drop(\"user\", axis=1), \"ward\")"
        }, 
        {
            "execution_count": 49, 
            "cell_type": "code", 
            "metadata": {}, 
            "outputs": [
                {
                    "output_type": "display_data", 
                    "data": {
                        "image/png": "[encoded data removed]", 
                        "text/plain": "<matplotlib.figure.Figure at 0x7f13a14ffb70>"
                    }, 
                    "metadata": {}
                }, 
                {
                    "output_type": "display_data", 
                    "data": {
                        "image/png": "[encoded data removed]", 
                        "text/plain": "<matplotlib.figure.Figure at 0x7f13974017b8>"
                    }, 
                    "metadata": {}
                }
            ], 
            "source": "plt.figure(figsize=(25, 10))\nplt.title('Hierarchical Clustering Dendrogram')\nplt.xlabel('sample index')\nplt.ylabel('distance')\ndendrogram(\n    Z,\n    leaf_rotation=90.,  # rotates the x axis labels\n    leaf_font_size=8.,  # font size for the x axis labels\n)\nplt.show()"
        }, 
        {
            "source": "De acuerdo al diagrama, 2 parece ser un numero de clusters apropiado. Aunque en realidad los datos se encuentran muy separados entre si.", 
            "cell_type": "markdown", 
            "metadata": {}
        }, 
        {
            "source": "Para obtener asignaciones de cluster facilmente, reproducimos el anterior codigo usando scikit learn, el cual asigna una etiqueta de cluster para cada observacion. Aqui colocamos como parametro 2 o 4.", 
            "cell_type": "markdown", 
            "metadata": {}
        }, 
        {
            "execution_count": 55, 
            "cell_type": "code", 
            "metadata": {}, 
            "outputs": [], 
            "source": "from sklearn.cluster import AgglomerativeClustering"
        }, 
        {
            "execution_count": 56, 
            "cell_type": "code", 
            "metadata": {}, 
            "outputs": [], 
            "source": "cluster_mod = AgglomerativeClustering(n_clusters=4, linkage='ward')"
        }, 
        {
            "execution_count": 57, 
            "cell_type": "code", 
            "metadata": {}, 
            "outputs": [
                {
                    "execution_count": 57, 
                    "metadata": {}, 
                    "data": {
                        "text/plain": "array([1, 0, 2, 0, 0, 0, 0, 2, 0, 2, 1, 1, 2, 1, 2, 0, 0, 1, 0, 2, 3, 2])"
                    }, 
                    "output_type": "execute_result"
                }
            ], 
            "source": "clusters = cluster_mod.fit_predict(data_for_model.drop(\"user\", axis=1))\nclusters"
        }, 
        {
            "execution_count": 59, 
            "cell_type": "code", 
            "metadata": {}, 
            "outputs": [
                {
                    "execution_count": 59, 
                    "metadata": {}, 
                    "data": {
                        "text/html": "<div>\n<style scoped>\n    .dataframe tbody tr th:only-of-type {\n        vertical-align: middle;\n    }\n\n    .dataframe tbody tr th {\n        vertical-align: top;\n    }\n\n    .dataframe thead th {\n        text-align: right;\n    }\n</style>\n<table border=\"1\" class=\"dataframe\">\n  <thead>\n    <tr style=\"text-align: right;\">\n      <th></th>\n      <th>cluster</th>\n      <th>user</th>\n    </tr>\n  </thead>\n  <tbody>\n    <tr>\n      <th>1</th>\n      <td>0</td>\n      <td>Cuadrado</td>\n    </tr>\n    <tr>\n      <th>18</th>\n      <td>0</td>\n      <td>lopezandres</td>\n    </tr>\n    <tr>\n      <th>3</th>\n      <td>0</td>\n      <td>DanielSamperO</td>\n    </tr>\n    <tr>\n      <th>4</th>\n      <td>0</td>\n      <td>FALCAO</td>\n    </tr>\n    <tr>\n      <th>5</th>\n      <td>0</td>\n      <td>JBALVIN</td>\n    </tr>\n    <tr>\n      <th>6</th>\n      <td>0</td>\n      <td>LAAZCARATE</td>\n    </tr>\n    <tr>\n      <th>8</th>\n      <td>0</td>\n      <td>PirryTv</td>\n    </tr>\n    <tr>\n      <th>16</th>\n      <td>0</td>\n      <td>juanes</td>\n    </tr>\n    <tr>\n      <th>15</th>\n      <td>0</td>\n      <td>jessicacediel</td>\n    </tr>\n    <tr>\n      <th>0</th>\n      <td>1</td>\n      <td>CaroCruzO</td>\n    </tr>\n    <tr>\n      <th>17</th>\n      <td>1</td>\n      <td>juanjaramilloe</td>\n    </tr>\n    <tr>\n      <th>13</th>\n      <td>1</td>\n      <td>cejaspobladas</td>\n    </tr>\n    <tr>\n      <th>10</th>\n      <td>1</td>\n      <td>SofiaVergara</td>\n    </tr>\n    <tr>\n      <th>11</th>\n      <td>1</td>\n      <td>Soymarioruiz</td>\n    </tr>\n    <tr>\n      <th>14</th>\n      <td>2</td>\n      <td>jamesdrodriguez</td>\n    </tr>\n    <tr>\n      <th>9</th>\n      <td>2</td>\n      <td>SilvestreFDC</td>\n    </tr>\n    <tr>\n      <th>7</th>\n      <td>2</td>\n      <td>PLinero</td>\n    </tr>\n    <tr>\n      <th>2</th>\n      <td>2</td>\n      <td>D_Ospina1</td>\n    </tr>\n    <tr>\n      <th>19</th>\n      <td>2</td>\n      <td>marianapajon</td>\n    </tr>\n    <tr>\n      <th>12</th>\n      <td>2</td>\n      <td>carlosvives</td>\n    </tr>\n    <tr>\n      <th>21</th>\n      <td>2</td>\n      <td>susoelpaspi</td>\n    </tr>\n    <tr>\n      <th>20</th>\n      <td>3</td>\n      <td>ninagarcia</td>\n    </tr>\n  </tbody>\n</table>\n</div>", 
                        "text/plain": "    cluster             user\n1         0         Cuadrado\n18        0      lopezandres\n3         0    DanielSamperO\n4         0           FALCAO\n5         0          JBALVIN\n6         0       LAAZCARATE\n8         0          PirryTv\n16        0           juanes\n15        0    jessicacediel\n0         1        CaroCruzO\n17        1   juanjaramilloe\n13        1    cejaspobladas\n10        1     SofiaVergara\n11        1     Soymarioruiz\n14        2  jamesdrodriguez\n9         2     SilvestreFDC\n7         2          PLinero\n2         2        D_Ospina1\n19        2     marianapajon\n12        2      carlosvives\n21        2      susoelpaspi\n20        3       ninagarcia"
                    }, 
                    "output_type": "execute_result"
                }
            ], 
            "source": "resultados = pd.DataFrame({\n    'user': data_for_model['user'],\n    'cluster': clusters\n})\n\nresultados.sort_values('cluster')"
        }, 
        {
            "execution_count": 62, 
            "cell_type": "code", 
            "metadata": {}, 
            "outputs": [], 
            "source": "?linkage"
        }, 
        {
            "execution_count": null, 
            "cell_type": "code", 
            "metadata": {}, 
            "outputs": [], 
            "source": ""
        }
    ], 
    "metadata": {
        "kernelspec": {
            "display_name": "Python 3.5 with Spark 2.1", 
            "name": "python3-spark21", 
            "language": "python"
        }, 
        "language_info": {
            "mimetype": "text/x-python", 
            "nbconvert_exporter": "python", 
            "version": "3.5.4", 
            "name": "python", 
            "file_extension": ".py", 
            "pygments_lexer": "ipython3", 
            "codemirror_mode": {
                "version": 3, 
                "name": "ipython"
            }
        }
    }, 
    "nbformat": 4
}