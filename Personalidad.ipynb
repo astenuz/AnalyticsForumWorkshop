{
    "nbformat_minor": 2, 
    "cells": [
        {
            "execution_count": 1, 
            "cell_type": "code", 
            "metadata": {}, 
            "outputs": [
                {
                    "output_type": "stream", 
                    "name": "stdout", 
                    "text": "Collecting tweepy\n  Downloading tweepy-3.6.0-py2.py3-none-any.whl\nRequirement already satisfied: PySocks>=1.5.7 in /usr/local/src/conda3_runtime.v28/home/envs/DSX-Python35-Spark/lib/python3.5/site-packages (from tweepy)\nCollecting requests-oauthlib>=0.7.0 (from tweepy)\n  Downloading requests_oauthlib-0.8.0-py2.py3-none-any.whl\nRequirement already satisfied: requests>=2.11.1 in /usr/local/src/conda3_runtime.v28/home/envs/DSX-Python35-Spark/lib/python3.5/site-packages (from tweepy)\nRequirement already satisfied: six>=1.10.0 in /usr/local/src/conda3_runtime.v28/home/envs/DSX-Python35-Spark/lib/python3.5/site-packages (from tweepy)\nCollecting oauthlib>=0.6.2 (from requests-oauthlib>=0.7.0->tweepy)\n  Downloading oauthlib-2.0.6.tar.gz (127kB)\n\u001b[K    100% |\u2588\u2588\u2588\u2588\u2588\u2588\u2588\u2588\u2588\u2588\u2588\u2588\u2588\u2588\u2588\u2588\u2588\u2588\u2588\u2588\u2588\u2588\u2588\u2588\u2588\u2588\u2588\u2588\u2588\u2588\u2588\u2588| 133kB 5.8MB/s eta 0:00:01\n\u001b[?25hRequirement already satisfied: chardet<3.1.0,>=3.0.2 in /usr/local/src/conda3_runtime.v28/home/envs/DSX-Python35-Spark/lib/python3.5/site-packages (from requests>=2.11.1->tweepy)\nRequirement already satisfied: idna<2.7,>=2.5 in /usr/local/src/conda3_runtime.v28/home/envs/DSX-Python35-Spark/lib/python3.5/site-packages (from requests>=2.11.1->tweepy)\nRequirement already satisfied: urllib3<1.23,>=1.21.1 in /usr/local/src/conda3_runtime.v28/home/envs/DSX-Python35-Spark/lib/python3.5/site-packages (from requests>=2.11.1->tweepy)\nRequirement already satisfied: certifi>=2017.4.17 in /usr/local/src/conda3_runtime.v28/home/envs/DSX-Python35-Spark/lib/python3.5/site-packages (from requests>=2.11.1->tweepy)\nBuilding wheels for collected packages: oauthlib\n  Running setup.py bdist_wheel for oauthlib ... \u001b[?25ldone\n\u001b[?25h  Stored in directory: /gpfs/fs01/user/se1f-2003f1257f20bb-7f578b9e48a9/.cache/pip/wheels/e5/46/f7/bb2fde81726295a13a71e3c6396d362ab408921c6562d6efc0\nSuccessfully built oauthlib\nInstalling collected packages: oauthlib, requests-oauthlib, tweepy\nSuccessfully installed oauthlib-2.0.6 requests-oauthlib-0.8.0 tweepy-3.6.0\nCollecting watson-developer-cloud\n  Downloading watson-developer-cloud-1.0.2.tar.gz (138kB)\n\u001b[K    100% |\u2588\u2588\u2588\u2588\u2588\u2588\u2588\u2588\u2588\u2588\u2588\u2588\u2588\u2588\u2588\u2588\u2588\u2588\u2588\u2588\u2588\u2588\u2588\u2588\u2588\u2588\u2588\u2588\u2588\u2588\u2588\u2588| 143kB 5.6MB/s eta 0:00:01\n\u001b[?25hRequirement already up-to-date: requests<3.0,>=2.0 in /usr/local/src/conda3_runtime.v28/home/envs/DSX-Python35-Spark/lib/python3.5/site-packages (from watson-developer-cloud)\nCollecting pysolr<4.0,>=3.3 (from watson-developer-cloud)\n  Downloading pysolr-3.7.0.tar.gz (44kB)\n\u001b[K    100% |\u2588\u2588\u2588\u2588\u2588\u2588\u2588\u2588\u2588\u2588\u2588\u2588\u2588\u2588\u2588\u2588\u2588\u2588\u2588\u2588\u2588\u2588\u2588\u2588\u2588\u2588\u2588\u2588\u2588\u2588\u2588\u2588| 51kB 6.8MB/s eta 0:00:01\n\u001b[?25hCollecting pyOpenSSL>=16.2.0 (from watson-developer-cloud)\n  Downloading pyOpenSSL-17.5.0-py2.py3-none-any.whl (53kB)\n\u001b[K    100% |\u2588\u2588\u2588\u2588\u2588\u2588\u2588\u2588\u2588\u2588\u2588\u2588\u2588\u2588\u2588\u2588\u2588\u2588\u2588\u2588\u2588\u2588\u2588\u2588\u2588\u2588\u2588\u2588\u2588\u2588\u2588\u2588| 61kB 7.2MB/s eta 0:00:01\n\u001b[?25hRequirement already up-to-date: python_dateutil>=2.5.3 in /usr/local/src/conda3_runtime.v28/home/envs/DSX-Python35-Spark/lib/python3.5/site-packages (from watson-developer-cloud)\nRequirement already up-to-date: chardet<3.1.0,>=3.0.2 in /usr/local/src/conda3_runtime.v28/home/envs/DSX-Python35-Spark/lib/python3.5/site-packages (from requests<3.0,>=2.0->watson-developer-cloud)\nRequirement already up-to-date: idna<2.7,>=2.5 in /usr/local/src/conda3_runtime.v28/home/envs/DSX-Python35-Spark/lib/python3.5/site-packages (from requests<3.0,>=2.0->watson-developer-cloud)\nRequirement already up-to-date: urllib3<1.23,>=1.21.1 in /usr/local/src/conda3_runtime.v28/home/envs/DSX-Python35-Spark/lib/python3.5/site-packages (from requests<3.0,>=2.0->watson-developer-cloud)\nCollecting certifi>=2017.4.17 (from requests<3.0,>=2.0->watson-developer-cloud)\n  Downloading certifi-2018.1.18-py2.py3-none-any.whl (151kB)\n\u001b[K    100% |\u2588\u2588\u2588\u2588\u2588\u2588\u2588\u2588\u2588\u2588\u2588\u2588\u2588\u2588\u2588\u2588\u2588\u2588\u2588\u2588\u2588\u2588\u2588\u2588\u2588\u2588\u2588\u2588\u2588\u2588\u2588\u2588| 153kB 5.1MB/s eta 0:00:01\n\u001b[?25hRequirement already up-to-date: six>=1.5.2 in /usr/local/src/conda3_runtime.v28/home/envs/DSX-Python35-Spark/lib/python3.5/site-packages (from pyOpenSSL>=16.2.0->watson-developer-cloud)\nCollecting cryptography>=2.1.4 (from pyOpenSSL>=16.2.0->watson-developer-cloud)\n  Downloading cryptography-2.1.4-cp35-cp35m-manylinux1_x86_64.whl (2.2MB)\n\u001b[K    100% |\u2588\u2588\u2588\u2588\u2588\u2588\u2588\u2588\u2588\u2588\u2588\u2588\u2588\u2588\u2588\u2588\u2588\u2588\u2588\u2588\u2588\u2588\u2588\u2588\u2588\u2588\u2588\u2588\u2588\u2588\u2588\u2588| 2.2MB 471kB/s eta 0:00:01\n\u001b[?25hCollecting cffi>=1.7; platform_python_implementation != \"PyPy\" (from cryptography>=2.1.4->pyOpenSSL>=16.2.0->watson-developer-cloud)\n  Downloading cffi-1.11.5-cp35-cp35m-manylinux1_x86_64.whl (420kB)\n\u001b[K    100% |\u2588\u2588\u2588\u2588\u2588\u2588\u2588\u2588\u2588\u2588\u2588\u2588\u2588\u2588\u2588\u2588\u2588\u2588\u2588\u2588\u2588\u2588\u2588\u2588\u2588\u2588\u2588\u2588\u2588\u2588\u2588\u2588| 430kB 852kB/s eta 0:00:01\n\u001b[?25hCollecting asn1crypto>=0.21.0 (from cryptography>=2.1.4->pyOpenSSL>=16.2.0->watson-developer-cloud)\n  Downloading asn1crypto-0.24.0-py2.py3-none-any.whl (101kB)\n\u001b[K    100% |\u2588\u2588\u2588\u2588\u2588\u2588\u2588\u2588\u2588\u2588\u2588\u2588\u2588\u2588\u2588\u2588\u2588\u2588\u2588\u2588\u2588\u2588\u2588\u2588\u2588\u2588\u2588\u2588\u2588\u2588\u2588\u2588| 102kB 7.2MB/s ta 0:00:01\n\u001b[?25hRequirement already up-to-date: pycparser in /usr/local/src/conda3_runtime.v28/home/envs/DSX-Python35-Spark/lib/python3.5/site-packages (from cffi>=1.7; platform_python_implementation != \"PyPy\"->cryptography>=2.1.4->pyOpenSSL>=16.2.0->watson-developer-cloud)\nBuilding wheels for collected packages: watson-developer-cloud, pysolr\n  Running setup.py bdist_wheel for watson-developer-cloud ... \u001b[?25ldone\n\u001b[?25h  Stored in directory: /gpfs/fs01/user/se1f-2003f1257f20bb-7f578b9e48a9/.cache/pip/wheels/4e/db/00/a8e227febd530f4bbc6a4b8d744cdec3400db3dd197c059054\n  Running setup.py bdist_wheel for pysolr ... \u001b[?25ldone\n\u001b[?25h  Stored in directory: /gpfs/fs01/user/se1f-2003f1257f20bb-7f578b9e48a9/.cache/pip/wheels/9a/da/43/dddb8a3089b1d74b183f1ff7244fc6e528289fd6b8e06e083f\nSuccessfully built watson-developer-cloud pysolr\nInstalling collected packages: pysolr, cffi, asn1crypto, cryptography, pyOpenSSL, watson-developer-cloud, certifi\nSuccessfully installed asn1crypto-0.24.0 certifi-2018.1.18 cffi-1.11.5 cryptography-2.1.4 pyOpenSSL-17.5.0 pysolr-3.7.0 watson-developer-cloud-1.0.2\n"
                }
            ], 
            "source": "#!pip install tweepy\n#!pip install --upgrade watson-developer-cloud"
        }, 
        {
            "source": "# Personality Insights", 
            "cell_type": "markdown", 
            "metadata": {}
        }, 
        {
            "source": "https://console.bluemix.net/docs/services/personality-insights/models.html#models", 
            "cell_type": "markdown", 
            "metadata": {}
        }, 
        {
            "source": "## Librerias", 
            "cell_type": "markdown", 
            "metadata": {}
        }, 
        {
            "execution_count": 64, 
            "cell_type": "code", 
            "metadata": {}, 
            "outputs": [], 
            "source": "import re\nimport tweepy\nimport json\nimport pprint\nimport math\nfrom tweepy import OAuthHandler\nfrom watson_developer_cloud import PersonalityInsightsV3\nimport pandas as pd\nfrom functools import reduce\n#from textblob import TextBlob"
        }, 
        {
            "source": "## Extraccion de tweets", 
            "cell_type": "markdown", 
            "metadata": {}
        }, 
        {
            "source": "Usaremos los tweets para formar el corpus de prueba que enviaremos al API.", 
            "cell_type": "markdown", 
            "metadata": {}
        }, 
        {
            "execution_count": 1, 
            "cell_type": "code", 
            "metadata": {}, 
            "outputs": [], 
            "source": "#coloque aqui Credenciales Twitter"
        }, 
        {
            "execution_count": 3, 
            "cell_type": "code", 
            "metadata": {}, 
            "outputs": [], 
            "source": "# The code was removed by DSX for sharing."
        }, 
        {
            "execution_count": 4, 
            "cell_type": "code", 
            "metadata": {}, 
            "outputs": [], 
            "source": "class TwitterClient(object):\n    '''\n    Generic Twitter Class for sentiment analysis.\n    '''\n    def __init__(self):\n        '''\n        Class constructor or initialization method.\n        '''\n        # attempt authentication\n        try:\n            # create OAuthHandler object\n            self.auth = OAuthHandler(consumer_key, consumer_secret)\n            # set access token and secret\n            self.auth.set_access_token(access_token, access_token_secret)\n            # create tweepy API object to fetch tweets\n            self.api = tweepy.API(self.auth)\n        except:\n            print(\"Error: Authentication Failed\")\n \n    def clean_tweet(self, tweet):\n        '''\n        Utility function to clean tweet text by removing links, special characters\n        using simple regex statements.\n        '''\n        return ' '.join(re.sub(\"(@[A-Za-z0-9]+)|([^0-9A-Za-z \\t])|(\\w+:\\/\\/\\S+)\", \" \", tweet).split())  \n    \n    def parse_tweets(self, fetched_tweets):\n        tweets = []\n        \n        for tweet in fetched_tweets:\n                # empty dictionary to store required params of a tweet\n                parsed_tweet = {}\n \n                # saving text of tweet\n                parsed_tweet['content'] = tweet.text\n                #parsed_tweet['clean_text'] = self.clean_tweet(tweet.text)\n                parsed_tweet['contenttype'] = 'text/plain' \n                parsed_tweet['language'] = tweet.lang\n                parsed_tweet['id'] = tweet.id_str\n                parsed_tweet['created'] = math.floor(tweet.created_at.timestamp())\n                \n                #parsed_tweet = tweet\n                \n                # appending parsed tweet to tweets list\n                if tweet.retweet_count > 0:\n                    # if tweet has retweets, ensure that it is appended only once\n                    if parsed_tweet not in tweets:\n                        tweets.append(parsed_tweet)\n                else:\n                    tweets.append(parsed_tweet)\n                    \n        return tweets\n        \n    def get_raw_tweets(self,query,count=10):        \n        try:\n            # call twitter api to fetch tweets\n            fetched_tweets = self.api.search(q = query, count = count)\n \n            # parsing tweets one by one\n            tweets = self.parse_tweets(fetched_tweets)\n \n            # return parsed tweets\n            return tweets\n \n        except tweepy.TweepError as e:\n            # print error (if any)\n            print(\"Error : \" + str(e))\n            \n    def get_user_tweets(self, userid, count):\n        tweets=[]\n        \n        try:\n            # call twitter api to fetch tweets\n            fetched_tweets = self.api.user_timeline(id=userid,count=200)\n \n            # parsing tweets one by one\n            tweets = self.parse_tweets(fetched_tweets)\n            return tweets\n \n        except tweepy.TweepError as e:\n            # print error (if any)\n            print(\"Error : \" + str(e))"
        }, 
        {
            "source": "Teniendo los metodos, podemos extraer los tweets para un id de usuario particular", 
            "cell_type": "markdown", 
            "metadata": {}
        }, 
        {
            "execution_count": 5, 
            "cell_type": "code", 
            "metadata": {
                "scrolled": true
            }, 
            "outputs": [
                {
                    "execution_count": 5, 
                    "metadata": {}, 
                    "data": {
                        "text/plain": "[{'content': 'RT @samuelazout: Los pr\u00f3ximos emprendedores del cambio social en Santa Marta. #FutbolYDesarrollo #TodosPorPescaito #EducacionDeCalidad #Jov\u2026',\n  'contenttype': 'text/plain',\n  'created': 1520422416,\n  'id': '971257538405597185',\n  'language': 'es'},\n {'content': 'los vivi completicos!!grandes!!!! https://t.co/QgFCAsP0MB',\n  'contenttype': 'text/plain',\n  'created': 1520373717,\n  'id': '971053280083226625',\n  'language': 'es'}]"
                    }, 
                    "output_type": "execute_result"
                }
            ], 
            "source": "# creating object of TwitterClient ClassBogota\napi = TwitterClient()\n# calling function to get tweets\ntweets = api.get_user_tweets('carlosvives',count=1000)\n\ntweets[1:3] #mostramos los primeros 3"
        }, 
        {
            "source": "Debemos poner los tweet en un formato especifico para enviarlos a watson", 
            "cell_type": "markdown", 
            "metadata": {}
        }, 
        {
            "execution_count": 6, 
            "cell_type": "code", 
            "metadata": {}, 
            "outputs": [], 
            "source": "body = {\"contentItems\" : tweets}"
        }, 
        {
            "source": "## Calculamos el perfil", 
            "cell_type": "markdown", 
            "metadata": {}
        }, 
        {
            "source": "Ahora que tenemos los tweet procesados, podemos usar la API de Personality Insights. Primero creamos el objeto que permite enviar peticiones.", 
            "cell_type": "markdown", 
            "metadata": {}
        }, 
        {
            "execution_count": null, 
            "cell_type": "code", 
            "metadata": {}, 
            "outputs": [], 
            "source": "#coloque aqui Credenciales NLU"
        }, 
        {
            "execution_count": null, 
            "cell_type": "code", 
            "metadata": {}, 
            "outputs": [], 
            "source": "# The code was removed by DSX for sharing."
        }, 
        {
            "execution_count": 7, 
            "cell_type": "code", 
            "metadata": {}, 
            "outputs": [], 
            "source": "personality_insights = PersonalityInsightsV3(\n    version='2016-10-20',\n    username = nlu_username,\npassword = nlu_password)"
        }, 
        {
            "source": "La funcion `profile` devuelve el perfil en formato json", 
            "cell_type": "markdown", 
            "metadata": {}
        }, 
        {
            "execution_count": 8, 
            "cell_type": "code", 
            "metadata": {}, 
            "outputs": [], 
            "source": "profile = personality_insights.profile(\n    body, \n    content_type='application/json',\n    accept_language = 'es')"
        }, 
        {
            "execution_count": 9, 
            "cell_type": "code", 
            "metadata": {}, 
            "outputs": [], 
            "source": "pp = pprint.PrettyPrinter(indent=4)"
        }, 
        {
            "execution_count": 10, 
            "cell_type": "code", 
            "metadata": {}, 
            "outputs": [
                {
                    "output_type": "stream", 
                    "name": "stdout", 
                    "text": "{   'behavior': [   {   'category': 'behavior',\n                        'name': 'Domingo',\n                        'percentage': 1.0,\n                        'trait_id': 'behavior_sunday'},\n                    {   'category': 'behavior',\n                        'name': 'Lunes',\n                        'percentage': 0.0,\n                        'trait_id': 'behavior_monday'},\n                    {   'category': 'behavior',\n                        'name': 'Martes',\n                        'percentage': 0.0,\n                        'trait_id': 'behavior_tuesday'},\n                    {   'category': 'behavior',\n                        'name': 'Mi\u00e9rcoles',\n                        'percentage': 0.0,\n                        'trait_id': 'behavior_wednesday'},\n                    {   'category': 'behavior',\n                        'name': 'Jueves',\n                        'percentage': 0.0,\n                        'trait_id': 'behavior_thursday'},\n                    {   'category': 'behavior',\n                        'name': 'Viernes',\n                        'percentage': 0.0,\n                        'trait_id': 'behavior_friday'},\n                    {   'category': 'behavior',\n                        'name': 'S\u00e1bado',\n                        'percentage': 0.0,\n                        'trait_id': 'behavior_saturday'},\n                    {   'category': 'behavior',\n                        'name': '0:00 am',\n                        'percentage': 0.0,\n                        'trait_id': 'behavior_0000'},\n                    {   'category': 'behavior',\n                        'name': '1:00 am',\n                        'percentage': 0.0,\n                        'trait_id': 'behavior_0100'},\n                    {   'category': 'behavior',\n                        'name': '2:00 am',\n                        'percentage': 0.0,\n                        'trait_id': 'behavior_0200'},\n                    {   'category': 'behavior',\n                        'name': '3:00 am',\n                        'percentage': 0.0,\n                        'trait_id': 'behavior_0300'},\n                    {   'category': 'behavior',\n                        'name': '4:00 am',\n                        'percentage': 0.0,\n                        'trait_id': 'behavior_0400'},\n                    {   'category': 'behavior',\n                        'name': '5:00 am',\n                        'percentage': 0.0,\n                        'trait_id': 'behavior_0500'},\n                    {   'category': 'behavior',\n                        'name': '6:00 am',\n                        'percentage': 0.0,\n                        'trait_id': 'behavior_0600'},\n                    {   'category': 'behavior',\n                        'name': '7:00 am',\n                        'percentage': 0.0,\n                        'trait_id': 'behavior_0700'},\n                    {   'category': 'behavior',\n                        'name': '8:00 am',\n                        'percentage': 0.0,\n                        'trait_id': 'behavior_0800'},\n                    {   'category': 'behavior',\n                        'name': '9:00 am',\n                        'percentage': 0.0,\n                        'trait_id': 'behavior_0900'},\n                    {   'category': 'behavior',\n                        'name': '10:00 am',\n                        'percentage': 0.0,\n                        'trait_id': 'behavior_1000'},\n                    {   'category': 'behavior',\n                        'name': '11:00 am',\n                        'percentage': 0.0,\n                        'trait_id': 'behavior_1100'},\n                    {   'category': 'behavior',\n                        'name': '12:00 pm',\n                        'percentage': 0.0,\n                        'trait_id': 'behavior_1200'},\n                    {   'category': 'behavior',\n                        'name': '1:00 pm',\n                        'percentage': 0.215,\n                        'trait_id': 'behavior_1300'},\n                    {   'category': 'behavior',\n                        'name': '2:00 pm',\n                        'percentage': 0.785,\n                        'trait_id': 'behavior_1400'},\n                    {   'category': 'behavior',\n                        'name': '3:00 pm',\n                        'percentage': 0.0,\n                        'trait_id': 'behavior_1500'},\n                    {   'category': 'behavior',\n                        'name': '4:00 pm',\n                        'percentage': 0.0,\n                        'trait_id': 'behavior_1600'},\n                    {   'category': 'behavior',\n                        'name': '5:00 pm',\n                        'percentage': 0.0,\n                        'trait_id': 'behavior_1700'},\n                    {   'category': 'behavior',\n                        'name': '6:00 pm',\n                        'percentage': 0.0,\n                        'trait_id': 'behavior_1800'},\n                    {   'category': 'behavior',\n                        'name': '7:00 pm',\n                        'percentage': 0.0,\n                        'trait_id': 'behavior_1900'},\n                    {   'category': 'behavior',\n                        'name': '8:00 pm',\n                        'percentage': 0.0,\n                        'trait_id': 'behavior_2000'},\n                    {   'category': 'behavior',\n                        'name': '9:00 pm',\n                        'percentage': 0.0,\n                        'trait_id': 'behavior_2100'},\n                    {   'category': 'behavior',\n                        'name': '10:00 pm',\n                        'percentage': 0.0,\n                        'trait_id': 'behavior_2200'},\n                    {   'category': 'behavior',\n                        'name': '11:00 pm',\n                        'percentage': 0.0,\n                        'trait_id': 'behavior_2300'}],\n    'needs': [   {   'category': 'needs',\n                     'name': 'Desaf\u00edo',\n                     'percentile': 0.5831993008824744,\n                     'trait_id': 'need_challenge'},\n                 {   'category': 'needs',\n                     'name': 'Familiaridad',\n                     'percentile': 0.9431819490759915,\n                     'trait_id': 'need_closeness'},\n                 {   'category': 'needs',\n                     'name': 'Curiosidad',\n                     'percentile': 0.2024112775385971,\n                     'trait_id': 'need_curiosity'},\n                 {   'category': 'needs',\n                     'name': 'Entusiasmo',\n                     'percentile': 0.40712484856906944,\n                     'trait_id': 'need_excitement'},\n                 {   'category': 'needs',\n                     'name': 'Armon\u00eda',\n                     'percentile': 0.8939829011721467,\n                     'trait_id': 'need_harmony'},\n                 {   'category': 'needs',\n                     'name': 'Ideal',\n                     'percentile': 0.09983865297315636,\n                     'trait_id': 'need_ideal'},\n                 {   'category': 'needs',\n                     'name': 'Libertad',\n                     'percentile': 0.7379880277404824,\n                     'trait_id': 'need_liberty'},\n                 {   'category': 'needs',\n                     'name': 'Amor',\n                     'percentile': 0.5549046337564767,\n                     'trait_id': 'need_love'},\n                 {   'category': 'needs',\n                     'name': 'Practicidad',\n                     'percentile': 0.6430617613603107,\n                     'trait_id': 'need_practicality'},\n                 {   'category': 'needs',\n                     'name': 'Autoexpresi\u00f3n',\n                     'percentile': 0.012692941609886599,\n                     'trait_id': 'need_self_expression'},\n                 {   'category': 'needs',\n                     'name': 'Estabilidad',\n                     'percentile': 0.7916409368824384,\n                     'trait_id': 'need_stability'},\n                 {   'category': 'needs',\n                     'name': 'Estructura',\n                     'percentile': 0.5640065069943647,\n                     'trait_id': 'need_structure'}],\n    'personality': [   {   'category': 'personality',\n                           'children': [   {   'category': 'personality',\n                                               'name': 'Audacia',\n                                               'percentile': 0.9654778194273257,\n                                               'trait_id': 'facet_adventurousness'},\n                                           {   'category': 'personality',\n                                               'name': 'Intereses art\u00edsticos',\n                                               'percentile': 0.9684471492846864,\n                                               'trait_id': 'facet_artistic_interests'},\n                                           {   'category': 'personality',\n                                               'name': 'Emocionalidad',\n                                               'percentile': 0.9661718671506856,\n                                               'trait_id': 'facet_emotionality'},\n                                           {   'category': 'personality',\n                                               'name': 'Imaginaci\u00f3n',\n                                               'percentile': 0.6967867611630636,\n                                               'trait_id': 'facet_imagination'},\n                                           {   'category': 'personality',\n                                               'name': 'Intelecto',\n                                               'percentile': 0.8951539016808303,\n                                               'trait_id': 'facet_intellect'},\n                                           {   'category': 'personality',\n                                               'name': 'Desaf\u00edo a la autoridad',\n                                               'percentile': 0.45088248797533004,\n                                               'trait_id': 'facet_liberalism'}],\n                           'name': 'Apertura a experiencias',\n                           'percentile': 0.9826878790892815,\n                           'trait_id': 'big5_openness'},\n                       {   'category': 'personality',\n                           'children': [   {   'category': 'personality',\n                                               'name': 'Necesidad de \u00e9xito',\n                                               'percentile': 0.9904095754054443,\n                                               'trait_id': 'facet_achievement_striving'},\n                                           {   'category': 'personality',\n                                               'name': 'Cautela',\n                                               'percentile': 0.8385986545927795,\n                                               'trait_id': 'facet_cautiousness'},\n                                           {   'category': 'personality',\n                                               'name': 'Obediencia',\n                                               'percentile': 0.8576371325128848,\n                                               'trait_id': 'facet_dutifulness'},\n                                           {   'category': 'personality',\n                                               'name': 'Disciplina',\n                                               'percentile': 0.7902724477466128,\n                                               'trait_id': 'facet_orderliness'},\n                                           {   'category': 'personality',\n                                               'name': 'Autodisciplina',\n                                               'percentile': 0.8982722130051423,\n                                               'trait_id': 'facet_self_discipline'},\n                                           {   'category': 'personality',\n                                               'name': 'Autoeficacia',\n                                               'percentile': 0.7213769364363076,\n                                               'trait_id': 'facet_self_efficacy'}],\n                           'name': 'Responsabilidad',\n                           'percentile': 0.9810829020898106,\n                           'trait_id': 'big5_conscientiousness'},\n                       {   'category': 'personality',\n                           'children': [   {   'category': 'personality',\n                                               'name': 'Nivel de actividad',\n                                               'percentile': 0.8296611724514327,\n                                               'trait_id': 'facet_activity_level'},\n                                           {   'category': 'personality',\n                                               'name': 'Seguridad en uno mismo',\n                                               'percentile': 0.797585098544112,\n                                               'trait_id': 'facet_assertiveness'},\n                                           {   'category': 'personality',\n                                               'name': 'Alegr\u00eda',\n                                               'percentile': 0.43747273774055273,\n                                               'trait_id': 'facet_cheerfulness'},\n                                           {   'category': 'personality',\n                                               'name': 'B\u00fasqueda de emociones',\n                                               'percentile': 0.5732925509223844,\n                                               'trait_id': 'facet_excitement_seeking'},\n                                           {   'category': 'personality',\n                                               'name': 'Simpat\u00eda',\n                                               'percentile': 0.9222735632038261,\n                                               'trait_id': 'facet_friendliness'},\n                                           {   'category': 'personality',\n                                               'name': 'Sociabilidad',\n                                               'percentile': 0.772245138337434,\n                                               'trait_id': 'facet_gregariousness'}],\n                           'name': 'Extroversi\u00f3n',\n                           'percentile': 0.8184187109281206,\n                           'trait_id': 'big5_extraversion'},\n                       {   'category': 'personality',\n                           'children': [   {   'category': 'personality',\n                                               'name': 'Altruismo',\n                                               'percentile': 0.9936919099366142,\n                                               'trait_id': 'facet_altruism'},\n                                           {   'category': 'personality',\n                                               'name': 'Cooperaci\u00f3n',\n                                               'percentile': 0.963836696404766,\n                                               'trait_id': 'facet_cooperation'},\n                                           {   'category': 'personality',\n                                               'name': 'Modestia',\n                                               'percentile': 0.2550858175443321,\n                                               'trait_id': 'facet_modesty'},\n                                           {   'category': 'personality',\n                                               'name': 'Intransigencia',\n                                               'percentile': 0.9887296907537002,\n                                               'trait_id': 'facet_morality'},\n                                           {   'category': 'personality',\n                                               'name': 'Compasi\u00f3n',\n                                               'percentile': 0.9906890501661866,\n                                               'trait_id': 'facet_sympathy'},\n                                           {   'category': 'personality',\n                                               'name': 'Confianza',\n                                               'percentile': 0.8464583812222138,\n                                               'trait_id': 'facet_trust'}],\n                           'name': 'Amabilidad',\n                           'percentile': 0.9939568870855477,\n                           'trait_id': 'big5_agreeableness'},\n                       {   'category': 'personality',\n                           'children': [   {   'category': 'personality',\n                                               'name': 'Vehemencia',\n                                               'percentile': 0.239520594889491,\n                                               'trait_id': 'facet_anger'},\n                                           {   'category': 'personality',\n                                               'name': 'Tendencia a la '\n                                                       'preocupaci\u00f3n',\n                                               'percentile': 0.04174076240274882,\n                                               'trait_id': 'facet_anxiety'},\n                                           {   'category': 'personality',\n                                               'name': 'Melancol\u00eda',\n                                               'percentile': 0.021319747345137086,\n                                               'trait_id': 'facet_depression'},\n                                           {   'category': 'personality',\n                                               'name': 'Desmesura',\n                                               'percentile': 0.38358189682419314,\n                                               'trait_id': 'facet_immoderation'},\n                                           {   'category': 'personality',\n                                               'name': 'Timidez',\n                                               'percentile': 0.10806570247934111,\n                                               'trait_id': 'facet_self_consciousness'},\n                                           {   'category': 'personality',\n                                               'name': 'Susceptibilidad a la '\n                                                       'tensi\u00f3n',\n                                               'percentile': 0.6272883221177389,\n                                               'trait_id': 'facet_vulnerability'}],\n                           'name': 'Rango emocional',\n                           'percentile': 0.47976704029934103,\n                           'trait_id': 'big5_neuroticism'}],\n    'processed_language': 'es',\n    'values': [   {   'category': 'values',\n                      'name': 'Conservaci\u00f3n',\n                      'percentile': 0.9755132510335986,\n                      'trait_id': 'value_conservation'},\n                  {   'category': 'values',\n                      'name': 'Apertura al cambio',\n                      'percentile': 0.48859850500045854,\n                      'trait_id': 'value_openness_to_change'},\n                  {   'category': 'values',\n                      'name': 'Hedonismo',\n                      'percentile': 0.22059332115071306,\n                      'trait_id': 'value_hedonism'},\n                  {   'category': 'values',\n                      'name': 'Superaci\u00f3n personal',\n                      'percentile': 0.11481004209943585,\n                      'trait_id': 'value_self_enhancement'},\n                  {   'category': 'values',\n                      'name': 'Autotranscendencia',\n                      'percentile': 0.4127044280477774,\n                      'trait_id': 'value_self_transcendence'}],\n    'warnings': [],\n    'word_count': 3294}\n"
                }
            ], 
            "source": "pp.pprint(profile)"
        }, 
        {
            "source": "Encontramos\n* Necesidades (needs)\n* Personalidad (personality). Calculada como el Big5\n* Valores\n* Tendencias de consumo", 
            "cell_type": "markdown", 
            "metadata": {}
        }, 
        {
            "source": "## Como Interpretar los score?", 
            "cell_type": "markdown", 
            "metadata": {}
        }, 
        {
            "source": "## Que hacer con el perfil?", 
            "cell_type": "markdown", 
            "metadata": {}
        }, 
        {
            "source": "Graficas por supuesto", 
            "cell_type": "markdown", 
            "metadata": {}
        }, 
        {
            "execution_count": 11, 
            "cell_type": "code", 
            "metadata": {}, 
            "outputs": [], 
            "source": "big5 = pd.DataFrame(list(map( lambda x: {'percentil':x['percentile'], 'nombre': x['name']}, profile['personality'])))\nvalues = pd.DataFrame(list(map( lambda x: {'percentil':x['percentile'], 'nombre': x['name']}, profile['values'])))\nneeds = pd.DataFrame(list(map( lambda x: {'percentil':x['percentile'], 'nombre': x['name']}, profile['needs'])))"
        }, 
        {
            "execution_count": 12, 
            "cell_type": "code", 
            "metadata": {}, 
            "outputs": [
                {
                    "execution_count": 12, 
                    "metadata": {}, 
                    "data": {
                        "text/html": "<div>\n<style scoped>\n    .dataframe tbody tr th:only-of-type {\n        vertical-align: middle;\n    }\n\n    .dataframe tbody tr th {\n        vertical-align: top;\n    }\n\n    .dataframe thead th {\n        text-align: right;\n    }\n</style>\n<table border=\"1\" class=\"dataframe\">\n  <thead>\n    <tr style=\"text-align: right;\">\n      <th></th>\n      <th>nombre</th>\n      <th>percentil</th>\n    </tr>\n  </thead>\n  <tbody>\n    <tr>\n      <th>3</th>\n      <td>Amabilidad</td>\n      <td>0.993957</td>\n    </tr>\n    <tr>\n      <th>0</th>\n      <td>Apertura a experiencias</td>\n      <td>0.982688</td>\n    </tr>\n    <tr>\n      <th>1</th>\n      <td>Responsabilidad</td>\n      <td>0.981083</td>\n    </tr>\n    <tr>\n      <th>2</th>\n      <td>Extroversi\u00f3n</td>\n      <td>0.818419</td>\n    </tr>\n    <tr>\n      <th>4</th>\n      <td>Rango emocional</td>\n      <td>0.479767</td>\n    </tr>\n  </tbody>\n</table>\n</div>", 
                        "text/plain": "                    nombre  percentil\n3               Amabilidad   0.993957\n0  Apertura a experiencias   0.982688\n1          Responsabilidad   0.981083\n2             Extroversi\u00f3n   0.818419\n4          Rango emocional   0.479767"
                    }, 
                    "output_type": "execute_result"
                }
            ], 
            "source": "big5.sort_values('percentil', ascending = False)"
        }, 
        {
            "execution_count": 13, 
            "cell_type": "code", 
            "metadata": {}, 
            "outputs": [
                {
                    "execution_count": 13, 
                    "metadata": {}, 
                    "data": {
                        "text/html": "<div>\n<style scoped>\n    .dataframe tbody tr th:only-of-type {\n        vertical-align: middle;\n    }\n\n    .dataframe tbody tr th {\n        vertical-align: top;\n    }\n\n    .dataframe thead th {\n        text-align: right;\n    }\n</style>\n<table border=\"1\" class=\"dataframe\">\n  <thead>\n    <tr style=\"text-align: right;\">\n      <th></th>\n      <th>nombre</th>\n      <th>percentil</th>\n    </tr>\n  </thead>\n  <tbody>\n    <tr>\n      <th>0</th>\n      <td>Conservaci\u00f3n</td>\n      <td>0.975513</td>\n    </tr>\n    <tr>\n      <th>1</th>\n      <td>Apertura al cambio</td>\n      <td>0.488599</td>\n    </tr>\n    <tr>\n      <th>2</th>\n      <td>Hedonismo</td>\n      <td>0.220593</td>\n    </tr>\n    <tr>\n      <th>3</th>\n      <td>Superaci\u00f3n personal</td>\n      <td>0.114810</td>\n    </tr>\n    <tr>\n      <th>4</th>\n      <td>Autotranscendencia</td>\n      <td>0.412704</td>\n    </tr>\n  </tbody>\n</table>\n</div>", 
                        "text/plain": "                nombre  percentil\n0         Conservaci\u00f3n   0.975513\n1   Apertura al cambio   0.488599\n2            Hedonismo   0.220593\n3  Superaci\u00f3n personal   0.114810\n4   Autotranscendencia   0.412704"
                    }, 
                    "output_type": "execute_result"
                }
            ], 
            "source": "values"
        }, 
        {
            "execution_count": 14, 
            "cell_type": "code", 
            "metadata": {}, 
            "outputs": [
                {
                    "execution_count": 14, 
                    "metadata": {}, 
                    "data": {
                        "text/html": "<div>\n<style scoped>\n    .dataframe tbody tr th:only-of-type {\n        vertical-align: middle;\n    }\n\n    .dataframe tbody tr th {\n        vertical-align: top;\n    }\n\n    .dataframe thead th {\n        text-align: right;\n    }\n</style>\n<table border=\"1\" class=\"dataframe\">\n  <thead>\n    <tr style=\"text-align: right;\">\n      <th></th>\n      <th>nombre</th>\n      <th>percentil</th>\n    </tr>\n  </thead>\n  <tbody>\n    <tr>\n      <th>0</th>\n      <td>Desaf\u00edo</td>\n      <td>0.583199</td>\n    </tr>\n    <tr>\n      <th>1</th>\n      <td>Familiaridad</td>\n      <td>0.943182</td>\n    </tr>\n    <tr>\n      <th>2</th>\n      <td>Curiosidad</td>\n      <td>0.202411</td>\n    </tr>\n    <tr>\n      <th>3</th>\n      <td>Entusiasmo</td>\n      <td>0.407125</td>\n    </tr>\n    <tr>\n      <th>4</th>\n      <td>Armon\u00eda</td>\n      <td>0.893983</td>\n    </tr>\n    <tr>\n      <th>5</th>\n      <td>Ideal</td>\n      <td>0.099839</td>\n    </tr>\n    <tr>\n      <th>6</th>\n      <td>Libertad</td>\n      <td>0.737988</td>\n    </tr>\n    <tr>\n      <th>7</th>\n      <td>Amor</td>\n      <td>0.554905</td>\n    </tr>\n    <tr>\n      <th>8</th>\n      <td>Practicidad</td>\n      <td>0.643062</td>\n    </tr>\n    <tr>\n      <th>9</th>\n      <td>Autoexpresi\u00f3n</td>\n      <td>0.012693</td>\n    </tr>\n    <tr>\n      <th>10</th>\n      <td>Estabilidad</td>\n      <td>0.791641</td>\n    </tr>\n    <tr>\n      <th>11</th>\n      <td>Estructura</td>\n      <td>0.564007</td>\n    </tr>\n  </tbody>\n</table>\n</div>", 
                        "text/plain": "           nombre  percentil\n0         Desaf\u00edo   0.583199\n1    Familiaridad   0.943182\n2      Curiosidad   0.202411\n3      Entusiasmo   0.407125\n4         Armon\u00eda   0.893983\n5           Ideal   0.099839\n6        Libertad   0.737988\n7            Amor   0.554905\n8     Practicidad   0.643062\n9   Autoexpresi\u00f3n   0.012693\n10    Estabilidad   0.791641\n11     Estructura   0.564007"
                    }, 
                    "output_type": "execute_result"
                }
            ], 
            "source": "needs"
        }, 
        {
            "source": "Podemos usar estas features para aumentar modelos convencionales de machine learning", 
            "cell_type": "markdown", 
            "metadata": {}
        }, 
        {
            "execution_count": 15, 
            "cell_type": "code", 
            "metadata": {}, 
            "outputs": [], 
            "source": "big5['user'] = 'carlosvives'\nbig5 = big5.pivot(index='user', columns='nombre', values='percentil')"
        }, 
        {
            "execution_count": 16, 
            "cell_type": "code", 
            "metadata": {}, 
            "outputs": [
                {
                    "execution_count": 16, 
                    "metadata": {}, 
                    "data": {
                        "text/html": "<div>\n<style scoped>\n    .dataframe tbody tr th:only-of-type {\n        vertical-align: middle;\n    }\n\n    .dataframe tbody tr th {\n        vertical-align: top;\n    }\n\n    .dataframe thead th {\n        text-align: right;\n    }\n</style>\n<table border=\"1\" class=\"dataframe\">\n  <thead>\n    <tr style=\"text-align: right;\">\n      <th>nombre</th>\n      <th>Amabilidad</th>\n      <th>Apertura a experiencias</th>\n      <th>Extroversi\u00f3n</th>\n      <th>Rango emocional</th>\n      <th>Responsabilidad</th>\n    </tr>\n    <tr>\n      <th>user</th>\n      <th></th>\n      <th></th>\n      <th></th>\n      <th></th>\n      <th></th>\n    </tr>\n  </thead>\n  <tbody>\n    <tr>\n      <th>carlosvives</th>\n      <td>0.993957</td>\n      <td>0.982688</td>\n      <td>0.818419</td>\n      <td>0.479767</td>\n      <td>0.981083</td>\n    </tr>\n  </tbody>\n</table>\n</div>", 
                        "text/plain": "nombre       Amabilidad  Apertura a experiencias  Extroversi\u00f3n  \\\nuser                                                             \ncarlosvives    0.993957                 0.982688      0.818419   \n\nnombre       Rango emocional  Responsabilidad  \nuser                                           \ncarlosvives         0.479767         0.981083  "
                    }, 
                    "output_type": "execute_result"
                }
            ], 
            "source": "big5"
        }, 
        {
            "source": "Escalemos esto a mas usuarios", 
            "cell_type": "markdown", 
            "metadata": {}
        }, 
        {
            "execution_count": 73, 
            "cell_type": "code", 
            "metadata": {}, 
            "outputs": [], 
            "source": "def get_profile(user):\n    print(user)\n    tweets = api.get_user_tweets(user, count=1000)\n    body = {\"contentItems\" : tweets}\n    profile = personality_insights.profile(\n        body, \n        content_type='application/json',\n        accept_language = 'es')\n    \n    profile['user'] = user\n    \n    return profile\n\n#aspect puede ser personality, needs, values\ndef aspect_table(profile, aspect):\n    data = pd.DataFrame(list(map( lambda x: {'percentil':x['percentile'], 'nombre': x['name']}, profile[aspect])))\n    data['user'] = profile['user']\n    return data\n\ndef all_aspects_table(profile):\n    big5 = aspect_table(profile, 'personality')\n    values = aspect_table(profile, 'values')\n    needs = aspect_table(profile, 'needs')\n    \n    all_aspects = big5.append(values, ignore_index=True)\n    all_aspects = all_aspects.append(needs, ignore_index=True)\n    \n    return all_aspects"
        }, 
        {
            "execution_count": 55, 
            "cell_type": "code", 
            "metadata": {}, 
            "outputs": [], 
            "source": "usuarios = ['jamesdrodriguez', 'FALCAO', 'juanes', 'SofiaVergara', 'JBALVIN', 'carlosvives', 'jessicacediel', 'LAAZCARATE', 'susoelpaspi', 'Cuadrado','lopezandres','ninagarcia','Soymarioruiz','D_Ospina1','CaroCruzO','juanjaramilloe','PLinero','SilvestreFDC','DanielSamperO','PirryTv','cejaspobladas','marianapajon']"
        }, 
        {
            "execution_count": 56, 
            "cell_type": "code", 
            "metadata": {}, 
            "outputs": [
                {
                    "output_type": "stream", 
                    "name": "stdout", 
                    "text": "jamesdrodriguez\nFALCAO\njuanes\nSofiaVergara\nJBALVIN\ncarlosvives\njessicacediel\nLAAZCARATE\nsusoelpaspi\nCuadrado\nlopezandres\nninagarcia\nSoymarioruiz\nD_Ospina1\nCaroCruzO\njuanjaramilloe\nPLinero\nSilvestreFDC\nDanielSamperO\nPirryTv\ncejaspobladas\nmarianapajon\n"
                }
            ], 
            "source": "perfiles = list(map(get_profile, usuarios))"
        }, 
        {
            "execution_count": 74, 
            "cell_type": "code", 
            "metadata": {}, 
            "outputs": [], 
            "source": "tablas_aspectos = list(map(all_aspects_table, perfiles))"
        }, 
        {
            "execution_count": 75, 
            "cell_type": "code", 
            "metadata": {}, 
            "outputs": [
                {
                    "execution_count": 75, 
                    "metadata": {}, 
                    "data": {
                        "text/html": "<div>\n<style scoped>\n    .dataframe tbody tr th:only-of-type {\n        vertical-align: middle;\n    }\n\n    .dataframe tbody tr th {\n        vertical-align: top;\n    }\n\n    .dataframe thead th {\n        text-align: right;\n    }\n</style>\n<table border=\"1\" class=\"dataframe\">\n  <thead>\n    <tr style=\"text-align: right;\">\n      <th></th>\n      <th>nombre</th>\n      <th>percentil</th>\n      <th>user</th>\n    </tr>\n  </thead>\n  <tbody>\n    <tr>\n      <th>0</th>\n      <td>Apertura a experiencias</td>\n      <td>0.353916</td>\n      <td>SofiaVergara</td>\n    </tr>\n    <tr>\n      <th>1</th>\n      <td>Responsabilidad</td>\n      <td>0.896977</td>\n      <td>SofiaVergara</td>\n    </tr>\n    <tr>\n      <th>2</th>\n      <td>Extroversi\u00f3n</td>\n      <td>0.707688</td>\n      <td>SofiaVergara</td>\n    </tr>\n    <tr>\n      <th>3</th>\n      <td>Amabilidad</td>\n      <td>0.935896</td>\n      <td>SofiaVergara</td>\n    </tr>\n    <tr>\n      <th>4</th>\n      <td>Rango emocional</td>\n      <td>0.435184</td>\n      <td>SofiaVergara</td>\n    </tr>\n    <tr>\n      <th>5</th>\n      <td>Conservaci\u00f3n</td>\n      <td>0.958378</td>\n      <td>SofiaVergara</td>\n    </tr>\n    <tr>\n      <th>6</th>\n      <td>Apertura al cambio</td>\n      <td>0.567176</td>\n      <td>SofiaVergara</td>\n    </tr>\n    <tr>\n      <th>7</th>\n      <td>Hedonismo</td>\n      <td>0.687010</td>\n      <td>SofiaVergara</td>\n    </tr>\n    <tr>\n      <th>8</th>\n      <td>Superaci\u00f3n personal</td>\n      <td>0.885256</td>\n      <td>SofiaVergara</td>\n    </tr>\n    <tr>\n      <th>9</th>\n      <td>Autotranscendencia</td>\n      <td>0.708221</td>\n      <td>SofiaVergara</td>\n    </tr>\n    <tr>\n      <th>10</th>\n      <td>Desaf\u00edo</td>\n      <td>0.852104</td>\n      <td>SofiaVergara</td>\n    </tr>\n    <tr>\n      <th>11</th>\n      <td>Familiaridad</td>\n      <td>0.886572</td>\n      <td>SofiaVergara</td>\n    </tr>\n    <tr>\n      <th>12</th>\n      <td>Curiosidad</td>\n      <td>0.669127</td>\n      <td>SofiaVergara</td>\n    </tr>\n    <tr>\n      <th>13</th>\n      <td>Entusiasmo</td>\n      <td>0.657098</td>\n      <td>SofiaVergara</td>\n    </tr>\n    <tr>\n      <th>14</th>\n      <td>Armon\u00eda</td>\n      <td>0.929869</td>\n      <td>SofiaVergara</td>\n    </tr>\n    <tr>\n      <th>15</th>\n      <td>Ideal</td>\n      <td>0.923912</td>\n      <td>SofiaVergara</td>\n    </tr>\n    <tr>\n      <th>16</th>\n      <td>Libertad</td>\n      <td>0.678291</td>\n      <td>SofiaVergara</td>\n    </tr>\n    <tr>\n      <th>17</th>\n      <td>Amor</td>\n      <td>0.839459</td>\n      <td>SofiaVergara</td>\n    </tr>\n    <tr>\n      <th>18</th>\n      <td>Practicidad</td>\n      <td>0.439304</td>\n      <td>SofiaVergara</td>\n    </tr>\n    <tr>\n      <th>19</th>\n      <td>Autoexpresi\u00f3n</td>\n      <td>0.797138</td>\n      <td>SofiaVergara</td>\n    </tr>\n    <tr>\n      <th>20</th>\n      <td>Estabilidad</td>\n      <td>0.955063</td>\n      <td>SofiaVergara</td>\n    </tr>\n    <tr>\n      <th>21</th>\n      <td>Estructura</td>\n      <td>0.802054</td>\n      <td>SofiaVergara</td>\n    </tr>\n  </tbody>\n</table>\n</div>", 
                        "text/plain": "                     nombre  percentil          user\n0   Apertura a experiencias   0.353916  SofiaVergara\n1           Responsabilidad   0.896977  SofiaVergara\n2              Extroversi\u00f3n   0.707688  SofiaVergara\n3                Amabilidad   0.935896  SofiaVergara\n4           Rango emocional   0.435184  SofiaVergara\n5              Conservaci\u00f3n   0.958378  SofiaVergara\n6        Apertura al cambio   0.567176  SofiaVergara\n7                 Hedonismo   0.687010  SofiaVergara\n8       Superaci\u00f3n personal   0.885256  SofiaVergara\n9        Autotranscendencia   0.708221  SofiaVergara\n10                  Desaf\u00edo   0.852104  SofiaVergara\n11             Familiaridad   0.886572  SofiaVergara\n12               Curiosidad   0.669127  SofiaVergara\n13               Entusiasmo   0.657098  SofiaVergara\n14                  Armon\u00eda   0.929869  SofiaVergara\n15                    Ideal   0.923912  SofiaVergara\n16                 Libertad   0.678291  SofiaVergara\n17                     Amor   0.839459  SofiaVergara\n18              Practicidad   0.439304  SofiaVergara\n19            Autoexpresi\u00f3n   0.797138  SofiaVergara\n20              Estabilidad   0.955063  SofiaVergara\n21               Estructura   0.802054  SofiaVergara"
                    }, 
                    "output_type": "execute_result"
                }
            ], 
            "source": "tablas_aspectos[3]"
        }, 
        {
            "execution_count": 76, 
            "cell_type": "code", 
            "metadata": {}, 
            "outputs": [], 
            "source": "aspectos_juntos = reduce(lambda acc, user_table: acc.append(user_table, ignore_index=True), tablas_aspectos)"
        }, 
        {
            "execution_count": 77, 
            "cell_type": "code", 
            "metadata": {}, 
            "outputs": [
                {
                    "execution_count": 77, 
                    "metadata": {}, 
                    "data": {
                        "text/html": "<div>\n<style scoped>\n    .dataframe tbody tr th:only-of-type {\n        vertical-align: middle;\n    }\n\n    .dataframe tbody tr th {\n        vertical-align: top;\n    }\n\n    .dataframe thead th {\n        text-align: right;\n    }\n</style>\n<table border=\"1\" class=\"dataframe\">\n  <thead>\n    <tr style=\"text-align: right;\">\n      <th>nombre</th>\n      <th>Amabilidad</th>\n      <th>Amor</th>\n      <th>Apertura a experiencias</th>\n      <th>Apertura al cambio</th>\n      <th>Armon\u00eda</th>\n      <th>Autoexpresi\u00f3n</th>\n      <th>Autotranscendencia</th>\n      <th>Conservaci\u00f3n</th>\n      <th>Curiosidad</th>\n      <th>Desaf\u00edo</th>\n      <th>...</th>\n      <th>Estructura</th>\n      <th>Extroversi\u00f3n</th>\n      <th>Familiaridad</th>\n      <th>Hedonismo</th>\n      <th>Ideal</th>\n      <th>Libertad</th>\n      <th>Practicidad</th>\n      <th>Rango emocional</th>\n      <th>Responsabilidad</th>\n      <th>Superaci\u00f3n personal</th>\n    </tr>\n    <tr>\n      <th>user</th>\n      <th></th>\n      <th></th>\n      <th></th>\n      <th></th>\n      <th></th>\n      <th></th>\n      <th></th>\n      <th></th>\n      <th></th>\n      <th></th>\n      <th></th>\n      <th></th>\n      <th></th>\n      <th></th>\n      <th></th>\n      <th></th>\n      <th></th>\n      <th></th>\n      <th></th>\n      <th></th>\n      <th></th>\n    </tr>\n  </thead>\n  <tbody>\n    <tr>\n      <th>CaroCruzO</th>\n      <td>0.646199</td>\n      <td>0.600030</td>\n      <td>0.476340</td>\n      <td>0.384629</td>\n      <td>0.815470</td>\n      <td>0.315014</td>\n      <td>0.636343</td>\n      <td>0.966581</td>\n      <td>0.876685</td>\n      <td>0.386312</td>\n      <td>...</td>\n      <td>0.910267</td>\n      <td>0.302479</td>\n      <td>0.875006</td>\n      <td>0.562297</td>\n      <td>0.552993</td>\n      <td>0.325503</td>\n      <td>0.695605</td>\n      <td>0.632731</td>\n      <td>0.664874</td>\n      <td>0.817373</td>\n    </tr>\n    <tr>\n      <th>Cuadrado</th>\n      <td>0.996011</td>\n      <td>0.166496</td>\n      <td>0.977123</td>\n      <td>0.076313</td>\n      <td>0.212282</td>\n      <td>0.113616</td>\n      <td>0.721287</td>\n      <td>0.940948</td>\n      <td>0.167151</td>\n      <td>0.419628</td>\n      <td>...</td>\n      <td>0.248241</td>\n      <td>0.593229</td>\n      <td>0.402426</td>\n      <td>0.224360</td>\n      <td>0.209515</td>\n      <td>0.247657</td>\n      <td>0.648244</td>\n      <td>0.196677</td>\n      <td>0.969324</td>\n      <td>0.030261</td>\n    </tr>\n    <tr>\n      <th>D_Ospina1</th>\n      <td>0.933331</td>\n      <td>0.181435</td>\n      <td>0.896155</td>\n      <td>0.419867</td>\n      <td>0.706706</td>\n      <td>0.060610</td>\n      <td>0.690733</td>\n      <td>0.904115</td>\n      <td>0.382440</td>\n      <td>0.821216</td>\n      <td>...</td>\n      <td>0.473320</td>\n      <td>0.453246</td>\n      <td>0.822147</td>\n      <td>0.187914</td>\n      <td>0.777369</td>\n      <td>0.417290</td>\n      <td>0.674567</td>\n      <td>0.586806</td>\n      <td>0.967340</td>\n      <td>0.394283</td>\n    </tr>\n    <tr>\n      <th>DanielSamperO</th>\n      <td>0.978665</td>\n      <td>0.322698</td>\n      <td>0.913175</td>\n      <td>0.374410</td>\n      <td>0.812881</td>\n      <td>0.291185</td>\n      <td>0.339238</td>\n      <td>0.838960</td>\n      <td>0.281041</td>\n      <td>0.517289</td>\n      <td>...</td>\n      <td>0.903781</td>\n      <td>0.199145</td>\n      <td>0.734731</td>\n      <td>0.251318</td>\n      <td>0.127966</td>\n      <td>0.711958</td>\n      <td>0.888425</td>\n      <td>0.443486</td>\n      <td>0.710033</td>\n      <td>0.251885</td>\n    </tr>\n    <tr>\n      <th>FALCAO</th>\n      <td>0.888656</td>\n      <td>0.296286</td>\n      <td>0.665561</td>\n      <td>0.166078</td>\n      <td>0.691166</td>\n      <td>0.064613</td>\n      <td>0.277354</td>\n      <td>0.847914</td>\n      <td>0.140321</td>\n      <td>0.282757</td>\n      <td>...</td>\n      <td>0.689561</td>\n      <td>0.567635</td>\n      <td>0.628117</td>\n      <td>0.205201</td>\n      <td>0.390092</td>\n      <td>0.244011</td>\n      <td>0.626617</td>\n      <td>0.495641</td>\n      <td>0.948651</td>\n      <td>0.069001</td>\n    </tr>\n  </tbody>\n</table>\n<p>5 rows \u00d7 22 columns</p>\n</div>", 
                        "text/plain": "nombre         Amabilidad      Amor  Apertura a experiencias  \\\nuser                                                           \nCaroCruzO        0.646199  0.600030                 0.476340   \nCuadrado         0.996011  0.166496                 0.977123   \nD_Ospina1        0.933331  0.181435                 0.896155   \nDanielSamperO    0.978665  0.322698                 0.913175   \nFALCAO           0.888656  0.296286                 0.665561   \n\nnombre         Apertura al cambio   Armon\u00eda  Autoexpresi\u00f3n  \\\nuser                                                         \nCaroCruzO                0.384629  0.815470       0.315014   \nCuadrado                 0.076313  0.212282       0.113616   \nD_Ospina1                0.419867  0.706706       0.060610   \nDanielSamperO            0.374410  0.812881       0.291185   \nFALCAO                   0.166078  0.691166       0.064613   \n\nnombre         Autotranscendencia  Conservaci\u00f3n  Curiosidad   Desaf\u00edo  \\\nuser                                                                    \nCaroCruzO                0.636343      0.966581    0.876685  0.386312   \nCuadrado                 0.721287      0.940948    0.167151  0.419628   \nD_Ospina1                0.690733      0.904115    0.382440  0.821216   \nDanielSamperO            0.339238      0.838960    0.281041  0.517289   \nFALCAO                   0.277354      0.847914    0.140321  0.282757   \n\nnombre                ...           Estructura  Extroversi\u00f3n  Familiaridad  \\\nuser                  ...                                                    \nCaroCruzO             ...             0.910267      0.302479      0.875006   \nCuadrado              ...             0.248241      0.593229      0.402426   \nD_Ospina1             ...             0.473320      0.453246      0.822147   \nDanielSamperO         ...             0.903781      0.199145      0.734731   \nFALCAO                ...             0.689561      0.567635      0.628117   \n\nnombre         Hedonismo     Ideal  Libertad  Practicidad  Rango emocional  \\\nuser                                                                         \nCaroCruzO       0.562297  0.552993  0.325503     0.695605         0.632731   \nCuadrado        0.224360  0.209515  0.247657     0.648244         0.196677   \nD_Ospina1       0.187914  0.777369  0.417290     0.674567         0.586806   \nDanielSamperO   0.251318  0.127966  0.711958     0.888425         0.443486   \nFALCAO          0.205201  0.390092  0.244011     0.626617         0.495641   \n\nnombre         Responsabilidad  Superaci\u00f3n personal  \nuser                                                 \nCaroCruzO             0.664874             0.817373  \nCuadrado              0.969324             0.030261  \nD_Ospina1             0.967340             0.394283  \nDanielSamperO         0.710033             0.251885  \nFALCAO                0.948651             0.069001  \n\n[5 rows x 22 columns]"
                    }, 
                    "output_type": "execute_result"
                }
            ], 
            "source": "data_for_model = aspectos_juntos.pivot(index='user', columns='nombre', values='percentil')\ndata_for_model.head()"
        }, 
        {
            "source": "", 
            "cell_type": "markdown", 
            "metadata": {}
        }
    ], 
    "metadata": {
        "kernelspec": {
            "display_name": "Python 3.5 with Spark 2.1", 
            "name": "python3-spark21", 
            "language": "python"
        }, 
        "language_info": {
            "mimetype": "text/x-python", 
            "nbconvert_exporter": "python", 
            "version": "3.5.4", 
            "name": "python", 
            "file_extension": ".py", 
            "pygments_lexer": "ipython3", 
            "codemirror_mode": {
                "version": 3, 
                "name": "ipython"
            }
        }
    }, 
    "nbformat": 4
}